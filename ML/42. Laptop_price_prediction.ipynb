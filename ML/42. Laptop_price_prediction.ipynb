{
 "cells": [
  {
   "cell_type": "code",
   "execution_count": 43,
   "id": "53850abb-d53d-472a-bcb6-c5ea4949e741",
   "metadata": {},
   "outputs": [],
   "source": [
    "import pandas as pd\n",
    "import matplotlib.pyplot as plt"
   ]
  },
  {
   "cell_type": "code",
   "execution_count": 2,
   "id": "fb7a7b28-e6b4-4aab-a487-651381a5bbb0",
   "metadata": {},
   "outputs": [],
   "source": [
    "import numpy as np"
   ]
  },
  {
   "cell_type": "code",
   "execution_count": 3,
   "id": "e82d2737-dfe0-4067-8f91-6151b9bcc6f9",
   "metadata": {},
   "outputs": [],
   "source": [
    "import seaborn as sns"
   ]
  },
  {
   "cell_type": "code",
   "execution_count": 6,
   "id": "50005e8c-d0d8-423c-ba96-c2b1a8018be7",
   "metadata": {},
   "outputs": [],
   "source": [
    "data =pd.read_csv(\"F:\\\\0. The Data Psychology\\\\4. New_Machine Learning\\\\laptop price prediction\\\\Laptop_CSV_File.csv\")"
   ]
  },
  {
   "cell_type": "code",
   "execution_count": 7,
   "id": "95f2d4ae-0048-47e0-b1ef-3903a5d622de",
   "metadata": {},
   "outputs": [],
   "source": [
    "df = data.copy()"
   ]
  },
  {
   "cell_type": "code",
   "execution_count": 9,
   "id": "3f9d296b-2f81-440f-a114-c363253f2009",
   "metadata": {},
   "outputs": [
    {
     "data": {
      "text/html": [
       "<div>\n",
       "<style scoped>\n",
       "    .dataframe tbody tr th:only-of-type {\n",
       "        vertical-align: middle;\n",
       "    }\n",
       "\n",
       "    .dataframe tbody tr th {\n",
       "        vertical-align: top;\n",
       "    }\n",
       "\n",
       "    .dataframe thead th {\n",
       "        text-align: right;\n",
       "    }\n",
       "</style>\n",
       "<table border=\"1\" class=\"dataframe\">\n",
       "  <thead>\n",
       "    <tr style=\"text-align: right;\">\n",
       "      <th></th>\n",
       "      <th>Unnamed: 0.1</th>\n",
       "      <th>Unnamed: 0</th>\n",
       "      <th>Company</th>\n",
       "      <th>TypeName</th>\n",
       "      <th>Inches</th>\n",
       "      <th>ScreenResolution</th>\n",
       "      <th>Cpu</th>\n",
       "      <th>Ram</th>\n",
       "      <th>Memory</th>\n",
       "      <th>Gpu</th>\n",
       "      <th>OpSys</th>\n",
       "      <th>Weight</th>\n",
       "      <th>Price</th>\n",
       "    </tr>\n",
       "  </thead>\n",
       "  <tbody>\n",
       "    <tr>\n",
       "      <th>0</th>\n",
       "      <td>0</td>\n",
       "      <td>0</td>\n",
       "      <td>Apple</td>\n",
       "      <td>Ultrabook</td>\n",
       "      <td>13.3</td>\n",
       "      <td>IPS Panel Retina Display 2560x1600</td>\n",
       "      <td>Intel Core i5 2.3GHz</td>\n",
       "      <td>8GB</td>\n",
       "      <td>128GB SSD</td>\n",
       "      <td>Intel Iris Plus Graphics 640</td>\n",
       "      <td>macOS</td>\n",
       "      <td>1.37kg</td>\n",
       "      <td>71378.6832</td>\n",
       "    </tr>\n",
       "    <tr>\n",
       "      <th>1</th>\n",
       "      <td>1</td>\n",
       "      <td>1</td>\n",
       "      <td>Apple</td>\n",
       "      <td>Ultrabook</td>\n",
       "      <td>13.3</td>\n",
       "      <td>1440x900</td>\n",
       "      <td>Intel Core i5 1.8GHz</td>\n",
       "      <td>8GB</td>\n",
       "      <td>128GB Flash Storage</td>\n",
       "      <td>Intel HD Graphics 6000</td>\n",
       "      <td>macOS</td>\n",
       "      <td>1.34kg</td>\n",
       "      <td>47895.5232</td>\n",
       "    </tr>\n",
       "    <tr>\n",
       "      <th>2</th>\n",
       "      <td>2</td>\n",
       "      <td>2</td>\n",
       "      <td>HP</td>\n",
       "      <td>Notebook</td>\n",
       "      <td>15.6</td>\n",
       "      <td>Full HD 1920x1080</td>\n",
       "      <td>Intel Core i5 7200U 2.5GHz</td>\n",
       "      <td>8GB</td>\n",
       "      <td>256GB SSD</td>\n",
       "      <td>Intel HD Graphics 620</td>\n",
       "      <td>No OS</td>\n",
       "      <td>1.86kg</td>\n",
       "      <td>30636.0000</td>\n",
       "    </tr>\n",
       "    <tr>\n",
       "      <th>3</th>\n",
       "      <td>3</td>\n",
       "      <td>3</td>\n",
       "      <td>Apple</td>\n",
       "      <td>Ultrabook</td>\n",
       "      <td>15.4</td>\n",
       "      <td>IPS Panel Retina Display 2880x1800</td>\n",
       "      <td>Intel Core i7 2.7GHz</td>\n",
       "      <td>16GB</td>\n",
       "      <td>512GB SSD</td>\n",
       "      <td>AMD Radeon Pro 455</td>\n",
       "      <td>macOS</td>\n",
       "      <td>1.83kg</td>\n",
       "      <td>135195.3360</td>\n",
       "    </tr>\n",
       "    <tr>\n",
       "      <th>4</th>\n",
       "      <td>4</td>\n",
       "      <td>4</td>\n",
       "      <td>Apple</td>\n",
       "      <td>Ultrabook</td>\n",
       "      <td>13.3</td>\n",
       "      <td>IPS Panel Retina Display 2560x1600</td>\n",
       "      <td>Intel Core i5 3.1GHz</td>\n",
       "      <td>8GB</td>\n",
       "      <td>256GB SSD</td>\n",
       "      <td>Intel Iris Plus Graphics 650</td>\n",
       "      <td>macOS</td>\n",
       "      <td>1.37kg</td>\n",
       "      <td>96095.8080</td>\n",
       "    </tr>\n",
       "  </tbody>\n",
       "</table>\n",
       "</div>"
      ],
      "text/plain": [
       "   Unnamed: 0.1  Unnamed: 0 Company   TypeName  Inches  \\\n",
       "0             0           0   Apple  Ultrabook    13.3   \n",
       "1             1           1   Apple  Ultrabook    13.3   \n",
       "2             2           2      HP   Notebook    15.6   \n",
       "3             3           3   Apple  Ultrabook    15.4   \n",
       "4             4           4   Apple  Ultrabook    13.3   \n",
       "\n",
       "                     ScreenResolution                         Cpu   Ram  \\\n",
       "0  IPS Panel Retina Display 2560x1600        Intel Core i5 2.3GHz   8GB   \n",
       "1                            1440x900        Intel Core i5 1.8GHz   8GB   \n",
       "2                   Full HD 1920x1080  Intel Core i5 7200U 2.5GHz   8GB   \n",
       "3  IPS Panel Retina Display 2880x1800        Intel Core i7 2.7GHz  16GB   \n",
       "4  IPS Panel Retina Display 2560x1600        Intel Core i5 3.1GHz   8GB   \n",
       "\n",
       "                Memory                           Gpu  OpSys  Weight  \\\n",
       "0            128GB SSD  Intel Iris Plus Graphics 640  macOS  1.37kg   \n",
       "1  128GB Flash Storage        Intel HD Graphics 6000  macOS  1.34kg   \n",
       "2            256GB SSD         Intel HD Graphics 620  No OS  1.86kg   \n",
       "3            512GB SSD            AMD Radeon Pro 455  macOS  1.83kg   \n",
       "4            256GB SSD  Intel Iris Plus Graphics 650  macOS  1.37kg   \n",
       "\n",
       "         Price  \n",
       "0   71378.6832  \n",
       "1   47895.5232  \n",
       "2   30636.0000  \n",
       "3  135195.3360  \n",
       "4   96095.8080  "
      ]
     },
     "execution_count": 9,
     "metadata": {},
     "output_type": "execute_result"
    }
   ],
   "source": [
    "df.head()"
   ]
  },
  {
   "cell_type": "code",
   "execution_count": 11,
   "id": "bcb03527-c1ff-49a5-8b6e-ac3ee1bfff43",
   "metadata": {},
   "outputs": [],
   "source": [
    "df= df.iloc[:, 2:]"
   ]
  },
  {
   "cell_type": "code",
   "execution_count": 12,
   "id": "5a4051dc-e143-432d-9fcd-cee4eab7e07d",
   "metadata": {},
   "outputs": [
    {
     "data": {
      "text/html": [
       "<div>\n",
       "<style scoped>\n",
       "    .dataframe tbody tr th:only-of-type {\n",
       "        vertical-align: middle;\n",
       "    }\n",
       "\n",
       "    .dataframe tbody tr th {\n",
       "        vertical-align: top;\n",
       "    }\n",
       "\n",
       "    .dataframe thead th {\n",
       "        text-align: right;\n",
       "    }\n",
       "</style>\n",
       "<table border=\"1\" class=\"dataframe\">\n",
       "  <thead>\n",
       "    <tr style=\"text-align: right;\">\n",
       "      <th></th>\n",
       "      <th>Company</th>\n",
       "      <th>TypeName</th>\n",
       "      <th>Inches</th>\n",
       "      <th>ScreenResolution</th>\n",
       "      <th>Cpu</th>\n",
       "      <th>Ram</th>\n",
       "      <th>Memory</th>\n",
       "      <th>Gpu</th>\n",
       "      <th>OpSys</th>\n",
       "      <th>Weight</th>\n",
       "      <th>Price</th>\n",
       "    </tr>\n",
       "  </thead>\n",
       "  <tbody>\n",
       "    <tr>\n",
       "      <th>0</th>\n",
       "      <td>Apple</td>\n",
       "      <td>Ultrabook</td>\n",
       "      <td>13.3</td>\n",
       "      <td>IPS Panel Retina Display 2560x1600</td>\n",
       "      <td>Intel Core i5 2.3GHz</td>\n",
       "      <td>8GB</td>\n",
       "      <td>128GB SSD</td>\n",
       "      <td>Intel Iris Plus Graphics 640</td>\n",
       "      <td>macOS</td>\n",
       "      <td>1.37kg</td>\n",
       "      <td>71378.6832</td>\n",
       "    </tr>\n",
       "    <tr>\n",
       "      <th>1</th>\n",
       "      <td>Apple</td>\n",
       "      <td>Ultrabook</td>\n",
       "      <td>13.3</td>\n",
       "      <td>1440x900</td>\n",
       "      <td>Intel Core i5 1.8GHz</td>\n",
       "      <td>8GB</td>\n",
       "      <td>128GB Flash Storage</td>\n",
       "      <td>Intel HD Graphics 6000</td>\n",
       "      <td>macOS</td>\n",
       "      <td>1.34kg</td>\n",
       "      <td>47895.5232</td>\n",
       "    </tr>\n",
       "    <tr>\n",
       "      <th>2</th>\n",
       "      <td>HP</td>\n",
       "      <td>Notebook</td>\n",
       "      <td>15.6</td>\n",
       "      <td>Full HD 1920x1080</td>\n",
       "      <td>Intel Core i5 7200U 2.5GHz</td>\n",
       "      <td>8GB</td>\n",
       "      <td>256GB SSD</td>\n",
       "      <td>Intel HD Graphics 620</td>\n",
       "      <td>No OS</td>\n",
       "      <td>1.86kg</td>\n",
       "      <td>30636.0000</td>\n",
       "    </tr>\n",
       "    <tr>\n",
       "      <th>3</th>\n",
       "      <td>Apple</td>\n",
       "      <td>Ultrabook</td>\n",
       "      <td>15.4</td>\n",
       "      <td>IPS Panel Retina Display 2880x1800</td>\n",
       "      <td>Intel Core i7 2.7GHz</td>\n",
       "      <td>16GB</td>\n",
       "      <td>512GB SSD</td>\n",
       "      <td>AMD Radeon Pro 455</td>\n",
       "      <td>macOS</td>\n",
       "      <td>1.83kg</td>\n",
       "      <td>135195.3360</td>\n",
       "    </tr>\n",
       "    <tr>\n",
       "      <th>4</th>\n",
       "      <td>Apple</td>\n",
       "      <td>Ultrabook</td>\n",
       "      <td>13.3</td>\n",
       "      <td>IPS Panel Retina Display 2560x1600</td>\n",
       "      <td>Intel Core i5 3.1GHz</td>\n",
       "      <td>8GB</td>\n",
       "      <td>256GB SSD</td>\n",
       "      <td>Intel Iris Plus Graphics 650</td>\n",
       "      <td>macOS</td>\n",
       "      <td>1.37kg</td>\n",
       "      <td>96095.8080</td>\n",
       "    </tr>\n",
       "  </tbody>\n",
       "</table>\n",
       "</div>"
      ],
      "text/plain": [
       "  Company   TypeName  Inches                    ScreenResolution  \\\n",
       "0   Apple  Ultrabook    13.3  IPS Panel Retina Display 2560x1600   \n",
       "1   Apple  Ultrabook    13.3                            1440x900   \n",
       "2      HP   Notebook    15.6                   Full HD 1920x1080   \n",
       "3   Apple  Ultrabook    15.4  IPS Panel Retina Display 2880x1800   \n",
       "4   Apple  Ultrabook    13.3  IPS Panel Retina Display 2560x1600   \n",
       "\n",
       "                          Cpu   Ram               Memory  \\\n",
       "0        Intel Core i5 2.3GHz   8GB            128GB SSD   \n",
       "1        Intel Core i5 1.8GHz   8GB  128GB Flash Storage   \n",
       "2  Intel Core i5 7200U 2.5GHz   8GB            256GB SSD   \n",
       "3        Intel Core i7 2.7GHz  16GB            512GB SSD   \n",
       "4        Intel Core i5 3.1GHz   8GB            256GB SSD   \n",
       "\n",
       "                            Gpu  OpSys  Weight        Price  \n",
       "0  Intel Iris Plus Graphics 640  macOS  1.37kg   71378.6832  \n",
       "1        Intel HD Graphics 6000  macOS  1.34kg   47895.5232  \n",
       "2         Intel HD Graphics 620  No OS  1.86kg   30636.0000  \n",
       "3            AMD Radeon Pro 455  macOS  1.83kg  135195.3360  \n",
       "4  Intel Iris Plus Graphics 650  macOS  1.37kg   96095.8080  "
      ]
     },
     "execution_count": 12,
     "metadata": {},
     "output_type": "execute_result"
    }
   ],
   "source": [
    "df.head()"
   ]
  },
  {
   "cell_type": "code",
   "execution_count": 14,
   "id": "628f2a8c-908f-4f9d-b7cc-095b1d655444",
   "metadata": {},
   "outputs": [
    {
     "data": {
      "text/plain": [
       "Index(['Company', 'TypeName', 'Inches', 'ScreenResolution', 'Cpu', 'Ram',\n",
       "       'Memory', 'Gpu', 'OpSys', 'Weight', 'Price'],\n",
       "      dtype='object')"
      ]
     },
     "execution_count": 14,
     "metadata": {},
     "output_type": "execute_result"
    }
   ],
   "source": [
    "df.columns"
   ]
  },
  {
   "cell_type": "code",
   "execution_count": 15,
   "id": "ed45e7ab-96ee-4f41-a643-ee5c27435199",
   "metadata": {},
   "outputs": [
    {
     "data": {
      "text/plain": [
       "Company             0\n",
       "TypeName            0\n",
       "Inches              0\n",
       "ScreenResolution    0\n",
       "Cpu                 0\n",
       "Ram                 0\n",
       "Memory              0\n",
       "Gpu                 0\n",
       "OpSys               0\n",
       "Weight              0\n",
       "Price               0\n",
       "dtype: int64"
      ]
     },
     "execution_count": 15,
     "metadata": {},
     "output_type": "execute_result"
    }
   ],
   "source": [
    "df.isnull().sum()"
   ]
  },
  {
   "cell_type": "code",
   "execution_count": 17,
   "id": "c1362852-aacf-4935-a7e2-63fb7abb7c33",
   "metadata": {},
   "outputs": [
    {
     "data": {
      "text/plain": [
       "29"
      ]
     },
     "execution_count": 17,
     "metadata": {},
     "output_type": "execute_result"
    }
   ],
   "source": [
    "df.duplicated().sum()"
   ]
  },
  {
   "cell_type": "code",
   "execution_count": 18,
   "id": "faaf3b2b-bc55-40e4-b8ba-675de3460ca8",
   "metadata": {},
   "outputs": [
    {
     "name": "stdout",
     "output_type": "stream",
     "text": [
      "<class 'pandas.core.frame.DataFrame'>\n",
      "RangeIndex: 1303 entries, 0 to 1302\n",
      "Data columns (total 11 columns):\n",
      " #   Column            Non-Null Count  Dtype  \n",
      "---  ------            --------------  -----  \n",
      " 0   Company           1303 non-null   object \n",
      " 1   TypeName          1303 non-null   object \n",
      " 2   Inches            1303 non-null   float64\n",
      " 3   ScreenResolution  1303 non-null   object \n",
      " 4   Cpu               1303 non-null   object \n",
      " 5   Ram               1303 non-null   object \n",
      " 6   Memory            1303 non-null   object \n",
      " 7   Gpu               1303 non-null   object \n",
      " 8   OpSys             1303 non-null   object \n",
      " 9   Weight            1303 non-null   object \n",
      " 10  Price             1303 non-null   float64\n",
      "dtypes: float64(2), object(9)\n",
      "memory usage: 112.1+ KB\n"
     ]
    }
   ],
   "source": [
    "df.info()"
   ]
  },
  {
   "cell_type": "code",
   "execution_count": 19,
   "id": "6ca21fe7-4639-41a9-baec-79e4e00c3546",
   "metadata": {},
   "outputs": [],
   "source": [
    "catvars = df.select_dtypes(include=['object']).columns"
   ]
  },
  {
   "cell_type": "code",
   "execution_count": 20,
   "id": "503b721e-010c-40dd-816a-f9a876d96ac3",
   "metadata": {},
   "outputs": [
    {
     "data": {
      "text/plain": [
       "Index(['Company', 'TypeName', 'ScreenResolution', 'Cpu', 'Ram', 'Memory',\n",
       "       'Gpu', 'OpSys', 'Weight'],\n",
       "      dtype='object')"
      ]
     },
     "execution_count": 20,
     "metadata": {},
     "output_type": "execute_result"
    }
   ],
   "source": [
    "catvars"
   ]
  },
  {
   "cell_type": "code",
   "execution_count": 21,
   "id": "b568b6f8-2552-45ba-a26b-2e8061d0a4cd",
   "metadata": {},
   "outputs": [],
   "source": [
    "numvars = df.select_dtypes(include = ['int32','int64','float32','float64']).columns"
   ]
  },
  {
   "cell_type": "code",
   "execution_count": 22,
   "id": "456fbae0-60a6-4d8a-8617-25a80716e87d",
   "metadata": {},
   "outputs": [
    {
     "data": {
      "text/plain": [
       "Index(['Inches', 'Price'], dtype='object')"
      ]
     },
     "execution_count": 22,
     "metadata": {},
     "output_type": "execute_result"
    }
   ],
   "source": [
    "numvars"
   ]
  },
  {
   "cell_type": "code",
   "execution_count": 23,
   "id": "6f191e59-5730-4f28-8832-372d54a9a0e9",
   "metadata": {},
   "outputs": [],
   "source": [
    "def uniquevals(col):\n",
    "    print(f'Details of the particular col {col} is : {df[col].unique()}')"
   ]
  },
  {
   "cell_type": "code",
   "execution_count": 24,
   "id": "e268f882-7882-4ce3-be5c-1546f7daf778",
   "metadata": {},
   "outputs": [],
   "source": [
    "def valuecounts(col):\n",
    "    print(f'Valuecounts of the particular col {col} is : {df[col].value_counts()}')"
   ]
  },
  {
   "cell_type": "code",
   "execution_count": 25,
   "id": "268bcfba-2328-407f-b50f-4d2e9607fee4",
   "metadata": {},
   "outputs": [
    {
     "name": "stdout",
     "output_type": "stream",
     "text": [
      "Details of the particular col Company is : ['Apple' 'HP' 'Acer' 'Asus' 'Dell' 'Lenovo' 'Chuwi' 'MSI' 'Microsoft'\n",
      " 'Toshiba' 'Huawei' 'Xiaomi' 'Vero' 'Razer' 'Mediacom' 'Samsung' 'Google'\n",
      " 'Fujitsu' 'LG']\n",
      "-----------------------------------\n",
      "Details of the particular col TypeName is : ['Ultrabook' 'Notebook' 'Netbook' 'Gaming' '2 in 1 Convertible'\n",
      " 'Workstation']\n",
      "-----------------------------------\n",
      "Details of the particular col Inches is : [13.3 15.6 15.4 14.  12.  11.6 17.3 10.1 13.5 12.5 13.  18.4 13.9 12.3\n",
      " 17.  15.  14.1 11.3]\n",
      "-----------------------------------\n",
      "Details of the particular col ScreenResolution is : ['IPS Panel Retina Display 2560x1600' '1440x900' 'Full HD 1920x1080'\n",
      " 'IPS Panel Retina Display 2880x1800' '1366x768'\n",
      " 'IPS Panel Full HD 1920x1080' 'IPS Panel Retina Display 2304x1440'\n",
      " 'IPS Panel Full HD / Touchscreen 1920x1080'\n",
      " 'Full HD / Touchscreen 1920x1080' 'Touchscreen / Quad HD+ 3200x1800'\n",
      " 'IPS Panel Touchscreen 1920x1200' 'Touchscreen 2256x1504'\n",
      " 'Quad HD+ / Touchscreen 3200x1800' 'IPS Panel 1366x768'\n",
      " 'IPS Panel 4K Ultra HD / Touchscreen 3840x2160'\n",
      " 'IPS Panel Full HD 2160x1440' '4K Ultra HD / Touchscreen 3840x2160'\n",
      " 'Touchscreen 2560x1440' '1600x900' 'IPS Panel 4K Ultra HD 3840x2160'\n",
      " '4K Ultra HD 3840x2160' 'Touchscreen 1366x768'\n",
      " 'IPS Panel Full HD 1366x768' 'IPS Panel 2560x1440'\n",
      " 'IPS Panel Full HD 2560x1440' 'IPS Panel Retina Display 2736x1824'\n",
      " 'Touchscreen 2400x1600' '2560x1440' 'IPS Panel Quad HD+ 2560x1440'\n",
      " 'IPS Panel Quad HD+ 3200x1800'\n",
      " 'IPS Panel Quad HD+ / Touchscreen 3200x1800'\n",
      " 'IPS Panel Touchscreen 1366x768' '1920x1080'\n",
      " 'IPS Panel Full HD 1920x1200'\n",
      " 'IPS Panel Touchscreen / 4K Ultra HD 3840x2160'\n",
      " 'IPS Panel Touchscreen 2560x1440' 'Touchscreen / Full HD 1920x1080'\n",
      " 'Quad HD+ 3200x1800' 'Touchscreen / 4K Ultra HD 3840x2160'\n",
      " 'IPS Panel Touchscreen 2400x1600']\n",
      "-----------------------------------\n",
      "Details of the particular col Cpu is : ['Intel Core i5 2.3GHz' 'Intel Core i5 1.8GHz'\n",
      " 'Intel Core i5 7200U 2.5GHz' 'Intel Core i7 2.7GHz'\n",
      " 'Intel Core i5 3.1GHz' 'AMD A9-Series 9420 3GHz' 'Intel Core i7 2.2GHz'\n",
      " 'Intel Core i7 8550U 1.8GHz' 'Intel Core i5 8250U 1.6GHz'\n",
      " 'Intel Core i3 6006U 2GHz' 'Intel Core i7 2.8GHz'\n",
      " 'Intel Core M m3 1.2GHz' 'Intel Core i7 7500U 2.7GHz'\n",
      " 'Intel Core i7 2.9GHz' 'Intel Core i3 7100U 2.4GHz'\n",
      " 'Intel Atom x5-Z8350 1.44GHz' 'Intel Core i5 7300HQ 2.5GHz'\n",
      " 'AMD E-Series E2-9000e 1.5GHz' 'Intel Core i5 1.6GHz'\n",
      " 'Intel Core i7 8650U 1.9GHz' 'Intel Atom x5-Z8300 1.44GHz'\n",
      " 'AMD E-Series E2-6110 1.5GHz' 'AMD A6-Series 9220 2.5GHz'\n",
      " 'Intel Celeron Dual Core N3350 1.1GHz' 'Intel Core i3 7130U 2.7GHz'\n",
      " 'Intel Core i7 7700HQ 2.8GHz' 'Intel Core i5 2.0GHz'\n",
      " 'AMD Ryzen 1700 3GHz' 'Intel Pentium Quad Core N4200 1.1GHz'\n",
      " 'Intel Atom x5-Z8550 1.44GHz' 'Intel Celeron Dual Core N3060 1.6GHz'\n",
      " 'Intel Core i5 1.3GHz' 'AMD FX 9830P 3GHz' 'Intel Core i7 7560U 2.4GHz'\n",
      " 'AMD E-Series 6110 1.5GHz' 'Intel Core i5 6200U 2.3GHz'\n",
      " 'Intel Core M 6Y75 1.2GHz' 'Intel Core i5 7500U 2.7GHz'\n",
      " 'Intel Core i3 6006U 2.2GHz' 'AMD A6-Series 9220 2.9GHz'\n",
      " 'Intel Core i7 6920HQ 2.9GHz' 'Intel Core i5 7Y54 1.2GHz'\n",
      " 'Intel Core i7 7820HK 2.9GHz' 'Intel Xeon E3-1505M V6 3GHz'\n",
      " 'Intel Core i7 6500U 2.5GHz' 'AMD E-Series 9000e 1.5GHz'\n",
      " 'AMD A10-Series A10-9620P 2.5GHz' 'AMD A6-Series A6-9220 2.5GHz'\n",
      " 'Intel Core i5 2.9GHz' 'Intel Core i7 6600U 2.6GHz'\n",
      " 'Intel Core i3 6006U 2.0GHz' 'Intel Celeron Dual Core 3205U 1.5GHz'\n",
      " 'Intel Core i7 7820HQ 2.9GHz' 'AMD A10-Series 9600P 2.4GHz'\n",
      " 'Intel Core i7 7600U 2.8GHz' 'AMD A8-Series 7410 2.2GHz'\n",
      " 'Intel Celeron Dual Core 3855U 1.6GHz'\n",
      " 'Intel Pentium Quad Core N3710 1.6GHz' 'AMD A12-Series 9720P 2.7GHz'\n",
      " 'Intel Core i5 7300U 2.6GHz' 'AMD A12-Series 9720P 3.6GHz'\n",
      " 'Intel Celeron Quad Core N3450 1.1GHz'\n",
      " 'Intel Celeron Dual Core N3060 1.60GHz' 'Intel Core i5 6440HQ 2.6GHz'\n",
      " 'Intel Core i7 6820HQ 2.7GHz' 'AMD Ryzen 1600 3.2GHz'\n",
      " 'Intel Core i7 7Y75 1.3GHz' 'Intel Core i5 7440HQ 2.8GHz'\n",
      " 'Intel Core i7 7660U 2.5GHz' 'Intel Core i7 7700HQ 2.7GHz'\n",
      " 'Intel Core M m3-7Y30 2.2GHz' 'Intel Core i5 7Y57 1.2GHz'\n",
      " 'Intel Core i7 6700HQ 2.6GHz' 'Intel Core i3 6100U 2.3GHz'\n",
      " 'AMD A10-Series 9620P 2.5GHz' 'AMD E-Series 7110 1.8GHz'\n",
      " 'Intel Celeron Dual Core N3350 2.0GHz' 'AMD A9-Series A9-9420 3GHz'\n",
      " 'Intel Core i7 6820HK 2.7GHz' 'Intel Core M 7Y30 1.0GHz'\n",
      " 'Intel Xeon E3-1535M v6 3.1GHz' 'Intel Celeron Quad Core N3160 1.6GHz'\n",
      " 'Intel Core i5 6300U 2.4GHz' 'Intel Core i3 6100U 2.1GHz'\n",
      " 'AMD E-Series E2-9000 2.2GHz' 'Intel Celeron Dual Core N3050 1.6GHz'\n",
      " 'Intel Core M M3-6Y30 0.9GHz' 'AMD A9-Series 9420 2.9GHz'\n",
      " 'Intel Core i5 6300HQ 2.3GHz' 'AMD A6-Series 7310 2GHz'\n",
      " 'Intel Atom Z8350 1.92GHz' 'Intel Xeon E3-1535M v5 2.9GHz'\n",
      " 'Intel Core i5 6260U 1.8GHz' 'Intel Pentium Dual Core N4200 1.1GHz'\n",
      " 'Intel Celeron Quad Core N3710 1.6GHz' 'Intel Core M 1.2GHz'\n",
      " 'AMD A12-Series 9700P 2.5GHz' 'Intel Core i7 7500U 2.5GHz'\n",
      " 'Intel Pentium Dual Core 4405U 2.1GHz' 'AMD A4-Series 7210 2.2GHz'\n",
      " 'Intel Core i7 6560U 2.2GHz' 'Intel Core M m7-6Y75 1.2GHz'\n",
      " 'AMD FX 8800P 2.1GHz' 'Intel Core M M7-6Y75 1.2GHz'\n",
      " 'Intel Core i5 7200U 2.50GHz' 'Intel Core i5 7200U 2.70GHz'\n",
      " 'Intel Atom X5-Z8350 1.44GHz' 'Intel Core i5 7200U 2.7GHz'\n",
      " 'Intel Core M 1.1GHz' 'Intel Pentium Dual Core 4405Y 1.5GHz'\n",
      " 'Intel Pentium Quad Core N3700 1.6GHz' 'Intel Core M 6Y54 1.1GHz'\n",
      " 'Intel Core i7 6500U 2.50GHz' 'Intel Celeron Dual Core N3350 2GHz'\n",
      " 'Samsung Cortex A72&A53 2.0GHz' 'AMD E-Series 9000 2.2GHz'\n",
      " 'Intel Core M 6Y30 0.9GHz' 'AMD A9-Series 9410 2.9GHz']\n",
      "-----------------------------------\n",
      "Details of the particular col Ram is : ['8GB' '16GB' '4GB' '2GB' '12GB' '6GB' '32GB' '24GB' '64GB']\n",
      "-----------------------------------\n",
      "Details of the particular col Memory is : ['128GB SSD' '128GB Flash Storage' '256GB SSD' '512GB SSD' '500GB HDD'\n",
      " '256GB Flash Storage' '1TB HDD' '32GB Flash Storage'\n",
      " '128GB SSD +  1TB HDD' '256GB SSD +  256GB SSD' '64GB Flash Storage'\n",
      " '256GB SSD +  1TB HDD' '256GB SSD +  2TB HDD' '32GB SSD' '2TB HDD'\n",
      " '64GB SSD' '1.0TB Hybrid' '512GB SSD +  1TB HDD' '1TB SSD'\n",
      " '256GB SSD +  500GB HDD' '128GB SSD +  2TB HDD' '512GB SSD +  512GB SSD'\n",
      " '16GB SSD' '16GB Flash Storage' '512GB SSD +  256GB SSD'\n",
      " '512GB SSD +  2TB HDD' '64GB Flash Storage +  1TB HDD' '180GB SSD'\n",
      " '1TB HDD +  1TB HDD' '32GB HDD' '1TB SSD +  1TB HDD'\n",
      " '512GB Flash Storage' '128GB HDD' '240GB SSD' '8GB SSD' '508GB Hybrid'\n",
      " '1.0TB HDD' '512GB SSD +  1.0TB Hybrid' '256GB SSD +  1.0TB Hybrid']\n",
      "-----------------------------------\n",
      "Details of the particular col Gpu is : ['Intel Iris Plus Graphics 640' 'Intel HD Graphics 6000'\n",
      " 'Intel HD Graphics 620' 'AMD Radeon Pro 455'\n",
      " 'Intel Iris Plus Graphics 650' 'AMD Radeon R5' 'Intel Iris Pro Graphics'\n",
      " 'Nvidia GeForce MX150' 'Intel UHD Graphics 620' 'Intel HD Graphics 520'\n",
      " 'AMD Radeon Pro 555' 'AMD Radeon R5 M430' 'Intel HD Graphics 615'\n",
      " 'AMD Radeon Pro 560' 'Nvidia GeForce 940MX' 'Intel HD Graphics 400'\n",
      " 'Nvidia GeForce GTX 1050' 'AMD Radeon R2' 'AMD Radeon 530'\n",
      " 'Nvidia GeForce 930MX' 'Intel HD Graphics' 'Intel HD Graphics 500'\n",
      " 'Nvidia GeForce 930MX ' 'Nvidia GeForce GTX 1060' 'Nvidia GeForce 150MX'\n",
      " 'Intel Iris Graphics 540' 'AMD Radeon RX 580' 'Nvidia GeForce 920MX'\n",
      " 'AMD Radeon R4 Graphics' 'AMD Radeon 520' 'Nvidia GeForce GTX 1070'\n",
      " 'Nvidia GeForce GTX 1050 Ti' 'Nvidia GeForce MX130' 'AMD R4 Graphics'\n",
      " 'Nvidia GeForce GTX 940MX' 'AMD Radeon RX 560' 'Nvidia GeForce 920M'\n",
      " 'AMD Radeon R7 M445' 'AMD Radeon RX 550' 'Nvidia GeForce GTX 1050M'\n",
      " 'Intel HD Graphics 515' 'AMD Radeon R5 M420' 'Intel HD Graphics 505'\n",
      " 'Nvidia GTX 980 SLI' 'AMD R17M-M1-70' 'Nvidia GeForce GTX 1080'\n",
      " 'Nvidia Quadro M1200' 'Nvidia GeForce 920MX ' 'Nvidia GeForce GTX 950M'\n",
      " 'AMD FirePro W4190M ' 'Nvidia GeForce GTX 980M' 'Intel Iris Graphics 550'\n",
      " 'Nvidia GeForce 930M' 'Intel HD Graphics 630' 'AMD Radeon R5 430'\n",
      " 'Nvidia GeForce GTX 940M' 'Intel HD Graphics 510' 'Intel HD Graphics 405'\n",
      " 'AMD Radeon RX 540' 'Nvidia GeForce GT 940MX' 'AMD FirePro W5130M'\n",
      " 'Nvidia Quadro M2200M' 'AMD Radeon R4' 'Nvidia Quadro M620'\n",
      " 'AMD Radeon R7 M460' 'Intel HD Graphics 530' 'Nvidia GeForce GTX 965M'\n",
      " 'Nvidia GeForce GTX1080' 'Nvidia GeForce GTX1050 Ti'\n",
      " 'Nvidia GeForce GTX 960M' 'AMD Radeon R2 Graphics' 'Nvidia Quadro M620M'\n",
      " 'Nvidia GeForce GTX 970M' 'Nvidia GeForce GTX 960<U+039C>'\n",
      " 'Intel Graphics 620' 'Nvidia GeForce GTX 960' 'AMD Radeon R5 520'\n",
      " 'AMD Radeon R7 M440' 'AMD Radeon R7' 'Nvidia Quadro M520M'\n",
      " 'Nvidia Quadro M2200' 'Nvidia Quadro M2000M' 'Intel HD Graphics 540'\n",
      " 'Nvidia Quadro M1000M' 'AMD Radeon 540' 'Nvidia GeForce GTX 1070M'\n",
      " 'Nvidia GeForce GTX1060' 'Intel HD Graphics 5300' 'AMD Radeon R5 M420X'\n",
      " 'AMD Radeon R7 Graphics' 'Nvidia GeForce 920' 'Nvidia GeForce 940M'\n",
      " 'Nvidia GeForce GTX 930MX' 'AMD Radeon R7 M465' 'AMD Radeon R3'\n",
      " 'Nvidia GeForce GTX 1050Ti' 'AMD Radeon R7 M365X' 'AMD Radeon R9 M385'\n",
      " 'Intel HD Graphics 620 ' 'Nvidia Quadro 3000M' 'Nvidia GeForce GTX 980 '\n",
      " 'AMD Radeon R5 M330' 'AMD FirePro W4190M' 'AMD FirePro W6150M'\n",
      " 'AMD Radeon R5 M315' 'Nvidia Quadro M500M' 'AMD Radeon R7 M360'\n",
      " 'Nvidia Quadro M3000M' 'Nvidia GeForce 960M' 'ARM Mali T860 MP4']\n",
      "-----------------------------------\n",
      "Details of the particular col OpSys is : ['macOS' 'No OS' 'Windows 10' 'Mac OS X' 'Linux' 'Android' 'Windows 10 S'\n",
      " 'Chrome OS' 'Windows 7']\n",
      "-----------------------------------\n",
      "Details of the particular col Weight is : ['1.37kg' '1.34kg' '1.86kg' '1.83kg' '2.1kg' '2.04kg' '1.3kg' '1.6kg'\n",
      " '2.2kg' '0.92kg' '1.22kg' '0.98kg' '2.5kg' '1.62kg' '1.91kg' '2.3kg'\n",
      " '1.35kg' '1.88kg' '1.89kg' '1.65kg' '2.71kg' '1.2kg' '1.44kg' '2.8kg'\n",
      " '2kg' '2.65kg' '2.77kg' '3.2kg' '0.69kg' '1.49kg' '2.4kg' '2.13kg'\n",
      " '2.43kg' '1.7kg' '1.4kg' '1.8kg' '1.9kg' '3kg' '1.252kg' '2.7kg' '2.02kg'\n",
      " '1.63kg' '1.96kg' '1.21kg' '2.45kg' '1.25kg' '1.5kg' '2.62kg' '1.38kg'\n",
      " '1.58kg' '1.85kg' '1.23kg' '1.26kg' '2.16kg' '2.36kg' '2.05kg' '1.32kg'\n",
      " '1.75kg' '0.97kg' '2.9kg' '2.56kg' '1.48kg' '1.74kg' '1.1kg' '1.56kg'\n",
      " '2.03kg' '1.05kg' '4.4kg' '1.90kg' '1.29kg' '2.0kg' '1.95kg' '2.06kg'\n",
      " '1.12kg' '1.42kg' '3.49kg' '3.35kg' '2.23kg' '4.42kg' '2.69kg' '2.37kg'\n",
      " '4.7kg' '3.6kg' '2.08kg' '4.3kg' '1.68kg' '1.41kg' '4.14kg' '2.18kg'\n",
      " '2.24kg' '2.67kg' '2.14kg' '1.36kg' '2.25kg' '2.15kg' '2.19kg' '2.54kg'\n",
      " '3.42kg' '1.28kg' '2.33kg' '1.45kg' '2.79kg' '1.84kg' '2.6kg' '2.26kg'\n",
      " '3.25kg' '1.59kg' '1.13kg' '1.78kg' '1.10kg' '1.15kg' '1.27kg' '1.43kg'\n",
      " '2.31kg' '1.16kg' '1.64kg' '2.17kg' '1.47kg' '3.78kg' '1.79kg' '0.91kg'\n",
      " '1.99kg' '4.33kg' '1.93kg' '1.87kg' '2.63kg' '3.4kg' '3.14kg' '1.94kg'\n",
      " '1.24kg' '4.6kg' '4.5kg' '2.73kg' '1.39kg' '2.29kg' '2.59kg' '2.94kg'\n",
      " '1.14kg' '3.8kg' '3.31kg' '1.09kg' '3.21kg' '1.19kg' '1.98kg' '1.17kg'\n",
      " '4.36kg' '1.71kg' '2.32kg' '4.2kg' '1.55kg' '0.81kg' '1.18kg' '2.72kg'\n",
      " '1.31kg' '0.920kg' '3.74kg' '1.76kg' '1.54kg' '2.83kg' '2.07kg' '2.38kg'\n",
      " '3.58kg' '1.08kg' '2.20kg' '2.75kg' '1.70kg' '2.99kg' '1.11kg' '2.09kg'\n",
      " '4kg' '3.0kg' '0.99kg' '3.52kg' '2.591kg' '2.21kg' '3.3kg' '2.191kg'\n",
      " '2.34kg' '4.0kg']\n",
      "-----------------------------------\n",
      "Details of the particular col Price is : [ 71378.6832  47895.5232  30636.     135195.336   96095.808   21312.\n",
      " 114017.6016  61735.536   79653.6     41025.6     20986.992   18381.0672\n",
      " 130001.6016  26581.392   67260.672   80908.344   39693.6    152274.24\n",
      "  26586.72    52161.12    10224.432   53226.72    13746.24    43636.32\n",
      "  35111.52    22305.1392  58554.72    42624.      69157.44    47738.88\n",
      "  13053.0672  10602.72    23389.92    99580.32    53173.44    13266.72\n",
      "  19553.76    26037.4032  46833.12    20725.92    79866.72    27864.9072\n",
      "  36336.96    75604.32    19660.32    69210.72    34045.92    24828.48\n",
      "  16996.32    44808.48    21231.5472  58767.84    20459.52    40908.384\n",
      "  31232.2032 130482.72    22111.2     31914.72    50136.48    36763.2\n",
      " 105654.24    23373.4032  12201.12    29250.72    50562.72    58021.92\n",
      "  50882.4     46353.6     58341.6     27652.32    45554.4     28238.4\n",
      "  52054.56    58403.4048  80452.8     45820.8     21258.72    21045.6\n",
      "  71874.72    37242.72    31914.1872  77202.72    87858.72    36709.92\n",
      "  63776.16    63669.6     55890.72    45128.16    31962.672   25840.8\n",
      "  30742.56    66546.72    38308.32    18594.72    34472.16    59620.32\n",
      "  71395.2     22105.872   63563.04    78854.4     67239.36    73473.12\n",
      "  74538.72    38468.16    86793.12    74538.1872  57755.52    60223.9824\n",
      "  30049.92    59567.04    25521.12   119427.12    33513.12    67718.88\n",
      "  24029.28    13799.52    43263.36    14811.3072  74378.88    49443.84\n",
      "  34045.3872  23922.72    47099.52    30476.16    31861.44    52640.64\n",
      "  13445.7408  49976.64    34898.4     59461.5456  46300.32    32074.56\n",
      " 107305.92    18328.32   108105.12    23816.16    66560.5728  47898.72\n",
      "  26533.44   100699.2     57648.96    32980.32    70063.2     21471.84\n",
      "  42890.4     38787.84    57489.12    18541.44    95850.72    19367.8128\n",
      "  56502.9072  45501.12    40173.12    16463.52    26053.92    49177.44\n",
      "  24455.52   149130.72    43316.64    98514.72    42251.04    63882.72\n",
      "  82530.72   127712.16    41505.12    52693.92    57808.8    150462.72\n",
      "  13852.8     53274.672   37189.44    44701.92    48697.92   324954.72\n",
      "  51095.52    55677.6     98301.6     26267.04    39533.76    93186.72\n",
      " 162770.4     74485.44   103842.72    31808.16    74964.96    49650.5664\n",
      "  31381.92    54931.68    61218.72    68145.12    36089.208   72620.64\n",
      "  42304.32   130873.7952  44328.96    45768.0528  40972.32    47472.48\n",
      "  67612.32    21258.1872  17582.4     45767.52    20779.2    207259.2\n",
      "  45074.88    61005.6     47365.92    52480.8     29783.52   159786.72\n",
      "  35964.     108691.2     24988.32    37402.56    23757.552   56423.52\n",
      " 133146.72    90522.72    60845.76    23656.32    35004.96    30103.2\n",
      "  42570.72    24881.76    54239.04    46886.4    104370.192   39164.5296\n",
      "  37992.3696  45234.72    22803.84    44169.12    30849.12    50669.28\n",
      "  58448.16    62817.12    35112.0528  63243.36    97449.12    39373.92\n",
      " 153705.3408  78215.04    27119.52   113060.16    34578.72    67399.2\n",
      "  19180.2672 105228.      55571.04   111834.72    14652.      44968.32\n",
      "  24503.472   52214.4     68837.76    58288.32    48058.56    15557.76\n",
      "  55938.672   71128.8    140605.92    50243.04    71075.52    67559.04\n",
      "  60952.32    14651.4672  60885.72    14646.672   38148.48    84129.12\n",
      "  60153.12    14865.12    85672.1088  19980.      35324.64   108020.9376\n",
      "  69477.12    75071.52    92615.0256  74751.84    51729.552   17155.6272\n",
      "  29696.6736  76030.56    50349.6     43103.52    93240.      22697.28\n",
      " 117162.72    46300.8528  26053.3872  29463.84    15238.08    63456.48\n",
      "  21498.48    88178.4     93181.392  121584.96    72940.32   113752.8\n",
      " 133679.52    55357.92    84768.48    36975.7872  41498.1936  65510.9568\n",
      " 144495.36   139860.      16303.68    81465.12    60978.96   119826.72\n",
      "  99793.44    93080.16    89510.4     21791.52    16221.096  102564.\n",
      " 103523.04    42038.4528  31909.392   79920.      28768.536   64755.4464\n",
      " 101178.72    61751.52    60867.072  106506.72    15930.72    14332.32\n",
      "  53812.8    130269.6     90309.6     18488.16   126912.96    39906.72\n",
      "  76137.12    23539.104  106187.04    54757.9872 137941.92    81731.52\n",
      "  71661.6    109010.88    34093.872   28984.32    23176.8    111355.2\n",
      "  16197.12    40439.52    98994.24    61485.12    67932.      98133.768\n",
      "  39427.2    128298.24    72673.92    89084.16    31254.048   38681.28\n",
      "  13261.392  124568.64    95797.44   103896.      53918.8272  71928.\n",
      "  47893.392   48538.08    18115.2     32979.7872  85194.72    14119.2\n",
      "  65214.72    32660.64    70489.44    44542.08    64961.1072  74589.336\n",
      "  13053.6     27783.9216 158135.04    80133.12    68184.0144  31168.8\n",
      "  73366.56   160520.3856  42486.0048  39207.1536  42517.44    37589.04\n",
      "  41824.8     24634.008   21152.16    92121.12    59513.2272 143802.72\n",
      "  28992.312   68198.4     11934.72    13586.4     30310.992   32921.712\n",
      "  33566.4    104695.2     52747.2     99153.5472  44222.4     36496.8\n",
      "  99367.2    141884.64   145401.12    39907.2528  53733.9456  81912.1392\n",
      "  15717.6    125154.72    79813.44    89137.44    32447.52    94305.6\n",
      "  32127.84    28185.12   107892.      78534.72    88977.6     93932.64\n",
      "  64948.32    35616.6144  17529.12    24775.2    122490.72   261018.72\n",
      "  46833.6528  23650.992   19127.52    62231.04    30316.32    74005.92\n",
      " 120831.5808  20193.12    59886.72    78055.2     41345.28    49656.96\n",
      "  12733.92    24935.04    34046.4528  96969.6    101232.      78801.12\n",
      "  48304.7136  93635.3376 127818.72    59087.52    27753.552  130536.\n",
      "  62284.32    23976.      14598.72    48964.32   138474.72    64628.64\n",
      "  84395.52    37775.52    77250.672   63499.104   19441.872   56689.92\n",
      "  60472.8     63722.88   167691.8736  65481.12    22324.32    28504.8\n",
      "  28717.92    79215.1056  67026.24    21951.36    99519.048   43580.376\n",
      "  55091.52    68944.32    26373.6     53168.112  109277.28   149916.6\n",
      "  32639.8608  29073.2976  16943.04   101657.7072 137995.2     51841.44\n",
      "  35644.32   100006.56    22857.12    33110.856   42357.6     98834.4\n",
      "  34898.9328  15877.44    76012.4448  45664.6896  63936.      89864.1792\n",
      "  44574.048  194972.832   71847.0144  26101.872   31409.6256 103096.8\n",
      "  34632.      51148.8    128884.32   111593.8944  21887.424   64308.96\n",
      "  35431.2     81784.8    175770.72    60031.1088 233845.92    25308.\n",
      "  58394.88    45282.672   83170.08   152859.7872  55837.44    99047.52\n",
      "  83063.52    25059.7152  62938.0656  54345.6     66280.32   126273.6\n",
      "  33886.08   154458.72    31003.632  191211.264  125208.      93985.92\n",
      " 100752.48    71341.92    10810.512  104961.6     62071.2    124142.4\n",
      "  43156.8    110017.872   39640.32    41558.4     89457.12   128671.2\n",
      "  51202.08    42081.0768  20512.8    133467.4656  40226.4     58075.2\n",
      "  99900.      72354.24    18914.4    292986.72    63190.08    87912.\n",
      " 147832.2864  17316.      31435.2    163723.5792  48484.8     38041.3872\n",
      "  99633.6     32767.2     54665.28   121318.56    46087.2    101391.84\n",
      "  41931.36   136343.52    45323.1648  68464.8     54185.76   119347.2\n",
      "  94731.84    56210.4     73952.64    39160.8     90043.2     49816.8\n",
      "  48618.      90576.      36486.144   24279.696   72988.272   15824.16\n",
      " 141138.72    78588.      49497.12    47952.      32713.92   107257.968\n",
      " 109170.72   104588.1072  79014.24    42037.92    64202.4    165168.\n",
      "  54291.7872  46939.68    59668.8048  36496.2672  69103.6272  97236.\n",
      "  38889.072   37725.4368  15392.592   58874.4     88924.32    29762.208\n",
      "  87325.92   146946.24    78438.816   94572.      77788.8     79333.3872\n",
      " 168045.12    41292.      93772.8     53759.52    95371.2     45101.52\n",
      "  24808.2336  43956.     167778.72    37029.6    104587.5744 149184.\n",
      "  62870.4    109218.672   53386.56    48751.2     42943.68    63349.92\n",
      " 101658.24    14418.6336  61272.      20246.4    111301.92    67132.8\n",
      "  29144.16    58607.4672  55904.5728  36443.52    81997.92    84715.2\n",
      " 100550.5488  64468.8     41025.0672  79387.2    118761.12    42410.3472\n",
      "  63159.7104  55754.3232  56476.8     86526.72    57542.4     65480.5872\n",
      "  91908.      56633.976   53839.9728  11231.424   75924.      55922.688\n",
      "  53280.     112065.9552  78268.32    82351.6992 122010.6672  15339.312\n",
      " 139593.6    120093.12    37570.392   96916.32    57009.6     52746.6672\n",
      " 102777.12    77682.24   211788.      42517.9728  70809.12    69264.\n",
      "  25679.8944  91294.7472  28771.2     50083.2    172627.2     34433.2656\n",
      "  39960.      54931.1472  20619.36    20965.1472  18434.3472  43601.688\n",
      "  34035.264   26640.      60480.792   62176.1616  11135.52    75289.968\n",
      "  80516.2032  46193.76    21205.44    40980.312  104908.32   146519.4672\n",
      "  54825.12   118601.28    69929.4672  10442.88    80612.64    27899.0064\n",
      " 100965.6    109244.2464  14811.84    40066.56    32820.48   210424.032\n",
      "  41771.52   115709.2416 130003.2     60888.384  122381.496   53807.472\n",
      " 124621.92    18061.92   119916.2304  25515.2592  79536.384   42010.7472\n",
      " 108744.48    94252.32    25414.0272  74059.2     36177.12    69530.4\n",
      " 114731.5536  87219.36    44275.68    47686.1328  17742.24    48431.52\n",
      "  36816.48    61964.64    70702.56    19607.04   114552.      14492.16\n",
      " 109165.392  142790.4    103842.1872   9270.72    67772.16    78647.1408\n",
      "  91288.3536  78694.56    27804.7008 186426.72    24988.8528  85141.44\n",
      "  25467.84   117119.5632  39267.36    31838.5296  19276.704   85248.\n",
      "  46620.     123876.      30529.44    96596.64    17262.72    57116.16\n",
      "  23655.7872  26107.2     47685.6     44382.7728  38841.12    15397.92\n",
      "  29303.4672  42943.1472  38378.6496  33992.64    40705.92  ]\n",
      "-----------------------------------\n"
     ]
    }
   ],
   "source": [
    "for i in df.columns:\n",
    "    uniquevals(i)\n",
    "    print(\"-\"*35)"
   ]
  },
  {
   "cell_type": "code",
   "execution_count": 26,
   "id": "6e6e6441-6e54-464d-8cb0-9f898061eba6",
   "metadata": {},
   "outputs": [
    {
     "name": "stdout",
     "output_type": "stream",
     "text": [
      "Valuecounts of the particular col Company is : Company\n",
      "Dell         297\n",
      "Lenovo       297\n",
      "HP           274\n",
      "Asus         158\n",
      "Acer         103\n",
      "MSI           54\n",
      "Toshiba       48\n",
      "Apple         21\n",
      "Samsung        9\n",
      "Razer          7\n",
      "Mediacom       7\n",
      "Microsoft      6\n",
      "Xiaomi         4\n",
      "Vero           4\n",
      "Chuwi          3\n",
      "Google         3\n",
      "Fujitsu        3\n",
      "LG             3\n",
      "Huawei         2\n",
      "Name: count, dtype: int64\n",
      "--------------------------------------------------\n",
      "Valuecounts of the particular col TypeName is : TypeName\n",
      "Notebook              727\n",
      "Gaming                205\n",
      "Ultrabook             196\n",
      "2 in 1 Convertible    121\n",
      "Workstation            29\n",
      "Netbook                25\n",
      "Name: count, dtype: int64\n",
      "--------------------------------------------------\n",
      "Valuecounts of the particular col Inches is : Inches\n",
      "15.6    665\n",
      "14.0    197\n",
      "13.3    164\n",
      "17.3    164\n",
      "12.5     39\n",
      "11.6     33\n",
      "12.0      6\n",
      "13.5      6\n",
      "13.9      6\n",
      "12.3      5\n",
      "10.1      4\n",
      "15.4      4\n",
      "15.0      4\n",
      "13.0      2\n",
      "18.4      1\n",
      "17.0      1\n",
      "14.1      1\n",
      "11.3      1\n",
      "Name: count, dtype: int64\n",
      "--------------------------------------------------\n",
      "Valuecounts of the particular col ScreenResolution is : ScreenResolution\n",
      "Full HD 1920x1080                                507\n",
      "1366x768                                         281\n",
      "IPS Panel Full HD 1920x1080                      230\n",
      "IPS Panel Full HD / Touchscreen 1920x1080         53\n",
      "Full HD / Touchscreen 1920x1080                   47\n",
      "1600x900                                          23\n",
      "Touchscreen 1366x768                              16\n",
      "Quad HD+ / Touchscreen 3200x1800                  15\n",
      "IPS Panel 4K Ultra HD 3840x2160                   12\n",
      "IPS Panel 4K Ultra HD / Touchscreen 3840x2160     11\n",
      "4K Ultra HD / Touchscreen 3840x2160               10\n",
      "4K Ultra HD 3840x2160                              7\n",
      "Touchscreen 2560x1440                              7\n",
      "IPS Panel 1366x768                                 7\n",
      "IPS Panel Quad HD+ / Touchscreen 3200x1800         6\n",
      "IPS Panel Retina Display 2560x1600                 6\n",
      "IPS Panel Retina Display 2304x1440                 6\n",
      "Touchscreen 2256x1504                              6\n",
      "IPS Panel Touchscreen 2560x1440                    5\n",
      "IPS Panel Retina Display 2880x1800                 4\n",
      "IPS Panel Touchscreen 1920x1200                    4\n",
      "1440x900                                           4\n",
      "IPS Panel 2560x1440                                4\n",
      "IPS Panel Quad HD+ 2560x1440                       3\n",
      "Quad HD+ 3200x1800                                 3\n",
      "1920x1080                                          3\n",
      "Touchscreen 2400x1600                              3\n",
      "2560x1440                                          3\n",
      "IPS Panel Touchscreen 1366x768                     3\n",
      "IPS Panel Touchscreen / 4K Ultra HD 3840x2160      2\n",
      "IPS Panel Full HD 2160x1440                        2\n",
      "IPS Panel Quad HD+ 3200x1800                       2\n",
      "IPS Panel Retina Display 2736x1824                 1\n",
      "IPS Panel Full HD 1920x1200                        1\n",
      "IPS Panel Full HD 2560x1440                        1\n",
      "IPS Panel Full HD 1366x768                         1\n",
      "Touchscreen / Full HD 1920x1080                    1\n",
      "Touchscreen / Quad HD+ 3200x1800                   1\n",
      "Touchscreen / 4K Ultra HD 3840x2160                1\n",
      "IPS Panel Touchscreen 2400x1600                    1\n",
      "Name: count, dtype: int64\n",
      "--------------------------------------------------\n",
      "Valuecounts of the particular col Cpu is : Cpu\n",
      "Intel Core i5 7200U 2.5GHz       190\n",
      "Intel Core i7 7700HQ 2.8GHz      146\n",
      "Intel Core i7 7500U 2.7GHz       134\n",
      "Intel Core i7 8550U 1.8GHz        73\n",
      "Intel Core i5 8250U 1.6GHz        72\n",
      "                                ... \n",
      "Intel Core M M3-6Y30 0.9GHz        1\n",
      "AMD A9-Series 9420 2.9GHz          1\n",
      "Intel Core i3 6006U 2.2GHz         1\n",
      "AMD A6-Series 7310 2GHz            1\n",
      "Intel Xeon E3-1535M v6 3.1GHz      1\n",
      "Name: count, Length: 118, dtype: int64\n",
      "--------------------------------------------------\n",
      "Valuecounts of the particular col Ram is : Ram\n",
      "8GB     619\n",
      "4GB     375\n",
      "16GB    200\n",
      "6GB      41\n",
      "12GB     25\n",
      "2GB      22\n",
      "32GB     17\n",
      "24GB      3\n",
      "64GB      1\n",
      "Name: count, dtype: int64\n",
      "--------------------------------------------------\n",
      "Valuecounts of the particular col Memory is : Memory\n",
      "256GB SSD                        412\n",
      "1TB HDD                          223\n",
      "500GB HDD                        132\n",
      "512GB SSD                        118\n",
      "128GB SSD +  1TB HDD              94\n",
      "128GB SSD                         76\n",
      "256GB SSD +  1TB HDD              73\n",
      "32GB Flash Storage                38\n",
      "2TB HDD                           16\n",
      "64GB Flash Storage                15\n",
      "512GB SSD +  1TB HDD              14\n",
      "1TB SSD                           14\n",
      "256GB SSD +  2TB HDD              10\n",
      "1.0TB Hybrid                       9\n",
      "256GB Flash Storage                8\n",
      "16GB Flash Storage                 7\n",
      "32GB SSD                           6\n",
      "180GB SSD                          5\n",
      "128GB Flash Storage                4\n",
      "512GB SSD +  2TB HDD               3\n",
      "16GB SSD                           3\n",
      "512GB Flash Storage                2\n",
      "1TB SSD +  1TB HDD                 2\n",
      "256GB SSD +  500GB HDD             2\n",
      "128GB SSD +  2TB HDD               2\n",
      "256GB SSD +  256GB SSD             2\n",
      "512GB SSD +  256GB SSD             1\n",
      "512GB SSD +  512GB SSD             1\n",
      "64GB Flash Storage +  1TB HDD      1\n",
      "1TB HDD +  1TB HDD                 1\n",
      "32GB HDD                           1\n",
      "64GB SSD                           1\n",
      "128GB HDD                          1\n",
      "240GB SSD                          1\n",
      "8GB SSD                            1\n",
      "508GB Hybrid                       1\n",
      "1.0TB HDD                          1\n",
      "512GB SSD +  1.0TB Hybrid          1\n",
      "256GB SSD +  1.0TB Hybrid          1\n",
      "Name: count, dtype: int64\n",
      "--------------------------------------------------\n",
      "Valuecounts of the particular col Gpu is : Gpu\n",
      "Intel HD Graphics 620      281\n",
      "Intel HD Graphics 520      185\n",
      "Intel UHD Graphics 620      68\n",
      "Nvidia GeForce GTX 1050     66\n",
      "Nvidia GeForce GTX 1060     48\n",
      "                          ... \n",
      "AMD Radeon R5 520            1\n",
      "AMD Radeon R7                1\n",
      "Intel HD Graphics 540        1\n",
      "AMD Radeon 540               1\n",
      "ARM Mali T860 MP4            1\n",
      "Name: count, Length: 110, dtype: int64\n",
      "--------------------------------------------------\n",
      "Valuecounts of the particular col OpSys is : OpSys\n",
      "Windows 10      1072\n",
      "No OS             66\n",
      "Linux             62\n",
      "Windows 7         45\n",
      "Chrome OS         27\n",
      "macOS             13\n",
      "Mac OS X           8\n",
      "Windows 10 S       8\n",
      "Android            2\n",
      "Name: count, dtype: int64\n",
      "--------------------------------------------------\n",
      "Valuecounts of the particular col Weight is : Weight\n",
      "2.2kg     121\n",
      "2.1kg      58\n",
      "2.4kg      44\n",
      "2.3kg      41\n",
      "2.5kg      38\n",
      "         ... \n",
      "3.25kg      1\n",
      "4.7kg       1\n",
      "1.55kg      1\n",
      "1.18kg      1\n",
      "4.0kg       1\n",
      "Name: count, Length: 179, dtype: int64\n",
      "--------------------------------------------------\n",
      "Valuecounts of the particular col Price is : Price\n",
      "79866.72     14\n",
      "58554.72     14\n",
      "95850.72     14\n",
      "47898.72     11\n",
      "63882.72     11\n",
      "             ..\n",
      "111355.20     1\n",
      "16197.12      1\n",
      "40439.52      1\n",
      "98994.24      1\n",
      "143802.72     1\n",
      "Name: count, Length: 791, dtype: int64\n",
      "--------------------------------------------------\n"
     ]
    }
   ],
   "source": [
    "for i in df.columns:\n",
    "    valuecounts(i)\n",
    "    print(\"-\"*50)"
   ]
  },
  {
   "cell_type": "code",
   "execution_count": 27,
   "id": "d3db37c6-e1a4-4c60-bde3-341132fd9283",
   "metadata": {},
   "outputs": [
    {
     "data": {
      "text/plain": [
       "'\\nso on observation we can see that if we remove \"GB\" from RAM,i can \\nmake it as an integer value then after,now same goes with Memory as \\nwell as Weight,for Weight i can classify it as floating variable\\nusing the str.replace() as shown ↓\\n'"
      ]
     },
     "execution_count": 27,
     "metadata": {},
     "output_type": "execute_result"
    }
   ],
   "source": [
    "'''\n",
    "so on observation we can see that if we remove \"GB\" from RAM,i can \n",
    "make it as an integer value then after,now same goes with Memory as \n",
    "well as Weight,for Weight i can classify it as floating variable\n",
    "using the str.replace() as shown ↓\n",
    "'''"
   ]
  },
  {
   "cell_type": "code",
   "execution_count": 32,
   "id": "1f97bc86-f125-4d7d-92cb-044e8541f296",
   "metadata": {},
   "outputs": [],
   "source": [
    "df[\"Ram\"] = df[\"Ram\"].str.replace(\"GB\", \"\")"
   ]
  },
  {
   "cell_type": "code",
   "execution_count": 36,
   "id": "595bc41d-47db-4763-9248-5c416d0fe412",
   "metadata": {},
   "outputs": [
    {
     "data": {
      "text/plain": [
       "dtype('O')"
      ]
     },
     "execution_count": 36,
     "metadata": {},
     "output_type": "execute_result"
    }
   ],
   "source": [
    "df[\"Ram\"].dtype"
   ]
  },
  {
   "cell_type": "code",
   "execution_count": 34,
   "id": "7158a996-847d-4499-99b8-4b9a97ce24e8",
   "metadata": {},
   "outputs": [],
   "source": [
    "df[\"Weight\"]= df[\"Weight\"].str.replace(\"kg\", \"\")"
   ]
  },
  {
   "cell_type": "code",
   "execution_count": 35,
   "id": "572a6d51-f522-470b-97f1-be35b6264c81",
   "metadata": {},
   "outputs": [
    {
     "data": {
      "text/plain": [
       "0       1.37\n",
       "1       1.34\n",
       "2       1.86\n",
       "3       1.83\n",
       "4       1.37\n",
       "        ... \n",
       "1298     1.8\n",
       "1299     1.3\n",
       "1300     1.5\n",
       "1301    2.19\n",
       "1302     2.2\n",
       "Name: Weight, Length: 1303, dtype: object"
      ]
     },
     "execution_count": 35,
     "metadata": {},
     "output_type": "execute_result"
    }
   ],
   "source": [
    "df[\"Weight\"]"
   ]
  },
  {
   "cell_type": "code",
   "execution_count": 37,
   "id": "aca83b1b-0a1e-487d-a856-dc3c261c78e1",
   "metadata": {},
   "outputs": [],
   "source": [
    "df[\"Ram\"]= df[\"Ram\"].astype(\"int32\")"
   ]
  },
  {
   "cell_type": "code",
   "execution_count": 38,
   "id": "99deb3b9-317c-4f59-b62b-2774f32b3f95",
   "metadata": {},
   "outputs": [
    {
     "data": {
      "text/plain": [
       "dtype('int32')"
      ]
     },
     "execution_count": 38,
     "metadata": {},
     "output_type": "execute_result"
    }
   ],
   "source": [
    "df[\"Ram\"].dtypes"
   ]
  },
  {
   "cell_type": "code",
   "execution_count": 40,
   "id": "cbef9b55-c9b2-45e0-a3cc-d4d26261e573",
   "metadata": {},
   "outputs": [],
   "source": [
    "df[\"Weight\"]= df[\"Weight\"].astype(\"float32\")"
   ]
  },
  {
   "cell_type": "code",
   "execution_count": 41,
   "id": "f4456cf5-40c9-4cad-b5ac-be2bcede30be",
   "metadata": {},
   "outputs": [
    {
     "data": {
      "text/plain": [
       "dtype('float32')"
      ]
     },
     "execution_count": 41,
     "metadata": {},
     "output_type": "execute_result"
    }
   ],
   "source": [
    "df[\"Weight\"].dtypes"
   ]
  },
  {
   "cell_type": "code",
   "execution_count": 42,
   "id": "78d8f18f-c294-4130-9e40-3cd7f3347d23",
   "metadata": {},
   "outputs": [
    {
     "name": "stdout",
     "output_type": "stream",
     "text": [
      "<class 'pandas.core.frame.DataFrame'>\n",
      "RangeIndex: 1303 entries, 0 to 1302\n",
      "Data columns (total 11 columns):\n",
      " #   Column            Non-Null Count  Dtype  \n",
      "---  ------            --------------  -----  \n",
      " 0   Company           1303 non-null   object \n",
      " 1   TypeName          1303 non-null   object \n",
      " 2   Inches            1303 non-null   float64\n",
      " 3   ScreenResolution  1303 non-null   object \n",
      " 4   Cpu               1303 non-null   object \n",
      " 5   Ram               1303 non-null   int32  \n",
      " 6   Memory            1303 non-null   object \n",
      " 7   Gpu               1303 non-null   object \n",
      " 8   OpSys             1303 non-null   object \n",
      " 9   Weight            1303 non-null   float32\n",
      " 10  Price             1303 non-null   float64\n",
      "dtypes: float32(1), float64(2), int32(1), object(7)\n",
      "memory usage: 101.9+ KB\n"
     ]
    }
   ],
   "source": [
    "df.info()"
   ]
  },
  {
   "cell_type": "markdown",
   "id": "b3d6d82e-6cc6-4868-a6c1-3095e35b9d19",
   "metadata": {},
   "source": [
    "## Exploratory Data Analysis¶"
   ]
  },
  {
   "cell_type": "code",
   "execution_count": 47,
   "id": "248a59a2-2bf4-4294-8315-649323eef746",
   "metadata": {},
   "outputs": [
    {
     "name": "stderr",
     "output_type": "stream",
     "text": [
      "C:\\Users\\amitm\\anaconda3\\Lib\\site-packages\\seaborn\\_oldcore.py:1119: FutureWarning: use_inf_as_na option is deprecated and will be removed in a future version. Convert inf values to NaN before operating instead.\n",
      "  with pd.option_context('mode.use_inf_as_na', True):\n"
     ]
    },
    {
     "data": {
      "text/plain": [
       "<seaborn.axisgrid.FacetGrid at 0x24b9711ba10>"
      ]
     },
     "execution_count": 47,
     "metadata": {},
     "output_type": "execute_result"
    },
    {
     "data": {
      "text/plain": [
       "<Figure size 400x400 with 0 Axes>"
      ]
     },
     "metadata": {},
     "output_type": "display_data"
    },
    {
     "data": {
      "image/png": "[encoded data removed]",
      "text/plain": [
       "<Figure size 500x500 with 1 Axes>"
      ]
     },
     "metadata": {},
     "output_type": "display_data"
    }
   ],
   "source": [
    "plt.figure(figsize=(4,4))\n",
    "sns.displot(df[\"Price\"], color=\"Red\", kind = \"kde\",)"
   ]
  },
  {
   "cell_type": "code",
   "execution_count": 48,
   "id": "5eb1150a-3fd2-4b3e-aaca-de81ce37b074",
   "metadata": {},
   "outputs": [],
   "source": [
    "## plotting countplots for the categorical variables\n",
    "\n",
    "def drawplot(col):\n",
    "    plt.figure(figsize=(4,4))\n",
    "    sns.countplot(data= df, x = col, palette='plasma')\n",
    "    plt.xticks(rotation='vertical')"
   ]
  },
  {
   "cell_type": "code",
   "execution_count": 49,
   "id": "838831b7-c97f-43cf-97e3-7c1259c51355",
   "metadata": {},
   "outputs": [
    {
     "data": {
      "image/png": "[encoded data removed]",
      "text/plain": [
       "<Figure size 400x400 with 1 Axes>"
      ]
     },
     "metadata": {},
     "output_type": "display_data"
    },
    {
     "data": {
      "image/png": "[encoded data removed]",
      "text/plain": [
       "<Figure size 400x400 with 1 Axes>"
      ]
     },
     "metadata": {},
     "output_type": "display_data"
    },
    {
     "data": {
      "image/png": "[encoded data removed]",
      "text/plain": [
       "<Figure size 400x400 with 1 Axes>"
      ]
     },
     "metadata": {},
     "output_type": "display_data"
    },
    {
     "data": {
      "image/png": "[encoded data removed]",
      "text/plain": [
       "<Figure size 400x400 with 1 Axes>"
      ]
     },
     "metadata": {},
     "output_type": "display_data"
    }
   ],
   "source": [
    "topview = [\"Company\", \"Ram\", \"TypeName\", \"OpSys\"]\n",
    "\n",
    "for i in topview:\n",
    "    drawplot(i)"
   ]
  },
  {
   "cell_type": "code",
   "execution_count": 53,
   "id": "6e7e4550-ff8a-4417-8886-8c2bf39ed6fb",
   "metadata": {},
   "outputs": [
    {
     "data": {
      "image/png": "[encoded data removed]",
      "text/plain": [
       "<Figure size 500x300 with 1 Axes>"
      ]
     },
     "metadata": {},
     "output_type": "display_data"
    }
   ],
   "source": [
    "# average price for each of the laptop brands\n",
    "# this will say us the insight that as per company the price of the laptop vary\n",
    "\n",
    "\n",
    "plt.figure(figsize=(5,3))\n",
    "sns.barplot(x = df['Company'],y = df['Price'])\n",
    "plt.xticks(rotation = 'vertical')\n",
    "plt.show()"
   ]
  },
  {
   "cell_type": "code",
   "execution_count": 55,
   "id": "e501a26d-4675-4e09-8db0-887d75a64741",
   "metadata": {},
   "outputs": [
    {
     "data": {
      "text/plain": [
       "(array([0, 1, 2, 3, 4, 5]),\n",
       " [Text(0, 0, 'Ultrabook'),\n",
       "  Text(1, 0, 'Notebook'),\n",
       "  Text(2, 0, 'Netbook'),\n",
       "  Text(3, 0, 'Gaming'),\n",
       "  Text(4, 0, '2 in 1 Convertible'),\n",
       "  Text(5, 0, 'Workstation')])"
      ]
     },
     "execution_count": 55,
     "metadata": {},
     "output_type": "execute_result"
    },
    {
     "data": {
      "image/png": "[encoded data removed]",
      "text/plain": [
       "<Figure size 500x300 with 1 Axes>"
      ]
     },
     "metadata": {},
     "output_type": "display_data"
    }
   ],
   "source": [
    "## various types of laptops\n",
    "plt.figure(figsize=(5,3))\n",
    "sns.countplot(data = df, x = 'TypeName',palette='autumn') \n",
    "plt.xticks(rotation = 'vertical')"
   ]
  },
  {
   "cell_type": "code",
   "execution_count": 57,
   "id": "1f058ad8-6b9a-47bc-b880-ba2abd0e85eb",
   "metadata": {},
   "outputs": [
    {
     "data": {
      "text/plain": [
       "(array([0, 1, 2, 3, 4, 5]),\n",
       " [Text(0, 0, 'Ultrabook'),\n",
       "  Text(1, 0, 'Notebook'),\n",
       "  Text(2, 0, 'Netbook'),\n",
       "  Text(3, 0, 'Gaming'),\n",
       "  Text(4, 0, '2 in 1 Convertible'),\n",
       "  Text(5, 0, 'Workstation')])"
      ]
     },
     "execution_count": 57,
     "metadata": {},
     "output_type": "execute_result"
    },
    {
     "data": {
      "image/png": "[encoded data removed]",
      "text/plain": [
       "<Figure size 500x300 with 1 Axes>"
      ]
     },
     "metadata": {},
     "output_type": "display_data"
    }
   ],
   "source": [
    "# laptop type and variation about the price \n",
    "plt.figure(figsize=(5,3))\n",
    "sns.barplot(x = df['TypeName'],y = df['Price'])\n",
    "plt.xticks(rotation = 'vertical')"
   ]
  },
  {
   "cell_type": "code",
   "execution_count": 59,
   "id": "57b7ef98-8058-4d08-b5f5-8e44946f3f6e",
   "metadata": {},
   "outputs": [
    {
     "data": {
      "text/plain": [
       "<Axes: xlabel='Inches', ylabel='Price'>"
      ]
     },
     "execution_count": 59,
     "metadata": {},
     "output_type": "execute_result"
    },
    {
     "data": {
      "image/png": "[encoded data removed]",
      "text/plain": [
       "<Figure size 500x300 with 1 Axes>"
      ]
     },
     "metadata": {},
     "output_type": "display_data"
    }
   ],
   "source": [
    "# variation of inches towards the price\n",
    "plt.figure(figsize=(5,3))\n",
    "sns.scatterplot(x = df['Inches'],y = df['Price'])"
   ]
  },
  {
   "cell_type": "markdown",
   "id": "18c43e53-98c6-48c8-b0f4-2b93ba407f18",
   "metadata": {},
   "source": [
    "**For the `Screen Resolution` column we have many types of Screen Resolutions out there as shown `Touch Screen` and `Normal` and `IPS Panel` are the 3 parts on basis of which we can segregate the things**"
   ]
  },
  {
   "cell_type": "code",
   "execution_count": 61,
   "id": "2a7a7329-90fe-4162-ba5f-239e887209ca",
   "metadata": {},
   "outputs": [
    {
     "data": {
      "text/plain": [
       "ScreenResolution\n",
       "Full HD 1920x1080                                507\n",
       "1366x768                                         281\n",
       "IPS Panel Full HD 1920x1080                      230\n",
       "IPS Panel Full HD / Touchscreen 1920x1080         53\n",
       "Full HD / Touchscreen 1920x1080                   47\n",
       "1600x900                                          23\n",
       "Touchscreen 1366x768                              16\n",
       "Quad HD+ / Touchscreen 3200x1800                  15\n",
       "IPS Panel 4K Ultra HD 3840x2160                   12\n",
       "IPS Panel 4K Ultra HD / Touchscreen 3840x2160     11\n",
       "4K Ultra HD / Touchscreen 3840x2160               10\n",
       "4K Ultra HD 3840x2160                              7\n",
       "Touchscreen 2560x1440                              7\n",
       "IPS Panel 1366x768                                 7\n",
       "IPS Panel Quad HD+ / Touchscreen 3200x1800         6\n",
       "IPS Panel Retina Display 2560x1600                 6\n",
       "IPS Panel Retina Display 2304x1440                 6\n",
       "Touchscreen 2256x1504                              6\n",
       "IPS Panel Touchscreen 2560x1440                    5\n",
       "IPS Panel Retina Display 2880x1800                 4\n",
       "IPS Panel Touchscreen 1920x1200                    4\n",
       "1440x900                                           4\n",
       "IPS Panel 2560x1440                                4\n",
       "IPS Panel Quad HD+ 2560x1440                       3\n",
       "Quad HD+ 3200x1800                                 3\n",
       "1920x1080                                          3\n",
       "Touchscreen 2400x1600                              3\n",
       "2560x1440                                          3\n",
       "IPS Panel Touchscreen 1366x768                     3\n",
       "IPS Panel Touchscreen / 4K Ultra HD 3840x2160      2\n",
       "IPS Panel Full HD 2160x1440                        2\n",
       "IPS Panel Quad HD+ 3200x1800                       2\n",
       "IPS Panel Retina Display 2736x1824                 1\n",
       "IPS Panel Full HD 1920x1200                        1\n",
       "IPS Panel Full HD 2560x1440                        1\n",
       "IPS Panel Full HD 1366x768                         1\n",
       "Touchscreen / Full HD 1920x1080                    1\n",
       "Touchscreen / Quad HD+ 3200x1800                   1\n",
       "Touchscreen / 4K Ultra HD 3840x2160                1\n",
       "IPS Panel Touchscreen 2400x1600                    1\n",
       "Name: count, dtype: int64"
      ]
     },
     "execution_count": 61,
     "metadata": {},
     "output_type": "execute_result"
    }
   ],
   "source": [
    "df['ScreenResolution'].value_counts()"
   ]
  },
  {
   "cell_type": "code",
   "execution_count": 69,
   "id": "0358f949-153e-415d-83a1-2ac1d3bda269",
   "metadata": {},
   "outputs": [],
   "source": [
    "# creating a new col,touchscreen if the value is 1 that laptop is touch screen\n",
    "df[\"TouchScreen\"] = df['ScreenResolution'].apply(lambda element : 1 if \"Touchscreen\" in element else 0)\n",
    "     "
   ]
  },
  {
   "cell_type": "code",
   "execution_count": 70,
   "id": "59ded34b-6da0-4eeb-b7fe-8a620ab31907",
   "metadata": {},
   "outputs": [
    {
     "data": {
      "text/plain": [
       "0       0\n",
       "1       0\n",
       "2       0\n",
       "3       0\n",
       "4       0\n",
       "       ..\n",
       "1298    1\n",
       "1299    1\n",
       "1300    0\n",
       "1301    0\n",
       "1302    0\n",
       "Name: TouchScreen, Length: 1303, dtype: int64"
      ]
     },
     "execution_count": 70,
     "metadata": {},
     "output_type": "execute_result"
    }
   ],
   "source": [
    "df[\"TouchScreen\"] "
   ]
  },
  {
   "cell_type": "code",
   "execution_count": 71,
   "id": "c2aef1fe-6bc1-4677-942e-0419247bbda7",
   "metadata": {},
   "outputs": [
    {
     "data": {
      "text/html": [
       "<div>\n",
       "<style scoped>\n",
       "    .dataframe tbody tr th:only-of-type {\n",
       "        vertical-align: middle;\n",
       "    }\n",
       "\n",
       "    .dataframe tbody tr th {\n",
       "        vertical-align: top;\n",
       "    }\n",
       "\n",
       "    .dataframe thead th {\n",
       "        text-align: right;\n",
       "    }\n",
       "</style>\n",
       "<table border=\"1\" class=\"dataframe\">\n",
       "  <thead>\n",
       "    <tr style=\"text-align: right;\">\n",
       "      <th></th>\n",
       "      <th>Company</th>\n",
       "      <th>TypeName</th>\n",
       "      <th>Inches</th>\n",
       "      <th>ScreenResolution</th>\n",
       "      <th>Cpu</th>\n",
       "      <th>Ram</th>\n",
       "      <th>Memory</th>\n",
       "      <th>Gpu</th>\n",
       "      <th>OpSys</th>\n",
       "      <th>Weight</th>\n",
       "      <th>Price</th>\n",
       "      <th>Touchscreen</th>\n",
       "      <th>TouchScreen</th>\n",
       "    </tr>\n",
       "  </thead>\n",
       "  <tbody>\n",
       "    <tr>\n",
       "      <th>147</th>\n",
       "      <td>Asus</td>\n",
       "      <td>Notebook</td>\n",
       "      <td>15.6</td>\n",
       "      <td>Full HD 1920x1080</td>\n",
       "      <td>Intel Celeron Dual Core N3350 1.1GHz</td>\n",
       "      <td>4</td>\n",
       "      <td>1TB HDD</td>\n",
       "      <td>Intel HD Graphics 500</td>\n",
       "      <td>Windows 10</td>\n",
       "      <td>2.00</td>\n",
       "      <td>18328.3200</td>\n",
       "      <td>0</td>\n",
       "      <td>0</td>\n",
       "    </tr>\n",
       "    <tr>\n",
       "      <th>852</th>\n",
       "      <td>Dell</td>\n",
       "      <td>Notebook</td>\n",
       "      <td>17.3</td>\n",
       "      <td>Full HD 1920x1080</td>\n",
       "      <td>Intel Core i7 7500U 2.7GHz</td>\n",
       "      <td>8</td>\n",
       "      <td>1TB HDD</td>\n",
       "      <td>AMD Radeon R7 M445</td>\n",
       "      <td>Linux</td>\n",
       "      <td>2.83</td>\n",
       "      <td>46087.2000</td>\n",
       "      <td>0</td>\n",
       "      <td>0</td>\n",
       "    </tr>\n",
       "    <tr>\n",
       "      <th>83</th>\n",
       "      <td>Lenovo</td>\n",
       "      <td>Notebook</td>\n",
       "      <td>15.6</td>\n",
       "      <td>Full HD 1920x1080</td>\n",
       "      <td>AMD A6-Series 9220 2.5GHz</td>\n",
       "      <td>4</td>\n",
       "      <td>128GB SSD</td>\n",
       "      <td>AMD R4 Graphics</td>\n",
       "      <td>Windows 10</td>\n",
       "      <td>2.20</td>\n",
       "      <td>21258.7200</td>\n",
       "      <td>0</td>\n",
       "      <td>0</td>\n",
       "    </tr>\n",
       "    <tr>\n",
       "      <th>551</th>\n",
       "      <td>Dell</td>\n",
       "      <td>Notebook</td>\n",
       "      <td>15.6</td>\n",
       "      <td>Full HD 1920x1080</td>\n",
       "      <td>Intel Core i5 7200U 2.5GHz</td>\n",
       "      <td>8</td>\n",
       "      <td>256GB SSD</td>\n",
       "      <td>Intel HD Graphics 620</td>\n",
       "      <td>Windows 10</td>\n",
       "      <td>1.90</td>\n",
       "      <td>59513.2272</td>\n",
       "      <td>0</td>\n",
       "      <td>0</td>\n",
       "    </tr>\n",
       "    <tr>\n",
       "      <th>761</th>\n",
       "      <td>Dell</td>\n",
       "      <td>Ultrabook</td>\n",
       "      <td>12.5</td>\n",
       "      <td>Full HD 1920x1080</td>\n",
       "      <td>Intel Core i7 7600U 2.8GHz</td>\n",
       "      <td>16</td>\n",
       "      <td>256GB SSD</td>\n",
       "      <td>Intel HD Graphics 620</td>\n",
       "      <td>Windows 10</td>\n",
       "      <td>1.18</td>\n",
       "      <td>99047.5200</td>\n",
       "      <td>0</td>\n",
       "      <td>0</td>\n",
       "    </tr>\n",
       "  </tbody>\n",
       "</table>\n",
       "</div>"
      ],
      "text/plain": [
       "    Company   TypeName  Inches   ScreenResolution  \\\n",
       "147    Asus   Notebook    15.6  Full HD 1920x1080   \n",
       "852    Dell   Notebook    17.3  Full HD 1920x1080   \n",
       "83   Lenovo   Notebook    15.6  Full HD 1920x1080   \n",
       "551    Dell   Notebook    15.6  Full HD 1920x1080   \n",
       "761    Dell  Ultrabook    12.5  Full HD 1920x1080   \n",
       "\n",
       "                                      Cpu  Ram     Memory  \\\n",
       "147  Intel Celeron Dual Core N3350 1.1GHz    4    1TB HDD   \n",
       "852            Intel Core i7 7500U 2.7GHz    8    1TB HDD   \n",
       "83              AMD A6-Series 9220 2.5GHz    4  128GB SSD   \n",
       "551            Intel Core i5 7200U 2.5GHz    8  256GB SSD   \n",
       "761            Intel Core i7 7600U 2.8GHz   16  256GB SSD   \n",
       "\n",
       "                       Gpu       OpSys  Weight       Price  Touchscreen  \\\n",
       "147  Intel HD Graphics 500  Windows 10    2.00  18328.3200            0   \n",
       "852     AMD Radeon R7 M445       Linux    2.83  46087.2000            0   \n",
       "83         AMD R4 Graphics  Windows 10    2.20  21258.7200            0   \n",
       "551  Intel HD Graphics 620  Windows 10    1.90  59513.2272            0   \n",
       "761  Intel HD Graphics 620  Windows 10    1.18  99047.5200            0   \n",
       "\n",
       "     TouchScreen  \n",
       "147            0  \n",
       "852            0  \n",
       "83             0  \n",
       "551            0  \n",
       "761            0  "
      ]
     },
     "execution_count": 71,
     "metadata": {},
     "output_type": "execute_result"
    }
   ],
   "source": [
    "df.sample(5)"
   ]
  },
  {
   "cell_type": "code",
   "execution_count": 72,
   "id": "fcd40232-46b0-4eed-9ce4-687f1141bc5b",
   "metadata": {},
   "outputs": [
    {
     "data": {
      "text/plain": [
       "<Axes: xlabel='TouchScreen', ylabel='count'>"
      ]
     },
     "execution_count": 72,
     "metadata": {},
     "output_type": "execute_result"
    },
    {
     "data": {
      "image/png": "[encoded data removed]",
      "text/plain": [
       "<Figure size 640x480 with 1 Axes>"
      ]
     },
     "metadata": {},
     "output_type": "display_data"
    }
   ],
   "source": [
    "sns.countplot(data = df, x = 'TouchScreen' ,palette='plasma')"
   ]
  },
  {
   "cell_type": "code",
   "execution_count": 73,
   "id": "2af5fd67-8804-4194-a6a4-c3d70e5339db",
   "metadata": {},
   "outputs": [
    {
     "data": {
      "text/plain": [
       "(array([0, 1]), [Text(0, 0, '0'), Text(1, 0, '1')])"
      ]
     },
     "execution_count": 73,
     "metadata": {},
     "output_type": "execute_result"
    },
    {
     "data": {
      "image/png": "[encoded data removed]",
      "text/plain": [
       "<Figure size 640x480 with 1 Axes>"
      ]
     },
     "metadata": {},
     "output_type": "display_data"
    }
   ],
   "source": [
    "# touch screen on comparision with price of laptop\n",
    "\n",
    "sns.barplot(x = df['TouchScreen'],y = df['Price'])\n",
    "plt.xticks(rotation = 'vertical')"
   ]
  },
  {
   "cell_type": "code",
   "execution_count": 74,
   "id": "dd38cfd9-6b17-4e9c-a041-7ad8e8b0ce45",
   "metadata": {},
   "outputs": [
    {
     "data": {
      "text/html": [
       "<div>\n",
       "<style scoped>\n",
       "    .dataframe tbody tr th:only-of-type {\n",
       "        vertical-align: middle;\n",
       "    }\n",
       "\n",
       "    .dataframe tbody tr th {\n",
       "        vertical-align: top;\n",
       "    }\n",
       "\n",
       "    .dataframe thead th {\n",
       "        text-align: right;\n",
       "    }\n",
       "</style>\n",
       "<table border=\"1\" class=\"dataframe\">\n",
       "  <thead>\n",
       "    <tr style=\"text-align: right;\">\n",
       "      <th></th>\n",
       "      <th>Company</th>\n",
       "      <th>TypeName</th>\n",
       "      <th>Inches</th>\n",
       "      <th>ScreenResolution</th>\n",
       "      <th>Cpu</th>\n",
       "      <th>Ram</th>\n",
       "      <th>Memory</th>\n",
       "      <th>Gpu</th>\n",
       "      <th>OpSys</th>\n",
       "      <th>Weight</th>\n",
       "      <th>Price</th>\n",
       "      <th>Touchscreen</th>\n",
       "      <th>TouchScreen</th>\n",
       "      <th>IPS</th>\n",
       "    </tr>\n",
       "  </thead>\n",
       "  <tbody>\n",
       "    <tr>\n",
       "      <th>930</th>\n",
       "      <td>Lenovo</td>\n",
       "      <td>Notebook</td>\n",
       "      <td>15.6</td>\n",
       "      <td>1366x768</td>\n",
       "      <td>Intel Pentium Quad Core N4200 1.1GHz</td>\n",
       "      <td>4</td>\n",
       "      <td>1TB HDD</td>\n",
       "      <td>Intel HD Graphics 505</td>\n",
       "      <td>Windows 10</td>\n",
       "      <td>2.20</td>\n",
       "      <td>16463.52</td>\n",
       "      <td>0</td>\n",
       "      <td>0</td>\n",
       "      <td>0</td>\n",
       "    </tr>\n",
       "    <tr>\n",
       "      <th>778</th>\n",
       "      <td>Razer</td>\n",
       "      <td>Gaming</td>\n",
       "      <td>14.0</td>\n",
       "      <td>Full HD 1920x1080</td>\n",
       "      <td>Intel Core i7 7700HQ 2.8GHz</td>\n",
       "      <td>16</td>\n",
       "      <td>512GB SSD</td>\n",
       "      <td>Nvidia GeForce GTX 1060</td>\n",
       "      <td>Windows 10</td>\n",
       "      <td>1.95</td>\n",
       "      <td>154458.72</td>\n",
       "      <td>0</td>\n",
       "      <td>0</td>\n",
       "      <td>0</td>\n",
       "    </tr>\n",
       "    <tr>\n",
       "      <th>399</th>\n",
       "      <td>Lenovo</td>\n",
       "      <td>Ultrabook</td>\n",
       "      <td>14.0</td>\n",
       "      <td>IPS Panel 2560x1440</td>\n",
       "      <td>Intel Core i7 7500U 2.7GHz</td>\n",
       "      <td>16</td>\n",
       "      <td>1TB SSD</td>\n",
       "      <td>Intel HD Graphics 620</td>\n",
       "      <td>Windows 10</td>\n",
       "      <td>1.13</td>\n",
       "      <td>139860.00</td>\n",
       "      <td>0</td>\n",
       "      <td>0</td>\n",
       "      <td>1</td>\n",
       "    </tr>\n",
       "    <tr>\n",
       "      <th>1263</th>\n",
       "      <td>Acer</td>\n",
       "      <td>Notebook</td>\n",
       "      <td>15.6</td>\n",
       "      <td>1366x768</td>\n",
       "      <td>Intel Celeron Dual Core N3060 1.6GHz</td>\n",
       "      <td>4</td>\n",
       "      <td>500GB HDD</td>\n",
       "      <td>Intel HD Graphics 400</td>\n",
       "      <td>Linux</td>\n",
       "      <td>2.40</td>\n",
       "      <td>15397.92</td>\n",
       "      <td>0</td>\n",
       "      <td>0</td>\n",
       "      <td>0</td>\n",
       "    </tr>\n",
       "    <tr>\n",
       "      <th>806</th>\n",
       "      <td>Toshiba</td>\n",
       "      <td>Notebook</td>\n",
       "      <td>15.6</td>\n",
       "      <td>1366x768</td>\n",
       "      <td>Intel Core i5 6200U 2.3GHz</td>\n",
       "      <td>4</td>\n",
       "      <td>500GB HDD</td>\n",
       "      <td>Intel HD Graphics 520</td>\n",
       "      <td>Windows 10</td>\n",
       "      <td>2.10</td>\n",
       "      <td>41558.40</td>\n",
       "      <td>0</td>\n",
       "      <td>0</td>\n",
       "      <td>0</td>\n",
       "    </tr>\n",
       "  </tbody>\n",
       "</table>\n",
       "</div>"
      ],
      "text/plain": [
       "      Company   TypeName  Inches     ScreenResolution  \\\n",
       "930    Lenovo   Notebook    15.6             1366x768   \n",
       "778     Razer     Gaming    14.0    Full HD 1920x1080   \n",
       "399    Lenovo  Ultrabook    14.0  IPS Panel 2560x1440   \n",
       "1263     Acer   Notebook    15.6             1366x768   \n",
       "806   Toshiba   Notebook    15.6             1366x768   \n",
       "\n",
       "                                       Cpu  Ram     Memory  \\\n",
       "930   Intel Pentium Quad Core N4200 1.1GHz    4    1TB HDD   \n",
       "778            Intel Core i7 7700HQ 2.8GHz   16  512GB SSD   \n",
       "399             Intel Core i7 7500U 2.7GHz   16    1TB SSD   \n",
       "1263  Intel Celeron Dual Core N3060 1.6GHz    4  500GB HDD   \n",
       "806             Intel Core i5 6200U 2.3GHz    4  500GB HDD   \n",
       "\n",
       "                          Gpu       OpSys  Weight      Price  Touchscreen  \\\n",
       "930     Intel HD Graphics 505  Windows 10    2.20   16463.52            0   \n",
       "778   Nvidia GeForce GTX 1060  Windows 10    1.95  154458.72            0   \n",
       "399     Intel HD Graphics 620  Windows 10    1.13  139860.00            0   \n",
       "1263    Intel HD Graphics 400       Linux    2.40   15397.92            0   \n",
       "806     Intel HD Graphics 520  Windows 10    2.10   41558.40            0   \n",
       "\n",
       "      TouchScreen  IPS  \n",
       "930             0    0  \n",
       "778             0    0  \n",
       "399             0    1  \n",
       "1263            0    0  \n",
       "806             0    0  "
      ]
     },
     "execution_count": 74,
     "metadata": {},
     "output_type": "execute_result"
    }
   ],
   "source": [
    "df['IPS']= df['ScreenResolution'].apply(lambda element : 1 if \"IPS\" in element else 0)\n",
    "df.sample(5)"
   ]
  },
  {
   "cell_type": "code",
   "execution_count": 75,
   "id": "50d8d5d8-6b64-4e40-ba86-521edf6f7c1c",
   "metadata": {},
   "outputs": [
    {
     "data": {
      "text/plain": [
       "<Axes: xlabel='IPS', ylabel='count'>"
      ]
     },
     "execution_count": 75,
     "metadata": {},
     "output_type": "execute_result"
    },
    {
     "data": {
      "image/png": "[encoded data removed]",
      "text/plain": [
       "<Figure size 640x480 with 1 Axes>"
      ]
     },
     "metadata": {},
     "output_type": "display_data"
    }
   ],
   "source": [
    "sns.countplot(data= df, x = \"IPS\",palette='plasma')"
   ]
  },
  {
   "cell_type": "code",
   "execution_count": 77,
   "id": "c234bbb3-b670-4cde-aa5c-50b74f440c49",
   "metadata": {},
   "outputs": [
    {
     "data": {
      "text/plain": [
       "(array([0, 1]), [Text(0, 0, '0'), Text(1, 0, '1')])"
      ]
     },
     "execution_count": 77,
     "metadata": {},
     "output_type": "execute_result"
    },
    {
     "data": {
      "image/png": "[encoded data removed]",
      "text/plain": [
       "<Figure size 640x480 with 1 Axes>"
      ]
     },
     "metadata": {},
     "output_type": "display_data"
    }
   ],
   "source": [
    "# price variation with respect to the IPS col\n",
    "\n",
    "sns.barplot(x = df['IPS'],y = df['Price'])\n",
    "plt.xticks(rotation = 'vertical')"
   ]
  },
  {
   "cell_type": "markdown",
   "id": "8a34dcb4-027e-466a-909c-08ad480b9393",
   "metadata": {},
   "source": [
    "### Extracting the X Resolution and the Y Resolution"
   ]
  },
  {
   "cell_type": "code",
   "execution_count": 78,
   "id": "0ea98261-f972-4acd-a6e8-8c87f20e6bc8",
   "metadata": {},
   "outputs": [
    {
     "data": {
      "text/plain": [
       "0    IPS Panel Retina Display 2560x1600\n",
       "1                              1440x900\n",
       "2                     Full HD 1920x1080\n",
       "3    IPS Panel Retina Display 2880x1800\n",
       "4    IPS Panel Retina Display 2560x1600\n",
       "Name: ScreenResolution, dtype: object"
      ]
     },
     "execution_count": 78,
     "metadata": {},
     "output_type": "execute_result"
    }
   ],
   "source": [
    "df['ScreenResolution'].head()"
   ]
  },
  {
   "cell_type": "code",
   "execution_count": 79,
   "id": "333bf4b5-24ba-4844-9ba4-1113dacf4623",
   "metadata": {},
   "outputs": [
    {
     "data": {
      "text/html": [
       "<div>\n",
       "<style scoped>\n",
       "    .dataframe tbody tr th:only-of-type {\n",
       "        vertical-align: middle;\n",
       "    }\n",
       "\n",
       "    .dataframe tbody tr th {\n",
       "        vertical-align: top;\n",
       "    }\n",
       "\n",
       "    .dataframe thead th {\n",
       "        text-align: right;\n",
       "    }\n",
       "</style>\n",
       "<table border=\"1\" class=\"dataframe\">\n",
       "  <thead>\n",
       "    <tr style=\"text-align: right;\">\n",
       "      <th></th>\n",
       "      <th>0</th>\n",
       "      <th>1</th>\n",
       "    </tr>\n",
       "  </thead>\n",
       "  <tbody>\n",
       "    <tr>\n",
       "      <th>0</th>\n",
       "      <td>IPS Panel Retina Display 2560</td>\n",
       "      <td>1600</td>\n",
       "    </tr>\n",
       "    <tr>\n",
       "      <th>1</th>\n",
       "      <td>1440</td>\n",
       "      <td>900</td>\n",
       "    </tr>\n",
       "    <tr>\n",
       "      <th>2</th>\n",
       "      <td>Full HD 1920</td>\n",
       "      <td>1080</td>\n",
       "    </tr>\n",
       "    <tr>\n",
       "      <th>3</th>\n",
       "      <td>IPS Panel Retina Display 2880</td>\n",
       "      <td>1800</td>\n",
       "    </tr>\n",
       "    <tr>\n",
       "      <th>4</th>\n",
       "      <td>IPS Panel Retina Display 2560</td>\n",
       "      <td>1600</td>\n",
       "    </tr>\n",
       "  </tbody>\n",
       "</table>\n",
       "</div>"
      ],
      "text/plain": [
       "                               0     1\n",
       "0  IPS Panel Retina Display 2560  1600\n",
       "1                           1440   900\n",
       "2                   Full HD 1920  1080\n",
       "3  IPS Panel Retina Display 2880  1800\n",
       "4  IPS Panel Retina Display 2560  1600"
      ]
     },
     "execution_count": 79,
     "metadata": {},
     "output_type": "execute_result"
    }
   ],
   "source": [
    "# we will split the text at the \"x\" letter and seperate the 2 parts\n",
    "# from this we can observe that one of the col is Y res we need to do\n",
    "# some feature engineering on the X res col\n",
    "\n",
    "\n",
    "splitdf = df['ScreenResolution'].str.split('x', n = 1, expand=True)\n",
    "splitdf.head()"
   ]
  },
  {
   "cell_type": "code",
   "execution_count": 81,
   "id": "6ebf5081-ef7c-456a-a4f6-b28b701ad745",
   "metadata": {},
   "outputs": [
    {
     "data": {
      "text/plain": [
       "0    object\n",
       "1    object\n",
       "dtype: object"
      ]
     },
     "execution_count": 81,
     "metadata": {},
     "output_type": "execute_result"
    }
   ],
   "source": [
    "splitdf.dtypes"
   ]
  },
  {
   "cell_type": "code",
   "execution_count": 82,
   "id": "3e587d96-cdb0-4165-86cc-86880a30d2d8",
   "metadata": {},
   "outputs": [
    {
     "data": {
      "text/plain": [
       "pandas.core.frame.DataFrame"
      ]
     },
     "execution_count": 82,
     "metadata": {},
     "output_type": "execute_result"
    }
   ],
   "source": [
    "type(splitdf)"
   ]
  },
  {
   "cell_type": "code",
   "execution_count": 83,
   "id": "b48bee4e-9b09-46fd-a968-83fccb31a09c",
   "metadata": {},
   "outputs": [
    {
     "data": {
      "text/html": [
       "<div>\n",
       "<style scoped>\n",
       "    .dataframe tbody tr th:only-of-type {\n",
       "        vertical-align: middle;\n",
       "    }\n",
       "\n",
       "    .dataframe tbody tr th {\n",
       "        vertical-align: top;\n",
       "    }\n",
       "\n",
       "    .dataframe thead th {\n",
       "        text-align: right;\n",
       "    }\n",
       "</style>\n",
       "<table border=\"1\" class=\"dataframe\">\n",
       "  <thead>\n",
       "    <tr style=\"text-align: right;\">\n",
       "      <th></th>\n",
       "      <th>Company</th>\n",
       "      <th>TypeName</th>\n",
       "      <th>Inches</th>\n",
       "      <th>ScreenResolution</th>\n",
       "      <th>Cpu</th>\n",
       "      <th>Ram</th>\n",
       "      <th>Memory</th>\n",
       "      <th>Gpu</th>\n",
       "      <th>OpSys</th>\n",
       "      <th>Weight</th>\n",
       "      <th>Price</th>\n",
       "      <th>Touchscreen</th>\n",
       "      <th>TouchScreen</th>\n",
       "      <th>IPS</th>\n",
       "      <th>X_res</th>\n",
       "      <th>Y_res</th>\n",
       "    </tr>\n",
       "  </thead>\n",
       "  <tbody>\n",
       "    <tr>\n",
       "      <th>0</th>\n",
       "      <td>Apple</td>\n",
       "      <td>Ultrabook</td>\n",
       "      <td>13.3</td>\n",
       "      <td>IPS Panel Retina Display 2560x1600</td>\n",
       "      <td>Intel Core i5 2.3GHz</td>\n",
       "      <td>8</td>\n",
       "      <td>128GB SSD</td>\n",
       "      <td>Intel Iris Plus Graphics 640</td>\n",
       "      <td>macOS</td>\n",
       "      <td>1.37</td>\n",
       "      <td>71378.6832</td>\n",
       "      <td>0</td>\n",
       "      <td>0</td>\n",
       "      <td>1</td>\n",
       "      <td>IPS Panel Retina Display 2560</td>\n",
       "      <td>1600</td>\n",
       "    </tr>\n",
       "    <tr>\n",
       "      <th>1</th>\n",
       "      <td>Apple</td>\n",
       "      <td>Ultrabook</td>\n",
       "      <td>13.3</td>\n",
       "      <td>1440x900</td>\n",
       "      <td>Intel Core i5 1.8GHz</td>\n",
       "      <td>8</td>\n",
       "      <td>128GB Flash Storage</td>\n",
       "      <td>Intel HD Graphics 6000</td>\n",
       "      <td>macOS</td>\n",
       "      <td>1.34</td>\n",
       "      <td>47895.5232</td>\n",
       "      <td>0</td>\n",
       "      <td>0</td>\n",
       "      <td>0</td>\n",
       "      <td>1440</td>\n",
       "      <td>900</td>\n",
       "    </tr>\n",
       "    <tr>\n",
       "      <th>2</th>\n",
       "      <td>HP</td>\n",
       "      <td>Notebook</td>\n",
       "      <td>15.6</td>\n",
       "      <td>Full HD 1920x1080</td>\n",
       "      <td>Intel Core i5 7200U 2.5GHz</td>\n",
       "      <td>8</td>\n",
       "      <td>256GB SSD</td>\n",
       "      <td>Intel HD Graphics 620</td>\n",
       "      <td>No OS</td>\n",
       "      <td>1.86</td>\n",
       "      <td>30636.0000</td>\n",
       "      <td>0</td>\n",
       "      <td>0</td>\n",
       "      <td>0</td>\n",
       "      <td>Full HD 1920</td>\n",
       "      <td>1080</td>\n",
       "    </tr>\n",
       "    <tr>\n",
       "      <th>3</th>\n",
       "      <td>Apple</td>\n",
       "      <td>Ultrabook</td>\n",
       "      <td>15.4</td>\n",
       "      <td>IPS Panel Retina Display 2880x1800</td>\n",
       "      <td>Intel Core i7 2.7GHz</td>\n",
       "      <td>16</td>\n",
       "      <td>512GB SSD</td>\n",
       "      <td>AMD Radeon Pro 455</td>\n",
       "      <td>macOS</td>\n",
       "      <td>1.83</td>\n",
       "      <td>135195.3360</td>\n",
       "      <td>0</td>\n",
       "      <td>0</td>\n",
       "      <td>1</td>\n",
       "      <td>IPS Panel Retina Display 2880</td>\n",
       "      <td>1800</td>\n",
       "    </tr>\n",
       "    <tr>\n",
       "      <th>4</th>\n",
       "      <td>Apple</td>\n",
       "      <td>Ultrabook</td>\n",
       "      <td>13.3</td>\n",
       "      <td>IPS Panel Retina Display 2560x1600</td>\n",
       "      <td>Intel Core i5 3.1GHz</td>\n",
       "      <td>8</td>\n",
       "      <td>256GB SSD</td>\n",
       "      <td>Intel Iris Plus Graphics 650</td>\n",
       "      <td>macOS</td>\n",
       "      <td>1.37</td>\n",
       "      <td>96095.8080</td>\n",
       "      <td>0</td>\n",
       "      <td>0</td>\n",
       "      <td>1</td>\n",
       "      <td>IPS Panel Retina Display 2560</td>\n",
       "      <td>1600</td>\n",
       "    </tr>\n",
       "  </tbody>\n",
       "</table>\n",
       "</div>"
      ],
      "text/plain": [
       "  Company   TypeName  Inches                    ScreenResolution  \\\n",
       "0   Apple  Ultrabook    13.3  IPS Panel Retina Display 2560x1600   \n",
       "1   Apple  Ultrabook    13.3                            1440x900   \n",
       "2      HP   Notebook    15.6                   Full HD 1920x1080   \n",
       "3   Apple  Ultrabook    15.4  IPS Panel Retina Display 2880x1800   \n",
       "4   Apple  Ultrabook    13.3  IPS Panel Retina Display 2560x1600   \n",
       "\n",
       "                          Cpu  Ram               Memory  \\\n",
       "0        Intel Core i5 2.3GHz    8            128GB SSD   \n",
       "1        Intel Core i5 1.8GHz    8  128GB Flash Storage   \n",
       "2  Intel Core i5 7200U 2.5GHz    8            256GB SSD   \n",
       "3        Intel Core i7 2.7GHz   16            512GB SSD   \n",
       "4        Intel Core i5 3.1GHz    8            256GB SSD   \n",
       "\n",
       "                            Gpu  OpSys  Weight        Price  Touchscreen  \\\n",
       "0  Intel Iris Plus Graphics 640  macOS    1.37   71378.6832            0   \n",
       "1        Intel HD Graphics 6000  macOS    1.34   47895.5232            0   \n",
       "2         Intel HD Graphics 620  No OS    1.86   30636.0000            0   \n",
       "3            AMD Radeon Pro 455  macOS    1.83  135195.3360            0   \n",
       "4  Intel Iris Plus Graphics 650  macOS    1.37   96095.8080            0   \n",
       "\n",
       "   TouchScreen  IPS                          X_res Y_res  \n",
       "0            0    1  IPS Panel Retina Display 2560  1600  \n",
       "1            0    0                           1440   900  \n",
       "2            0    0                   Full HD 1920  1080  \n",
       "3            0    1  IPS Panel Retina Display 2880  1800  \n",
       "4            0    1  IPS Panel Retina Display 2560  1600  "
      ]
     },
     "execution_count": 83,
     "metadata": {},
     "output_type": "execute_result"
    }
   ],
   "source": [
    "df['X_res'] = splitdf[0]\n",
    "df['Y_res'] = splitdf[1]\n",
    "df.head()"
   ]
  },
  {
   "cell_type": "code",
   "execution_count": 84,
   "id": "a572cda2-cd55-4886-b2a1-d8d75f393955",
   "metadata": {},
   "outputs": [
    {
     "data": {
      "text/html": [
       "<div>\n",
       "<style scoped>\n",
       "    .dataframe tbody tr th:only-of-type {\n",
       "        vertical-align: middle;\n",
       "    }\n",
       "\n",
       "    .dataframe tbody tr th {\n",
       "        vertical-align: top;\n",
       "    }\n",
       "\n",
       "    .dataframe thead th {\n",
       "        text-align: right;\n",
       "    }\n",
       "</style>\n",
       "<table border=\"1\" class=\"dataframe\">\n",
       "  <thead>\n",
       "    <tr style=\"text-align: right;\">\n",
       "      <th></th>\n",
       "      <th>Company</th>\n",
       "      <th>TypeName</th>\n",
       "      <th>Inches</th>\n",
       "      <th>ScreenResolution</th>\n",
       "      <th>Cpu</th>\n",
       "      <th>Ram</th>\n",
       "      <th>Memory</th>\n",
       "      <th>Gpu</th>\n",
       "      <th>OpSys</th>\n",
       "      <th>Weight</th>\n",
       "      <th>Price</th>\n",
       "      <th>Touchscreen</th>\n",
       "      <th>TouchScreen</th>\n",
       "      <th>IPS</th>\n",
       "      <th>X_res</th>\n",
       "      <th>Y_res</th>\n",
       "    </tr>\n",
       "  </thead>\n",
       "  <tbody>\n",
       "    <tr>\n",
       "      <th>0</th>\n",
       "      <td>Apple</td>\n",
       "      <td>Ultrabook</td>\n",
       "      <td>13.3</td>\n",
       "      <td>IPS Panel Retina Display 2560x1600</td>\n",
       "      <td>Intel Core i5 2.3GHz</td>\n",
       "      <td>8</td>\n",
       "      <td>128GB SSD</td>\n",
       "      <td>Intel Iris Plus Graphics 640</td>\n",
       "      <td>macOS</td>\n",
       "      <td>1.37</td>\n",
       "      <td>71378.6832</td>\n",
       "      <td>0</td>\n",
       "      <td>0</td>\n",
       "      <td>1</td>\n",
       "      <td>2560</td>\n",
       "      <td>1600</td>\n",
       "    </tr>\n",
       "    <tr>\n",
       "      <th>1</th>\n",
       "      <td>Apple</td>\n",
       "      <td>Ultrabook</td>\n",
       "      <td>13.3</td>\n",
       "      <td>1440x900</td>\n",
       "      <td>Intel Core i5 1.8GHz</td>\n",
       "      <td>8</td>\n",
       "      <td>128GB Flash Storage</td>\n",
       "      <td>Intel HD Graphics 6000</td>\n",
       "      <td>macOS</td>\n",
       "      <td>1.34</td>\n",
       "      <td>47895.5232</td>\n",
       "      <td>0</td>\n",
       "      <td>0</td>\n",
       "      <td>0</td>\n",
       "      <td>1440</td>\n",
       "      <td>900</td>\n",
       "    </tr>\n",
       "    <tr>\n",
       "      <th>2</th>\n",
       "      <td>HP</td>\n",
       "      <td>Notebook</td>\n",
       "      <td>15.6</td>\n",
       "      <td>Full HD 1920x1080</td>\n",
       "      <td>Intel Core i5 7200U 2.5GHz</td>\n",
       "      <td>8</td>\n",
       "      <td>256GB SSD</td>\n",
       "      <td>Intel HD Graphics 620</td>\n",
       "      <td>No OS</td>\n",
       "      <td>1.86</td>\n",
       "      <td>30636.0000</td>\n",
       "      <td>0</td>\n",
       "      <td>0</td>\n",
       "      <td>0</td>\n",
       "      <td>1920</td>\n",
       "      <td>1080</td>\n",
       "    </tr>\n",
       "    <tr>\n",
       "      <th>3</th>\n",
       "      <td>Apple</td>\n",
       "      <td>Ultrabook</td>\n",
       "      <td>15.4</td>\n",
       "      <td>IPS Panel Retina Display 2880x1800</td>\n",
       "      <td>Intel Core i7 2.7GHz</td>\n",
       "      <td>16</td>\n",
       "      <td>512GB SSD</td>\n",
       "      <td>AMD Radeon Pro 455</td>\n",
       "      <td>macOS</td>\n",
       "      <td>1.83</td>\n",
       "      <td>135195.3360</td>\n",
       "      <td>0</td>\n",
       "      <td>0</td>\n",
       "      <td>1</td>\n",
       "      <td>2880</td>\n",
       "      <td>1800</td>\n",
       "    </tr>\n",
       "    <tr>\n",
       "      <th>4</th>\n",
       "      <td>Apple</td>\n",
       "      <td>Ultrabook</td>\n",
       "      <td>13.3</td>\n",
       "      <td>IPS Panel Retina Display 2560x1600</td>\n",
       "      <td>Intel Core i5 3.1GHz</td>\n",
       "      <td>8</td>\n",
       "      <td>256GB SSD</td>\n",
       "      <td>Intel Iris Plus Graphics 650</td>\n",
       "      <td>macOS</td>\n",
       "      <td>1.37</td>\n",
       "      <td>96095.8080</td>\n",
       "      <td>0</td>\n",
       "      <td>0</td>\n",
       "      <td>1</td>\n",
       "      <td>2560</td>\n",
       "      <td>1600</td>\n",
       "    </tr>\n",
       "  </tbody>\n",
       "</table>\n",
       "</div>"
      ],
      "text/plain": [
       "  Company   TypeName  Inches                    ScreenResolution  \\\n",
       "0   Apple  Ultrabook    13.3  IPS Panel Retina Display 2560x1600   \n",
       "1   Apple  Ultrabook    13.3                            1440x900   \n",
       "2      HP   Notebook    15.6                   Full HD 1920x1080   \n",
       "3   Apple  Ultrabook    15.4  IPS Panel Retina Display 2880x1800   \n",
       "4   Apple  Ultrabook    13.3  IPS Panel Retina Display 2560x1600   \n",
       "\n",
       "                          Cpu  Ram               Memory  \\\n",
       "0        Intel Core i5 2.3GHz    8            128GB SSD   \n",
       "1        Intel Core i5 1.8GHz    8  128GB Flash Storage   \n",
       "2  Intel Core i5 7200U 2.5GHz    8            256GB SSD   \n",
       "3        Intel Core i7 2.7GHz   16            512GB SSD   \n",
       "4        Intel Core i5 3.1GHz    8            256GB SSD   \n",
       "\n",
       "                            Gpu  OpSys  Weight        Price  Touchscreen  \\\n",
       "0  Intel Iris Plus Graphics 640  macOS    1.37   71378.6832            0   \n",
       "1        Intel HD Graphics 6000  macOS    1.34   47895.5232            0   \n",
       "2         Intel HD Graphics 620  No OS    1.86   30636.0000            0   \n",
       "3            AMD Radeon Pro 455  macOS    1.83  135195.3360            0   \n",
       "4  Intel Iris Plus Graphics 650  macOS    1.37   96095.8080            0   \n",
       "\n",
       "   TouchScreen  IPS X_res Y_res  \n",
       "0            0    1  2560  1600  \n",
       "1            0    0  1440   900  \n",
       "2            0    0  1920  1080  \n",
       "3            0    1  2880  1800  \n",
       "4            0    1  2560  1600  "
      ]
     },
     "execution_count": 84,
     "metadata": {},
     "output_type": "execute_result"
    }
   ],
   "source": [
    "'''\n",
    "So basically from that whole text of the X_res col,we need to \n",
    "extract the digits from it,but the problem is the numbers are scattered \n",
    "in some cases,that is the reason why i am using regex,if we use this\n",
    "we will exactly get the numbers which we are looking for!,\n",
    "so firstly replace all the \",\" with \"\" and then find all numbers\n",
    "from that string as \"\\d+\\.?\\d+\",\\d means that integer number and \\.? \n",
    "all the numbers which come after an number and \\d+ the string must end with number\n",
    "\n",
    "'''\n",
    "\n",
    "df['X_res'] = df['X_res'].str.replace(',','').str.findall(r'(\\d+\\.?\\d+)').apply(lambda x:x[0])\n",
    "\n",
    "df.head()\n"
   ]
  },
  {
   "cell_type": "code",
   "execution_count": 85,
   "id": "a6ae8cf1-b259-436f-8918-82165eef3541",
   "metadata": {},
   "outputs": [
    {
     "name": "stdout",
     "output_type": "stream",
     "text": [
      "<class 'pandas.core.frame.DataFrame'>\n",
      "RangeIndex: 1303 entries, 0 to 1302\n",
      "Data columns (total 16 columns):\n",
      " #   Column            Non-Null Count  Dtype  \n",
      "---  ------            --------------  -----  \n",
      " 0   Company           1303 non-null   object \n",
      " 1   TypeName          1303 non-null   object \n",
      " 2   Inches            1303 non-null   float64\n",
      " 3   ScreenResolution  1303 non-null   object \n",
      " 4   Cpu               1303 non-null   object \n",
      " 5   Ram               1303 non-null   int32  \n",
      " 6   Memory            1303 non-null   object \n",
      " 7   Gpu               1303 non-null   object \n",
      " 8   OpSys             1303 non-null   object \n",
      " 9   Weight            1303 non-null   float32\n",
      " 10  Price             1303 non-null   float64\n",
      " 11  Touchscreen       1303 non-null   int64  \n",
      " 12  TouchScreen       1303 non-null   int64  \n",
      " 13  IPS               1303 non-null   int64  \n",
      " 14  X_res             1303 non-null   int32  \n",
      " 15  Y_res             1303 non-null   int32  \n",
      "dtypes: float32(1), float64(2), int32(3), int64(3), object(7)\n",
      "memory usage: 142.6+ KB\n"
     ]
    }
   ],
   "source": [
    "df['X_res'] = df['X_res'].astype('int')\n",
    "df['Y_res'] = df['Y_res'].astype('int')\n",
    "df.info()"
   ]
  },
  {
   "cell_type": "code",
   "execution_count": 97,
   "id": "434fbebf-b6d7-4d38-a0ac-020edabebdad",
   "metadata": {},
   "outputs": [],
   "source": [
    "# Select only the numeric columns from the DataFrame\n",
    "numeric_df = df.select_dtypes(include=['number'])"
   ]
  },
  {
   "cell_type": "code",
   "execution_count": 98,
   "id": "a266a922-4f80-4723-b5c9-738949465ae2",
   "metadata": {},
   "outputs": [
    {
     "data": {
      "text/html": [
       "<div>\n",
       "<style scoped>\n",
       "    .dataframe tbody tr th:only-of-type {\n",
       "        vertical-align: middle;\n",
       "    }\n",
       "\n",
       "    .dataframe tbody tr th {\n",
       "        vertical-align: top;\n",
       "    }\n",
       "\n",
       "    .dataframe thead th {\n",
       "        text-align: right;\n",
       "    }\n",
       "</style>\n",
       "<table border=\"1\" class=\"dataframe\">\n",
       "  <thead>\n",
       "    <tr style=\"text-align: right;\">\n",
       "      <th></th>\n",
       "      <th>Inches</th>\n",
       "      <th>Ram</th>\n",
       "      <th>Weight</th>\n",
       "      <th>Price</th>\n",
       "      <th>TouchScreen</th>\n",
       "      <th>IPS</th>\n",
       "      <th>X_res</th>\n",
       "      <th>Y_res</th>\n",
       "    </tr>\n",
       "  </thead>\n",
       "  <tbody>\n",
       "    <tr>\n",
       "      <th>0</th>\n",
       "      <td>13.3</td>\n",
       "      <td>8</td>\n",
       "      <td>1.37</td>\n",
       "      <td>71378.6832</td>\n",
       "      <td>0</td>\n",
       "      <td>1</td>\n",
       "      <td>2560</td>\n",
       "      <td>1600</td>\n",
       "    </tr>\n",
       "    <tr>\n",
       "      <th>1</th>\n",
       "      <td>13.3</td>\n",
       "      <td>8</td>\n",
       "      <td>1.34</td>\n",
       "      <td>47895.5232</td>\n",
       "      <td>0</td>\n",
       "      <td>0</td>\n",
       "      <td>1440</td>\n",
       "      <td>900</td>\n",
       "    </tr>\n",
       "    <tr>\n",
       "      <th>2</th>\n",
       "      <td>15.6</td>\n",
       "      <td>8</td>\n",
       "      <td>1.86</td>\n",
       "      <td>30636.0000</td>\n",
       "      <td>0</td>\n",
       "      <td>0</td>\n",
       "      <td>1920</td>\n",
       "      <td>1080</td>\n",
       "    </tr>\n",
       "    <tr>\n",
       "      <th>3</th>\n",
       "      <td>15.4</td>\n",
       "      <td>16</td>\n",
       "      <td>1.83</td>\n",
       "      <td>135195.3360</td>\n",
       "      <td>0</td>\n",
       "      <td>1</td>\n",
       "      <td>2880</td>\n",
       "      <td>1800</td>\n",
       "    </tr>\n",
       "    <tr>\n",
       "      <th>4</th>\n",
       "      <td>13.3</td>\n",
       "      <td>8</td>\n",
       "      <td>1.37</td>\n",
       "      <td>96095.8080</td>\n",
       "      <td>0</td>\n",
       "      <td>1</td>\n",
       "      <td>2560</td>\n",
       "      <td>1600</td>\n",
       "    </tr>\n",
       "    <tr>\n",
       "      <th>...</th>\n",
       "      <td>...</td>\n",
       "      <td>...</td>\n",
       "      <td>...</td>\n",
       "      <td>...</td>\n",
       "      <td>...</td>\n",
       "      <td>...</td>\n",
       "      <td>...</td>\n",
       "      <td>...</td>\n",
       "    </tr>\n",
       "    <tr>\n",
       "      <th>1298</th>\n",
       "      <td>14.0</td>\n",
       "      <td>4</td>\n",
       "      <td>1.80</td>\n",
       "      <td>33992.6400</td>\n",
       "      <td>1</td>\n",
       "      <td>1</td>\n",
       "      <td>1920</td>\n",
       "      <td>1080</td>\n",
       "    </tr>\n",
       "    <tr>\n",
       "      <th>1299</th>\n",
       "      <td>13.3</td>\n",
       "      <td>16</td>\n",
       "      <td>1.30</td>\n",
       "      <td>79866.7200</td>\n",
       "      <td>1</td>\n",
       "      <td>1</td>\n",
       "      <td>3200</td>\n",
       "      <td>1800</td>\n",
       "    </tr>\n",
       "    <tr>\n",
       "      <th>1300</th>\n",
       "      <td>14.0</td>\n",
       "      <td>2</td>\n",
       "      <td>1.50</td>\n",
       "      <td>12201.1200</td>\n",
       "      <td>0</td>\n",
       "      <td>0</td>\n",
       "      <td>1366</td>\n",
       "      <td>768</td>\n",
       "    </tr>\n",
       "    <tr>\n",
       "      <th>1301</th>\n",
       "      <td>15.6</td>\n",
       "      <td>6</td>\n",
       "      <td>2.19</td>\n",
       "      <td>40705.9200</td>\n",
       "      <td>0</td>\n",
       "      <td>0</td>\n",
       "      <td>1366</td>\n",
       "      <td>768</td>\n",
       "    </tr>\n",
       "    <tr>\n",
       "      <th>1302</th>\n",
       "      <td>15.6</td>\n",
       "      <td>4</td>\n",
       "      <td>2.20</td>\n",
       "      <td>19660.3200</td>\n",
       "      <td>0</td>\n",
       "      <td>0</td>\n",
       "      <td>1366</td>\n",
       "      <td>768</td>\n",
       "    </tr>\n",
       "  </tbody>\n",
       "</table>\n",
       "<p>1303 rows × 8 columns</p>\n",
       "</div>"
      ],
      "text/plain": [
       "      Inches  Ram  Weight        Price  TouchScreen  IPS  X_res  Y_res\n",
       "0       13.3    8    1.37   71378.6832            0    1   2560   1600\n",
       "1       13.3    8    1.34   47895.5232            0    0   1440    900\n",
       "2       15.6    8    1.86   30636.0000            0    0   1920   1080\n",
       "3       15.4   16    1.83  135195.3360            0    1   2880   1800\n",
       "4       13.3    8    1.37   96095.8080            0    1   2560   1600\n",
       "...      ...  ...     ...          ...          ...  ...    ...    ...\n",
       "1298    14.0    4    1.80   33992.6400            1    1   1920   1080\n",
       "1299    13.3   16    1.30   79866.7200            1    1   3200   1800\n",
       "1300    14.0    2    1.50   12201.1200            0    0   1366    768\n",
       "1301    15.6    6    2.19   40705.9200            0    0   1366    768\n",
       "1302    15.6    4    2.20   19660.3200            0    0   1366    768\n",
       "\n",
       "[1303 rows x 8 columns]"
      ]
     },
     "execution_count": 98,
     "metadata": {},
     "output_type": "execute_result"
    }
   ],
   "source": [
    "numeric_df"
   ]
  },
  {
   "cell_type": "code",
   "execution_count": 99,
   "id": "daed8ece-6837-46e3-b363-232d723bf721",
   "metadata": {},
   "outputs": [
    {
     "data": {
      "text/plain": [
       "<Axes: >"
      ]
     },
     "execution_count": 99,
     "metadata": {},
     "output_type": "execute_result"
    },
    {
     "data": {
      "image/png": "[encoded data removed]",
      "text/plain": [
       "<Figure size 800x500 with 2 Axes>"
      ]
     },
     "metadata": {},
     "output_type": "display_data"
    }
   ],
   "source": [
    "# Create the heatmap for the numeric columns\n",
    "plt.figure(figsize=(8,5))\n",
    "sns.heatmap(numeric_df.corr(), annot=True, cmap='plasma')"
   ]
  },
  {
   "cell_type": "code",
   "execution_count": 100,
   "id": "cbc2c839-85e4-4856-88ea-fbe36bb78370",
   "metadata": {},
   "outputs": [
    {
     "data": {
      "text/plain": [
       "Inches         0.068197\n",
       "Ram            0.743007\n",
       "Weight         0.210370\n",
       "Price          1.000000\n",
       "TouchScreen    0.191226\n",
       "IPS            0.252208\n",
       "X_res          0.556529\n",
       "Y_res          0.552809\n",
       "Name: Price, dtype: float64"
      ]
     },
     "execution_count": 100,
     "metadata": {},
     "output_type": "execute_result"
    }
   ],
   "source": [
    "numeric_df.corr()['Price'] "
   ]
  },
  {
   "cell_type": "markdown",
   "id": "33058f30-92eb-4842-adf5-15c6beec518a",
   "metadata": {},
   "source": [
    "##### **From the correlation plot we observed that as the X_res and Y_res is increasing,the price of the laptop is also increasing,so `X_res and Y_res` are positively correlated and they are giving much information,so that is the reason why i had splitted `Resolution` column into `X_res and Y_res` columns respectively**"
   ]
  },
  {
   "cell_type": "markdown",
   "id": "77be912e-ec0e-45c0-8af7-c056a48ac37e",
   "metadata": {},
   "source": [
    "##### **So to make things good,we can create a new column named `PPI{pixels per inch}`,now  as we saw from the correlation plot that the `X_res and Y_res` are having much collinearity,so why not combine them with `Inches` which is having less collinearity,so we will combine them as follows ↓,so here is the formula of how to calculate `PPI` {pixels per inch}**"
   ]
  },
  {
   "cell_type": "markdown",
   "id": "e28673d7-a35e-4a60-b58d-05006d52a7d3",
   "metadata": {},
   "source": [
    "$$\n",
    "    PPI(pixels per inch) = \\frac{\\sqrt{X_resolution^2+Y_resolution^2}}{inches}\n",
    "$$"
   ]
  },
  {
   "cell_type": "code",
   "execution_count": 101,
   "id": "520198ea-9d86-4090-a3e2-6688d8f408f9",
   "metadata": {},
   "outputs": [
    {
     "data": {
      "text/html": [
       "<div>\n",
       "<style scoped>\n",
       "    .dataframe tbody tr th:only-of-type {\n",
       "        vertical-align: middle;\n",
       "    }\n",
       "\n",
       "    .dataframe tbody tr th {\n",
       "        vertical-align: top;\n",
       "    }\n",
       "\n",
       "    .dataframe thead th {\n",
       "        text-align: right;\n",
       "    }\n",
       "</style>\n",
       "<table border=\"1\" class=\"dataframe\">\n",
       "  <thead>\n",
       "    <tr style=\"text-align: right;\">\n",
       "      <th></th>\n",
       "      <th>Company</th>\n",
       "      <th>TypeName</th>\n",
       "      <th>Inches</th>\n",
       "      <th>ScreenResolution</th>\n",
       "      <th>Cpu</th>\n",
       "      <th>Ram</th>\n",
       "      <th>Memory</th>\n",
       "      <th>Gpu</th>\n",
       "      <th>OpSys</th>\n",
       "      <th>Weight</th>\n",
       "      <th>Price</th>\n",
       "      <th>TouchScreen</th>\n",
       "      <th>IPS</th>\n",
       "      <th>X_res</th>\n",
       "      <th>Y_res</th>\n",
       "      <th>PPI</th>\n",
       "    </tr>\n",
       "  </thead>\n",
       "  <tbody>\n",
       "    <tr>\n",
       "      <th>0</th>\n",
       "      <td>Apple</td>\n",
       "      <td>Ultrabook</td>\n",
       "      <td>13.3</td>\n",
       "      <td>IPS Panel Retina Display 2560x1600</td>\n",
       "      <td>Intel Core i5 2.3GHz</td>\n",
       "      <td>8</td>\n",
       "      <td>128GB SSD</td>\n",
       "      <td>Intel Iris Plus Graphics 640</td>\n",
       "      <td>macOS</td>\n",
       "      <td>1.37</td>\n",
       "      <td>71378.6832</td>\n",
       "      <td>0</td>\n",
       "      <td>1</td>\n",
       "      <td>2560</td>\n",
       "      <td>1600</td>\n",
       "      <td>226.983005</td>\n",
       "    </tr>\n",
       "    <tr>\n",
       "      <th>1</th>\n",
       "      <td>Apple</td>\n",
       "      <td>Ultrabook</td>\n",
       "      <td>13.3</td>\n",
       "      <td>1440x900</td>\n",
       "      <td>Intel Core i5 1.8GHz</td>\n",
       "      <td>8</td>\n",
       "      <td>128GB Flash Storage</td>\n",
       "      <td>Intel HD Graphics 6000</td>\n",
       "      <td>macOS</td>\n",
       "      <td>1.34</td>\n",
       "      <td>47895.5232</td>\n",
       "      <td>0</td>\n",
       "      <td>0</td>\n",
       "      <td>1440</td>\n",
       "      <td>900</td>\n",
       "      <td>127.677940</td>\n",
       "    </tr>\n",
       "    <tr>\n",
       "      <th>2</th>\n",
       "      <td>HP</td>\n",
       "      <td>Notebook</td>\n",
       "      <td>15.6</td>\n",
       "      <td>Full HD 1920x1080</td>\n",
       "      <td>Intel Core i5 7200U 2.5GHz</td>\n",
       "      <td>8</td>\n",
       "      <td>256GB SSD</td>\n",
       "      <td>Intel HD Graphics 620</td>\n",
       "      <td>No OS</td>\n",
       "      <td>1.86</td>\n",
       "      <td>30636.0000</td>\n",
       "      <td>0</td>\n",
       "      <td>0</td>\n",
       "      <td>1920</td>\n",
       "      <td>1080</td>\n",
       "      <td>141.211998</td>\n",
       "    </tr>\n",
       "    <tr>\n",
       "      <th>3</th>\n",
       "      <td>Apple</td>\n",
       "      <td>Ultrabook</td>\n",
       "      <td>15.4</td>\n",
       "      <td>IPS Panel Retina Display 2880x1800</td>\n",
       "      <td>Intel Core i7 2.7GHz</td>\n",
       "      <td>16</td>\n",
       "      <td>512GB SSD</td>\n",
       "      <td>AMD Radeon Pro 455</td>\n",
       "      <td>macOS</td>\n",
       "      <td>1.83</td>\n",
       "      <td>135195.3360</td>\n",
       "      <td>0</td>\n",
       "      <td>1</td>\n",
       "      <td>2880</td>\n",
       "      <td>1800</td>\n",
       "      <td>220.534624</td>\n",
       "    </tr>\n",
       "    <tr>\n",
       "      <th>4</th>\n",
       "      <td>Apple</td>\n",
       "      <td>Ultrabook</td>\n",
       "      <td>13.3</td>\n",
       "      <td>IPS Panel Retina Display 2560x1600</td>\n",
       "      <td>Intel Core i5 3.1GHz</td>\n",
       "      <td>8</td>\n",
       "      <td>256GB SSD</td>\n",
       "      <td>Intel Iris Plus Graphics 650</td>\n",
       "      <td>macOS</td>\n",
       "      <td>1.37</td>\n",
       "      <td>96095.8080</td>\n",
       "      <td>0</td>\n",
       "      <td>1</td>\n",
       "      <td>2560</td>\n",
       "      <td>1600</td>\n",
       "      <td>226.983005</td>\n",
       "    </tr>\n",
       "  </tbody>\n",
       "</table>\n",
       "</div>"
      ],
      "text/plain": [
       "  Company   TypeName  Inches                    ScreenResolution  \\\n",
       "0   Apple  Ultrabook    13.3  IPS Panel Retina Display 2560x1600   \n",
       "1   Apple  Ultrabook    13.3                            1440x900   \n",
       "2      HP   Notebook    15.6                   Full HD 1920x1080   \n",
       "3   Apple  Ultrabook    15.4  IPS Panel Retina Display 2880x1800   \n",
       "4   Apple  Ultrabook    13.3  IPS Panel Retina Display 2560x1600   \n",
       "\n",
       "                          Cpu  Ram               Memory  \\\n",
       "0        Intel Core i5 2.3GHz    8            128GB SSD   \n",
       "1        Intel Core i5 1.8GHz    8  128GB Flash Storage   \n",
       "2  Intel Core i5 7200U 2.5GHz    8            256GB SSD   \n",
       "3        Intel Core i7 2.7GHz   16            512GB SSD   \n",
       "4        Intel Core i5 3.1GHz    8            256GB SSD   \n",
       "\n",
       "                            Gpu  OpSys  Weight        Price  TouchScreen  IPS  \\\n",
       "0  Intel Iris Plus Graphics 640  macOS    1.37   71378.6832            0    1   \n",
       "1        Intel HD Graphics 6000  macOS    1.34   47895.5232            0    0   \n",
       "2         Intel HD Graphics 620  No OS    1.86   30636.0000            0    0   \n",
       "3            AMD Radeon Pro 455  macOS    1.83  135195.3360            0    1   \n",
       "4  Intel Iris Plus Graphics 650  macOS    1.37   96095.8080            0    1   \n",
       "\n",
       "   X_res  Y_res         PPI  \n",
       "0   2560   1600  226.983005  \n",
       "1   1440    900  127.677940  \n",
       "2   1920   1080  141.211998  \n",
       "3   2880   1800  220.534624  \n",
       "4   2560   1600  226.983005  "
      ]
     },
     "execution_count": 101,
     "metadata": {},
     "output_type": "execute_result"
    }
   ],
   "source": [
    "df['PPI'] = (((df['X_res']**2+df['Y_res']**2))**0.5/df['Inches']).astype('float')\n",
    "df.head()"
   ]
  },
  {
   "cell_type": "code",
   "execution_count": 102,
   "id": "5b437fad-2bbe-4a83-a7e6-846159b33235",
   "metadata": {},
   "outputs": [],
   "source": [
    "# Select only the numeric columns from the DataFrame\n",
    "numeric_df = df.select_dtypes(include=['number'])"
   ]
  },
  {
   "cell_type": "code",
   "execution_count": 103,
   "id": "697babcb-45ac-4bd1-95ab-7491173486b1",
   "metadata": {},
   "outputs": [
    {
     "data": {
      "text/plain": [
       "Inches         0.068197\n",
       "Ram            0.743007\n",
       "Weight         0.210370\n",
       "Price          1.000000\n",
       "TouchScreen    0.191226\n",
       "IPS            0.252208\n",
       "X_res          0.556529\n",
       "Y_res          0.552809\n",
       "PPI            0.473487\n",
       "Name: Price, dtype: float64"
      ]
     },
     "execution_count": 103,
     "metadata": {},
     "output_type": "execute_result"
    }
   ],
   "source": [
    "numeric_df.corr()[\"Price\"]"
   ]
  },
  {
   "cell_type": "markdown",
   "id": "e393bed3-3038-4425-be2e-f2b9edbb1834",
   "metadata": {},
   "source": [
    "##### **So as we observe from the correlation data that the `PPI` is having good correlation,so we will be using that,as that is a combination of 3 features and that gives collective results of 3 columns,so we will drop `Inches,X_res,Y_res` as well**"
   ]
  },
  {
   "cell_type": "code",
   "execution_count": 104,
   "id": "796eec9e-120d-42d4-934e-6406bc17dc1e",
   "metadata": {},
   "outputs": [
    {
     "data": {
      "text/html": [
       "<div>\n",
       "<style scoped>\n",
       "    .dataframe tbody tr th:only-of-type {\n",
       "        vertical-align: middle;\n",
       "    }\n",
       "\n",
       "    .dataframe tbody tr th {\n",
       "        vertical-align: top;\n",
       "    }\n",
       "\n",
       "    .dataframe thead th {\n",
       "        text-align: right;\n",
       "    }\n",
       "</style>\n",
       "<table border=\"1\" class=\"dataframe\">\n",
       "  <thead>\n",
       "    <tr style=\"text-align: right;\">\n",
       "      <th></th>\n",
       "      <th>Company</th>\n",
       "      <th>TypeName</th>\n",
       "      <th>Cpu</th>\n",
       "      <th>Ram</th>\n",
       "      <th>Memory</th>\n",
       "      <th>Gpu</th>\n",
       "      <th>OpSys</th>\n",
       "      <th>Weight</th>\n",
       "      <th>Price</th>\n",
       "      <th>TouchScreen</th>\n",
       "      <th>IPS</th>\n",
       "      <th>PPI</th>\n",
       "    </tr>\n",
       "  </thead>\n",
       "  <tbody>\n",
       "    <tr>\n",
       "      <th>0</th>\n",
       "      <td>Apple</td>\n",
       "      <td>Ultrabook</td>\n",
       "      <td>Intel Core i5 2.3GHz</td>\n",
       "      <td>8</td>\n",
       "      <td>128GB SSD</td>\n",
       "      <td>Intel Iris Plus Graphics 640</td>\n",
       "      <td>macOS</td>\n",
       "      <td>1.37</td>\n",
       "      <td>71378.6832</td>\n",
       "      <td>0</td>\n",
       "      <td>1</td>\n",
       "      <td>226.983005</td>\n",
       "    </tr>\n",
       "    <tr>\n",
       "      <th>1</th>\n",
       "      <td>Apple</td>\n",
       "      <td>Ultrabook</td>\n",
       "      <td>Intel Core i5 1.8GHz</td>\n",
       "      <td>8</td>\n",
       "      <td>128GB Flash Storage</td>\n",
       "      <td>Intel HD Graphics 6000</td>\n",
       "      <td>macOS</td>\n",
       "      <td>1.34</td>\n",
       "      <td>47895.5232</td>\n",
       "      <td>0</td>\n",
       "      <td>0</td>\n",
       "      <td>127.677940</td>\n",
       "    </tr>\n",
       "    <tr>\n",
       "      <th>2</th>\n",
       "      <td>HP</td>\n",
       "      <td>Notebook</td>\n",
       "      <td>Intel Core i5 7200U 2.5GHz</td>\n",
       "      <td>8</td>\n",
       "      <td>256GB SSD</td>\n",
       "      <td>Intel HD Graphics 620</td>\n",
       "      <td>No OS</td>\n",
       "      <td>1.86</td>\n",
       "      <td>30636.0000</td>\n",
       "      <td>0</td>\n",
       "      <td>0</td>\n",
       "      <td>141.211998</td>\n",
       "    </tr>\n",
       "    <tr>\n",
       "      <th>3</th>\n",
       "      <td>Apple</td>\n",
       "      <td>Ultrabook</td>\n",
       "      <td>Intel Core i7 2.7GHz</td>\n",
       "      <td>16</td>\n",
       "      <td>512GB SSD</td>\n",
       "      <td>AMD Radeon Pro 455</td>\n",
       "      <td>macOS</td>\n",
       "      <td>1.83</td>\n",
       "      <td>135195.3360</td>\n",
       "      <td>0</td>\n",
       "      <td>1</td>\n",
       "      <td>220.534624</td>\n",
       "    </tr>\n",
       "    <tr>\n",
       "      <th>4</th>\n",
       "      <td>Apple</td>\n",
       "      <td>Ultrabook</td>\n",
       "      <td>Intel Core i5 3.1GHz</td>\n",
       "      <td>8</td>\n",
       "      <td>256GB SSD</td>\n",
       "      <td>Intel Iris Plus Graphics 650</td>\n",
       "      <td>macOS</td>\n",
       "      <td>1.37</td>\n",
       "      <td>96095.8080</td>\n",
       "      <td>0</td>\n",
       "      <td>1</td>\n",
       "      <td>226.983005</td>\n",
       "    </tr>\n",
       "  </tbody>\n",
       "</table>\n",
       "</div>"
      ],
      "text/plain": [
       "  Company   TypeName                         Cpu  Ram               Memory  \\\n",
       "0   Apple  Ultrabook        Intel Core i5 2.3GHz    8            128GB SSD   \n",
       "1   Apple  Ultrabook        Intel Core i5 1.8GHz    8  128GB Flash Storage   \n",
       "2      HP   Notebook  Intel Core i5 7200U 2.5GHz    8            256GB SSD   \n",
       "3   Apple  Ultrabook        Intel Core i7 2.7GHz   16            512GB SSD   \n",
       "4   Apple  Ultrabook        Intel Core i5 3.1GHz    8            256GB SSD   \n",
       "\n",
       "                            Gpu  OpSys  Weight        Price  TouchScreen  IPS  \\\n",
       "0  Intel Iris Plus Graphics 640  macOS    1.37   71378.6832            0    1   \n",
       "1        Intel HD Graphics 6000  macOS    1.34   47895.5232            0    0   \n",
       "2         Intel HD Graphics 620  No OS    1.86   30636.0000            0    0   \n",
       "3            AMD Radeon Pro 455  macOS    1.83  135195.3360            0    1   \n",
       "4  Intel Iris Plus Graphics 650  macOS    1.37   96095.8080            0    1   \n",
       "\n",
       "          PPI  \n",
       "0  226.983005  \n",
       "1  127.677940  \n",
       "2  141.211998  \n",
       "3  220.534624  \n",
       "4  226.983005  "
      ]
     },
     "execution_count": 104,
     "metadata": {},
     "output_type": "execute_result"
    }
   ],
   "source": [
    "df.drop(columns=['ScreenResolution','Inches','X_res','Y_res'],inplace=True)\n",
    "df.head()"
   ]
  },
  {
   "cell_type": "code",
   "execution_count": null,
   "id": "d520c52b-45c2-4034-bd21-42234610a110",
   "metadata": {},
   "outputs": [],
   "source": []
  }
 ],
 "metadata": {
  "kernelspec": {
   "display_name": "Python 3 (ipykernel)",
   "language": "python",
   "name": "python3"
  },
  "language_info": {
   "codemirror_mode": {
    "name": "ipython",
    "version": 3
   },
   "file_extension": ".py",
   "mimetype": "text/x-python",
   "name": "python",
   "nbconvert_exporter": "python",
   "pygments_lexer": "ipython3",
   "version": "3.11.7"
  }
 },
 "nbformat": 4,
 "nbformat_minor": 5
}
