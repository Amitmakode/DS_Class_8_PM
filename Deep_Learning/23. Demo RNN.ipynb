{
  "nbformat": 4,
  "nbformat_minor": 0,
  "metadata": {
    "colab": {
      "provenance": [],
      "gpuType": "T4"
    },
    "kernelspec": {
      "name": "python3",
      "display_name": "Python 3"
    },
    "language_info": {
      "name": "python"
    },
    "accelerator": "GPU"
  },
  "cells": [
    {
      "cell_type": "code",
      "execution_count": 1,
      "metadata": {
        "id": "kJGyZlTPW0fs"
      },
      "outputs": [],
      "source": [
        "# Import numpy for numerical operations and array handling\n",
        "import numpy as np\n",
        "\n",
        "# Define a list of text documents (phrases related to neural networks)\n",
        "# Purpose: To demonstrate text preprocessing for machine learning\n",
        "docs = ['recurrent neural network',\n",
        "        'neural network',\n",
        "        'artificial neural',\n",
        "        'connections between nodes',\n",
        "        'can create a cycle',\n",
        "        'allowing output',\n",
        "        'some nodes to affect subsequent',\n",
        "        'exhibit temporal',\n",
        "        'dynamic behavior',\n",
        "        'type of Neural Network',\n",
        "        'affect subsequent']"
      ]
    },
    {
      "cell_type": "code",
      "source": [
        "# Import Tokenizer from TensorFlow's Keras to convert text to integer sequences\n",
        "# Purpose: To perform integer encoding on the text data\n",
        "from tensorflow.keras.preprocessing.text import Tokenizer\n",
        "# Initialize Tokenizer with an out-of-vocabulary token '<nothing>'\n",
        "# This handles words not seen during training\n",
        "tokenizer = Tokenizer(oov_token='<nothing>')"
      ],
      "metadata": {
        "id": "8Kqu7p-QXLcn"
      },
      "execution_count": 2,
      "outputs": []
    },
    {
      "cell_type": "code",
      "source": [
        "# Fit the tokenizer on the text documents to build a vocabulary\n",
        "# Purpose: To create a word-to-index mapping based on the input texts\n",
        "tokenizer.fit_on_texts(docs)"
      ],
      "metadata": {
        "id": "vCkHmuIoXLUf"
      },
      "execution_count": 3,
      "outputs": []
    },
    {
      "cell_type": "code",
      "source": [
        "# Display the word-to-index mapping\n",
        "# Purpose: To show how each word is assigned a unique integer\n",
        "tokenizer.word_index"
      ],
      "metadata": {
        "colab": {
          "base_uri": "https://localhost:8080/"
        },
        "id": "qg1FxdSUXm9I",
        "outputId": "163490b2-8c3d-431b-ff13-2915734b7f51"
      },
      "execution_count": 4,
      "outputs": [
        {
          "output_type": "execute_result",
          "data": {
            "text/plain": [
              "{'<nothing>': 1,\n",
              " 'neural': 2,\n",
              " 'network': 3,\n",
              " 'nodes': 4,\n",
              " 'affect': 5,\n",
              " 'subsequent': 6,\n",
              " 'recurrent': 7,\n",
              " 'artificial': 8,\n",
              " 'connections': 9,\n",
              " 'between': 10,\n",
              " 'can': 11,\n",
              " 'create': 12,\n",
              " 'a': 13,\n",
              " 'cycle': 14,\n",
              " 'allowing': 15,\n",
              " 'output': 16,\n",
              " 'some': 17,\n",
              " 'to': 18,\n",
              " 'exhibit': 19,\n",
              " 'temporal': 20,\n",
              " 'dynamic': 21,\n",
              " 'behavior': 22,\n",
              " 'type': 23,\n",
              " 'of': 24}"
            ]
          },
          "metadata": {},
          "execution_count": 4
        }
      ]
    },
    {
      "cell_type": "code",
      "source": [
        "# Display the frequency of each word in the documents\n",
        "# Purpose: To show how often each word appears in the dataset\n",
        "tokenizer.word_counts"
      ],
      "metadata": {
        "colab": {
          "base_uri": "https://localhost:8080/"
        },
        "id": "fqW1DSmmXvD5",
        "outputId": "3a4fcfb5-97b4-4c3d-8133-d827ba9b474b"
      },
      "execution_count": 5,
      "outputs": [
        {
          "output_type": "execute_result",
          "data": {
            "text/plain": [
              "OrderedDict([('recurrent', 1),\n",
              "             ('neural', 4),\n",
              "             ('network', 3),\n",
              "             ('artificial', 1),\n",
              "             ('connections', 1),\n",
              "             ('between', 1),\n",
              "             ('nodes', 2),\n",
              "             ('can', 1),\n",
              "             ('create', 1),\n",
              "             ('a', 1),\n",
              "             ('cycle', 1),\n",
              "             ('allowing', 1),\n",
              "             ('output', 1),\n",
              "             ('some', 1),\n",
              "             ('to', 1),\n",
              "             ('affect', 2),\n",
              "             ('subsequent', 2),\n",
              "             ('exhibit', 1),\n",
              "             ('temporal', 1),\n",
              "             ('dynamic', 1),\n",
              "             ('behavior', 1),\n",
              "             ('type', 1),\n",
              "             ('of', 1)])"
            ]
          },
          "metadata": {},
          "execution_count": 5
        }
      ]
    },
    {
      "cell_type": "code",
      "source": [
        "# Display the number of documents processed\n",
        "# Purpose: To confirm the total number of text samples\n",
        "tokenizer.document_count"
      ],
      "metadata": {
        "colab": {
          "base_uri": "https://localhost:8080/"
        },
        "id": "JpXfimepX21O",
        "outputId": "156c59db-0a00-4ac5-d60c-5776cfb0f44f"
      },
      "execution_count": 6,
      "outputs": [
        {
          "output_type": "execute_result",
          "data": {
            "text/plain": [
              "11"
            ]
          },
          "metadata": {},
          "execution_count": 6
        }
      ]
    },
    {
      "cell_type": "code",
      "source": [
        "# Convert text documents to sequences of integers\n",
        "# Purpose: To transform text into numerical format for model input\n",
        "sequences = tokenizer.texts_to_sequences(docs)\n",
        "sequences          'recurrent neural network'"
      ],
      "metadata": {
        "colab": {
          "base_uri": "https://localhost:8080/"
        },
        "id": "jnuXj3abYBqU",
        "outputId": "6f987ec8-fe51-4777-998f-cecd16518223"
      },
      "execution_count": 7,
      "outputs": [
        {
          "output_type": "execute_result",
          "data": {
            "text/plain": [
              "[[7, 2, 3],\n",
              " [2, 3],\n",
              " [8, 2],\n",
              " [9, 10, 4],\n",
              " [11, 12, 13, 14],\n",
              " [15, 16],\n",
              " [17, 4, 18, 5, 6],\n",
              " [19, 20],\n",
              " [21, 22],\n",
              " [23, 24, 2, 3],\n",
              " [5, 6]]"
            ]
          },
          "metadata": {},
          "execution_count": 7
        }
      ]
    },
    {
      "cell_type": "code",
      "source": [
        "# Import pad_sequences to ensure all sequences have the same length\n",
        "# Purpose: To standardize sequence lengths for consistent model input\n",
        "from tensorflow.keras.utils import pad_sequences"
      ],
      "metadata": {
        "id": "EqK4TBrIYQKq"
      },
      "execution_count": 8,
      "outputs": []
    },
    {
      "cell_type": "code",
      "source": [
        "# Pad sequences to a fixed length, adding zeros at the end ('post')\n",
        "# Purpose: To make all sequences the same length (5 in this case) for processing\n",
        "sequences = pad_sequences(sequences, padding='post')\n",
        "sequences"
      ],
      "metadata": {
        "colab": {
          "base_uri": "https://localhost:8080/"
        },
        "id": "RyRN-eo-YZiA",
        "outputId": "8b20b3a0-6982-444d-e19d-28f0f9315ba5"
      },
      "execution_count": 10,
      "outputs": [
        {
          "output_type": "execute_result",
          "data": {
            "text/plain": [
              "array([[ 7,  2,  3,  0,  0],\n",
              "       [ 2,  3,  0,  0,  0],\n",
              "       [ 8,  2,  0,  0,  0],\n",
              "       [ 9, 10,  4,  0,  0],\n",
              "       [11, 12, 13, 14,  0],\n",
              "       [15, 16,  0,  0,  0],\n",
              "       [17,  4, 18,  5,  6],\n",
              "       [19, 20,  0,  0,  0],\n",
              "       [21, 22,  0,  0,  0],\n",
              "       [23, 24,  2,  3,  0],\n",
              "       [ 5,  6,  0,  0,  0]], dtype=int32)"
            ]
          },
          "metadata": {},
          "execution_count": 10
        }
      ]
    },
    {
      "cell_type": "code",
      "source": [
        "# Import modules for sentiment analysis using the IMDB dataset\n",
        "# Purpose: To demonstrate a practical application of text preprocessing and RNNs\n",
        "from tensorflow.keras.datasets import imdb\n",
        "from tensorflow.keras import Sequential\n",
        "from tensorflow.keras.layers import Dense, SimpleRNN, Embedding, Flatten"
      ],
      "metadata": {
        "id": "h7xuk_rPYdZg"
      },
      "execution_count": 40,
      "outputs": []
    },
    {
      "cell_type": "code",
      "source": [
        "# Load the IMDB dataset (movie reviews) for sentiment analysis\n",
        "# Purpose: To provide preprocessed data for training a sentiment classifier\n",
        "(X_train, y_train), (X_test, y_test) = imdb.load_data()"
      ],
      "metadata": {
        "id": "bXK5Y8zfYnM1"
      },
      "execution_count": 41,
      "outputs": []
    },
    {
      "cell_type": "code",
      "source": [
        "X_train.shape"
      ],
      "metadata": {
        "colab": {
          "base_uri": "https://localhost:8080/"
        },
        "id": "jnhLbzbMYqzZ",
        "outputId": "692e7bdc-507d-4045-f363-61d9a8a6a2b9"
      },
      "execution_count": 42,
      "outputs": [
        {
          "output_type": "execute_result",
          "data": {
            "text/plain": [
              "(25000,)"
            ]
          },
          "metadata": {},
          "execution_count": 42
        }
      ]
    },
    {
      "cell_type": "code",
      "source": [
        "X_test.shape"
      ],
      "metadata": {
        "colab": {
          "base_uri": "https://localhost:8080/"
        },
        "id": "Hv8SD7-LYs3t",
        "outputId": "5d330217-fc0f-4830-e2d9-57c7afdb57c8"
      },
      "execution_count": 43,
      "outputs": [
        {
          "output_type": "execute_result",
          "data": {
            "text/plain": [
              "(25000,)"
            ]
          },
          "metadata": {},
          "execution_count": 43
        }
      ]
    },
    {
      "cell_type": "code",
      "source": [
        "# Inspect the labels of the test set\n",
        "# Purpose: To verify the format of the target variable (binary: 0 or 1)\n",
        "y_test"
      ],
      "metadata": {
        "colab": {
          "base_uri": "https://localhost:8080/"
        },
        "id": "KSqeR2qzYvWA",
        "outputId": "7fed730a-1067-4355-ff4c-046d66b57c72"
      },
      "execution_count": 44,
      "outputs": [
        {
          "output_type": "execute_result",
          "data": {
            "text/plain": [
              "array([0, 1, 1, ..., 0, 0, 0])"
            ]
          },
          "metadata": {},
          "execution_count": 44
        }
      ]
    },
    {
      "cell_type": "code",
      "source": [
        "# Inspect the first training sample\n",
        "# Purpose: To show the structure of the preprocessed IMDB data (integer sequences)\n",
        "X_train[0]"
      ],
      "metadata": {
        "colab": {
          "base_uri": "https://localhost:8080/"
        },
        "id": "WcWwr35fY23N",
        "outputId": "2c57eed7-e763-4102-ac09-abe91b32f509"
      },
      "execution_count": 45,
      "outputs": [
        {
          "output_type": "execute_result",
          "data": {
            "text/plain": [
              "[1,\n",
              " 14,\n",
              " 22,\n",
              " 16,\n",
              " 43,\n",
              " 530,\n",
              " 973,\n",
              " 1622,\n",
              " 1385,\n",
              " 65,\n",
              " 458,\n",
              " 4468,\n",
              " 66,\n",
              " 3941,\n",
              " 4,\n",
              " 173,\n",
              " 36,\n",
              " 256,\n",
              " 5,\n",
              " 25,\n",
              " 100,\n",
              " 43,\n",
              " 838,\n",
              " 112,\n",
              " 50,\n",
              " 670,\n",
              " 22665,\n",
              " 9,\n",
              " 35,\n",
              " 480,\n",
              " 284,\n",
              " 5,\n",
              " 150,\n",
              " 4,\n",
              " 172,\n",
              " 112,\n",
              " 167,\n",
              " 21631,\n",
              " 336,\n",
              " 385,\n",
              " 39,\n",
              " 4,\n",
              " 172,\n",
              " 4536,\n",
              " 1111,\n",
              " 17,\n",
              " 546,\n",
              " 38,\n",
              " 13,\n",
              " 447,\n",
              " 4,\n",
              " 192,\n",
              " 50,\n",
              " 16,\n",
              " 6,\n",
              " 147,\n",
              " 2025,\n",
              " 19,\n",
              " 14,\n",
              " 22,\n",
              " 4,\n",
              " 1920,\n",
              " 4613,\n",
              " 469,\n",
              " 4,\n",
              " 22,\n",
              " 71,\n",
              " 87,\n",
              " 12,\n",
              " 16,\n",
              " 43,\n",
              " 530,\n",
              " 38,\n",
              " 76,\n",
              " 15,\n",
              " 13,\n",
              " 1247,\n",
              " 4,\n",
              " 22,\n",
              " 17,\n",
              " 515,\n",
              " 17,\n",
              " 12,\n",
              " 16,\n",
              " 626,\n",
              " 18,\n",
              " 19193,\n",
              " 5,\n",
              " 62,\n",
              " 386,\n",
              " 12,\n",
              " 8,\n",
              " 316,\n",
              " 8,\n",
              " 106,\n",
              " 5,\n",
              " 4,\n",
              " 2223,\n",
              " 5244,\n",
              " 16,\n",
              " 480,\n",
              " 66,\n",
              " 3785,\n",
              " 33,\n",
              " 4,\n",
              " 130,\n",
              " 12,\n",
              " 16,\n",
              " 38,\n",
              " 619,\n",
              " 5,\n",
              " 25,\n",
              " 124,\n",
              " 51,\n",
              " 36,\n",
              " 135,\n",
              " 48,\n",
              " 25,\n",
              " 1415,\n",
              " 33,\n",
              " 6,\n",
              " 22,\n",
              " 12,\n",
              " 215,\n",
              " 28,\n",
              " 77,\n",
              " 52,\n",
              " 5,\n",
              " 14,\n",
              " 407,\n",
              " 16,\n",
              " 82,\n",
              " 10311,\n",
              " 8,\n",
              " 4,\n",
              " 107,\n",
              " 117,\n",
              " 5952,\n",
              " 15,\n",
              " 256,\n",
              " 4,\n",
              " 31050,\n",
              " 7,\n",
              " 3766,\n",
              " 5,\n",
              " 723,\n",
              " 36,\n",
              " 71,\n",
              " 43,\n",
              " 530,\n",
              " 476,\n",
              " 26,\n",
              " 400,\n",
              " 317,\n",
              " 46,\n",
              " 7,\n",
              " 4,\n",
              " 12118,\n",
              " 1029,\n",
              " 13,\n",
              " 104,\n",
              " 88,\n",
              " 4,\n",
              " 381,\n",
              " 15,\n",
              " 297,\n",
              " 98,\n",
              " 32,\n",
              " 2071,\n",
              " 56,\n",
              " 26,\n",
              " 141,\n",
              " 6,\n",
              " 194,\n",
              " 7486,\n",
              " 18,\n",
              " 4,\n",
              " 226,\n",
              " 22,\n",
              " 21,\n",
              " 134,\n",
              " 476,\n",
              " 26,\n",
              " 480,\n",
              " 5,\n",
              " 144,\n",
              " 30,\n",
              " 5535,\n",
              " 18,\n",
              " 51,\n",
              " 36,\n",
              " 28,\n",
              " 224,\n",
              " 92,\n",
              " 25,\n",
              " 104,\n",
              " 4,\n",
              " 226,\n",
              " 65,\n",
              " 16,\n",
              " 38,\n",
              " 1334,\n",
              " 88,\n",
              " 12,\n",
              " 16,\n",
              " 283,\n",
              " 5,\n",
              " 16,\n",
              " 4472,\n",
              " 113,\n",
              " 103,\n",
              " 32,\n",
              " 15,\n",
              " 16,\n",
              " 5345,\n",
              " 19,\n",
              " 178,\n",
              " 32]"
            ]
          },
          "metadata": {},
          "execution_count": 45
        }
      ]
    },
    {
      "cell_type": "code",
      "source": [
        "print(len(X_train[0]))"
      ],
      "metadata": {
        "colab": {
          "base_uri": "https://localhost:8080/"
        },
        "id": "RMWrHv0nZBwc",
        "outputId": "966a23d7-cdbb-4dbd-fc90-b17753daf767"
      },
      "execution_count": 46,
      "outputs": [
        {
          "output_type": "stream",
          "name": "stdout",
          "text": [
            "218\n"
          ]
        }
      ]
    },
    {
      "cell_type": "code",
      "source": [
        "# Check the length of some training samples\n",
        "# Purpose: To highlight that sequences have varying lengths before padding\n",
        "print(len(X_train[2]))\n",
        "print(len(X_train[3]))"
      ],
      "metadata": {
        "colab": {
          "base_uri": "https://localhost:8080/"
        },
        "id": "2RJIN0FMY9th",
        "outputId": "251f9e5a-9167-43ff-d7de-6f7b6cb33538"
      },
      "execution_count": 47,
      "outputs": [
        {
          "output_type": "stream",
          "name": "stdout",
          "text": [
            "141\n",
            "550\n"
          ]
        }
      ]
    },
    {
      "cell_type": "code",
      "source": [
        "# Pad training and test sequences to a fixed length of 50\n",
        "# Purpose: To ensure all input sequences are of uniform length for the RNN\n",
        "X_train = pad_sequences(X_train, padding='post', maxlen=200)\n",
        "X_test = pad_sequences(X_test, padding='post', maxlen=200)\n"
      ],
      "metadata": {
        "id": "BRnoQC5cZNjq"
      },
      "execution_count": 48,
      "outputs": []
    },
    {
      "cell_type": "code",
      "source": [
        "len(X_train[3])"
      ],
      "metadata": {
        "colab": {
          "base_uri": "https://localhost:8080/"
        },
        "id": "Y-CqhivBZXt1",
        "outputId": "ea41e72e-90ce-4515-e539-511c24b6e62f"
      },
      "execution_count": 49,
      "outputs": [
        {
          "output_type": "execute_result",
          "data": {
            "text/plain": [
              "200"
            ]
          },
          "metadata": {},
          "execution_count": 49
        }
      ]
    },
    {
      "cell_type": "code",
      "source": [
        "# Verify the padded sequence for the first training sample\n",
        "# Purpose: To confirm that padding worked correctly\n",
        "X_train[4]"
      ],
      "metadata": {
        "colab": {
          "base_uri": "https://localhost:8080/"
        },
        "id": "IYCd0Up3ZaUw",
        "outputId": "83d41e5b-b38c-43b5-d942-dcfc63e6825e"
      },
      "execution_count": 50,
      "outputs": [
        {
          "output_type": "execute_result",
          "data": {
            "text/plain": [
              "array([    1,   249,  1323,     7,    61,   113,    10,    10,    13,\n",
              "        1637,    14,    20,    56,    33,  2401,    18,   457,    88,\n",
              "          13,  2626,  1400,    45,  3171,    13,    70,    79,    49,\n",
              "         706,   919,    13,    16,   355,   340,   355,  1696,    96,\n",
              "         143,     4,    22,    32,   289,     7,    61,   369,    71,\n",
              "        2359,     5,    13,    16,   131,  2073,   249,   114,   249,\n",
              "         229,   249,    20,    13,    28,   126,   110,    13,   473,\n",
              "           8,   569,    61,   419,    56,   429,     6,  1513,    18,\n",
              "          35,   534,    95,   474,   570,     5,    25,   124,   138,\n",
              "          88,    12,   421,  1543,    52,   725,  6397,    61,   419,\n",
              "          11,    13,  1571,    15,  1543,    20,    11,     4, 22016,\n",
              "           5,   296,    12,  3524,     5,    15,   421,   128,    74,\n",
              "         233,   334,   207,   126,   224,    12,   562,   298,  2167,\n",
              "        1272,     7,  2601,     5,   516,   988,    43,     8,    79,\n",
              "         120,    15,   595,    13,   784,    25,  3171,    18,   165,\n",
              "         170,   143,    19,    14,     5,  7224,     6,   226,   251,\n",
              "           7,    61,   113,     0,     0,     0,     0,     0,     0,\n",
              "           0,     0,     0,     0,     0,     0,     0,     0,     0,\n",
              "           0,     0,     0,     0,     0,     0,     0,     0,     0,\n",
              "           0,     0,     0,     0,     0,     0,     0,     0,     0,\n",
              "           0,     0,     0,     0,     0,     0,     0,     0,     0,\n",
              "           0,     0,     0,     0,     0,     0,     0,     0,     0,\n",
              "           0,     0], dtype=int32)"
            ]
          },
          "metadata": {},
          "execution_count": 50
        }
      ]
    },
    {
      "cell_type": "code",
      "source": [
        "# Define a simple RNN model for sentiment analysis\n",
        "# Purpose: To classify movie reviews as positive or negative\n",
        "model = Sequential()\n",
        "# Add a SimpleRNN layer with 32 units, expecting input sequences of shape (50, 1)\n",
        "model.add(SimpleRNN(32, input_shape=(200, 1), return_sequences=False))\n",
        "# Add a Dense layer with sigmoid activation for binary classification\n",
        "model.add(Dense(1, activation='sigmoid'))"
      ],
      "metadata": {
        "id": "Ll44bu_YZffc"
      },
      "execution_count": 51,
      "outputs": []
    },
    {
      "cell_type": "code",
      "source": [
        "# Display the model architecture\n",
        "# Purpose: To show the layers and parameters of the model\n",
        "model.summary()"
      ],
      "metadata": {
        "colab": {
          "base_uri": "https://localhost:8080/",
          "height": 193
        },
        "id": "Bf-47zZtaGE1",
        "outputId": "b1d74a16-afb5-4823-bf40-078d9a3109d0"
      },
      "execution_count": 31,
      "outputs": [
        {
          "output_type": "display_data",
          "data": {
            "text/plain": [
              "\u001b[1mModel: \"sequential\"\u001b[0m\n"
            ],
            "text/html": [
              "<pre style=\"white-space:pre;overflow-x:auto;line-height:normal;font-family:Menlo,'DejaVu Sans Mono',consolas,'Courier New',monospace\"><span style=\"font-weight: bold\">Model: \"sequential\"</span>\n",
              "</pre>\n"
            ]
          },
          "metadata": {}
        },
        {
          "output_type": "display_data",
          "data": {
            "text/plain": [
              "┏━━━━━━━━━━━━━━━━━━━━━━━━━━━━━━━━━┳━━━━━━━━━━━━━━━━━━━━━━━━┳━━━━━━━━━━━━━━━┓\n",
              "┃\u001b[1m \u001b[0m\u001b[1mLayer (type)                   \u001b[0m\u001b[1m \u001b[0m┃\u001b[1m \u001b[0m\u001b[1mOutput Shape          \u001b[0m\u001b[1m \u001b[0m┃\u001b[1m \u001b[0m\u001b[1m      Param #\u001b[0m\u001b[1m \u001b[0m┃\n",
              "┡━━━━━━━━━━━━━━━━━━━━━━━━━━━━━━━━━╇━━━━━━━━━━━━━━━━━━━━━━━━╇━━━━━━━━━━━━━━━┩\n",
              "│ simple_rnn (\u001b[38;5;33mSimpleRNN\u001b[0m)          │ (\u001b[38;5;45mNone\u001b[0m, \u001b[38;5;34m32\u001b[0m)             │         \u001b[38;5;34m1,088\u001b[0m │\n",
              "├─────────────────────────────────┼────────────────────────┼───────────────┤\n",
              "│ dense (\u001b[38;5;33mDense\u001b[0m)                   │ (\u001b[38;5;45mNone\u001b[0m, \u001b[38;5;34m1\u001b[0m)              │            \u001b[38;5;34m33\u001b[0m │\n",
              "└─────────────────────────────────┴────────────────────────┴───────────────┘\n"
            ],
            "text/html": [
              "<pre style=\"white-space:pre;overflow-x:auto;line-height:normal;font-family:Menlo,'DejaVu Sans Mono',consolas,'Courier New',monospace\">┏━━━━━━━━━━━━━━━━━━━━━━━━━━━━━━━━━┳━━━━━━━━━━━━━━━━━━━━━━━━┳━━━━━━━━━━━━━━━┓\n",
              "┃<span style=\"font-weight: bold\"> Layer (type)                    </span>┃<span style=\"font-weight: bold\"> Output Shape           </span>┃<span style=\"font-weight: bold\">       Param # </span>┃\n",
              "┡━━━━━━━━━━━━━━━━━━━━━━━━━━━━━━━━━╇━━━━━━━━━━━━━━━━━━━━━━━━╇━━━━━━━━━━━━━━━┩\n",
              "│ simple_rnn (<span style=\"color: #0087ff; text-decoration-color: #0087ff\">SimpleRNN</span>)          │ (<span style=\"color: #00d7ff; text-decoration-color: #00d7ff\">None</span>, <span style=\"color: #00af00; text-decoration-color: #00af00\">32</span>)             │         <span style=\"color: #00af00; text-decoration-color: #00af00\">1,088</span> │\n",
              "├─────────────────────────────────┼────────────────────────┼───────────────┤\n",
              "│ dense (<span style=\"color: #0087ff; text-decoration-color: #0087ff\">Dense</span>)                   │ (<span style=\"color: #00d7ff; text-decoration-color: #00d7ff\">None</span>, <span style=\"color: #00af00; text-decoration-color: #00af00\">1</span>)              │            <span style=\"color: #00af00; text-decoration-color: #00af00\">33</span> │\n",
              "└─────────────────────────────────┴────────────────────────┴───────────────┘\n",
              "</pre>\n"
            ]
          },
          "metadata": {}
        },
        {
          "output_type": "display_data",
          "data": {
            "text/plain": [
              "\u001b[1m Total params: \u001b[0m\u001b[38;5;34m1,121\u001b[0m (4.38 KB)\n"
            ],
            "text/html": [
              "<pre style=\"white-space:pre;overflow-x:auto;line-height:normal;font-family:Menlo,'DejaVu Sans Mono',consolas,'Courier New',monospace\"><span style=\"font-weight: bold\"> Total params: </span><span style=\"color: #00af00; text-decoration-color: #00af00\">1,121</span> (4.38 KB)\n",
              "</pre>\n"
            ]
          },
          "metadata": {}
        },
        {
          "output_type": "display_data",
          "data": {
            "text/plain": [
              "\u001b[1m Trainable params: \u001b[0m\u001b[38;5;34m1,121\u001b[0m (4.38 KB)\n"
            ],
            "text/html": [
              "<pre style=\"white-space:pre;overflow-x:auto;line-height:normal;font-family:Menlo,'DejaVu Sans Mono',consolas,'Courier New',monospace\"><span style=\"font-weight: bold\"> Trainable params: </span><span style=\"color: #00af00; text-decoration-color: #00af00\">1,121</span> (4.38 KB)\n",
              "</pre>\n"
            ]
          },
          "metadata": {}
        },
        {
          "output_type": "display_data",
          "data": {
            "text/plain": [
              "\u001b[1m Non-trainable params: \u001b[0m\u001b[38;5;34m0\u001b[0m (0.00 B)\n"
            ],
            "text/html": [
              "<pre style=\"white-space:pre;overflow-x:auto;line-height:normal;font-family:Menlo,'DejaVu Sans Mono',consolas,'Courier New',monospace\"><span style=\"font-weight: bold\"> Non-trainable params: </span><span style=\"color: #00af00; text-decoration-color: #00af00\">0</span> (0.00 B)\n",
              "</pre>\n"
            ]
          },
          "metadata": {}
        }
      ]
    },
    {
      "cell_type": "code",
      "source": [
        "Parameters = 32 × (1 + 32 + 1) = 32 × 34 = 1,088 ✓"
      ],
      "metadata": {
        "id": "uFUt-BdSaRn7"
      },
      "execution_count": null,
      "outputs": []
    },
    {
      "cell_type": "code",
      "source": [
        "# Compile the model with binary cross-entropy loss and Adam optimizer\n",
        "# Purpose: To configure the model for training on a binary classification task\n",
        "model.compile(loss='binary_crossentropy', optimizer='adam', metrics=['accuracy'])"
      ],
      "metadata": {
        "id": "lILjbY_RbASS"
      },
      "execution_count": 52,
      "outputs": []
    },
    {
      "cell_type": "code",
      "source": [
        "# Train the model on the IMDB dataset for 5 epochs\n",
        "# Purpose: To fit the model to the training data and evaluate on test data\n",
        "model.fit(X_train, y_train, epochs=5, validation_data=(X_test, y_test))"
      ],
      "metadata": {
        "colab": {
          "base_uri": "https://localhost:8080/"
        },
        "id": "e0Jh4WWwbHjT",
        "outputId": "569869cd-626d-497f-c143-ba1699357541"
      },
      "execution_count": 53,
      "outputs": [
        {
          "output_type": "stream",
          "name": "stdout",
          "text": [
            "Epoch 1/5\n",
            "\u001b[1m782/782\u001b[0m \u001b[32m━━━━━━━━━━━━━━━━━━━━\u001b[0m\u001b[37m\u001b[0m \u001b[1m17s\u001b[0m 19ms/step - accuracy: 0.5067 - loss: 0.6970 - val_accuracy: 0.4930 - val_loss: 0.6948\n",
            "Epoch 2/5\n",
            "\u001b[1m782/782\u001b[0m \u001b[32m━━━━━━━━━━━━━━━━━━━━\u001b[0m\u001b[37m\u001b[0m \u001b[1m12s\u001b[0m 15ms/step - accuracy: 0.5037 - loss: 0.6935 - val_accuracy: 0.5070 - val_loss: 0.6935\n",
            "Epoch 3/5\n",
            "\u001b[1m782/782\u001b[0m \u001b[32m━━━━━━━━━━━━━━━━━━━━\u001b[0m\u001b[37m\u001b[0m \u001b[1m21s\u001b[0m 15ms/step - accuracy: 0.5048 - loss: 0.6940 - val_accuracy: 0.5005 - val_loss: 0.6959\n",
            "Epoch 4/5\n",
            "\u001b[1m782/782\u001b[0m \u001b[32m━━━━━━━━━━━━━━━━━━━━\u001b[0m\u001b[37m\u001b[0m \u001b[1m20s\u001b[0m 15ms/step - accuracy: 0.5022 - loss: 0.6944 - val_accuracy: 0.5054 - val_loss: 0.6940\n",
            "Epoch 5/5\n",
            "\u001b[1m782/782\u001b[0m \u001b[32m━━━━━━━━━━━━━━━━━━━━\u001b[0m\u001b[37m\u001b[0m \u001b[1m20s\u001b[0m 15ms/step - accuracy: 0.4997 - loss: 0.6942 - val_accuracy: 0.4973 - val_loss: 0.6944\n"
          ]
        },
        {
          "output_type": "execute_result",
          "data": {
            "text/plain": [
              "<keras.src.callbacks.history.History at 0x7cf394ae6f00>"
            ]
          },
          "metadata": {},
          "execution_count": 53
        }
      ]
    },
    {
      "cell_type": "code",
      "source": [
        "# Prepare a single test sample for prediction\n",
        "# Purpose: To demonstrate how to make predictions with the trained model\n",
        "test_data = X_test[0][0:200].reshape(1, -1)"
      ],
      "metadata": {
        "id": "j_rPWczxbbU_"
      },
      "execution_count": 57,
      "outputs": []
    },
    {
      "cell_type": "code",
      "source": [
        "# Predict the sentiment for the test sample\n",
        "# Purpose: To show the model’s output (probability of positive sentiment)\n",
        "model.predict(test_data)"
      ],
      "metadata": {
        "colab": {
          "base_uri": "https://localhost:8080/"
        },
        "id": "W1feegPPbbM-",
        "outputId": "96bf713c-ba61-49ed-fe9d-1c19a1ea608a"
      },
      "execution_count": 58,
      "outputs": [
        {
          "output_type": "stream",
          "name": "stdout",
          "text": [
            "\u001b[1m1/1\u001b[0m \u001b[32m━━━━━━━━━━━━━━━━━━━━\u001b[0m\u001b[37m\u001b[0m \u001b[1m0s\u001b[0m 46ms/step\n"
          ]
        },
        {
          "output_type": "execute_result",
          "data": {
            "text/plain": [
              "array([[0.47372797]], dtype=float32)"
            ]
          },
          "metadata": {},
          "execution_count": 58
        }
      ]
    },
    {
      "cell_type": "code",
      "source": [],
      "metadata": {
        "id": "IQi_KfNBdEmy"
      },
      "execution_count": null,
      "outputs": []
    },
    {
      "cell_type": "code",
      "source": [
        "# Redefine the text documents for demonstrating embeddings\n",
        "# Purpose: To reuse the same text data for a different encoding technique\n",
        "docs = ['recurrent neural network',\n",
        "        'neural network',\n",
        "        'artificial neural',\n",
        "        'connections between nodes',\n",
        "        'can create a cycle',\n",
        "        'allowing output',\n",
        "        'some nodes to affect subsequent',\n",
        "        'exhibit temporal',\n",
        "        'dynamic behavior',\n",
        "        'type of Neural Network',\n",
        "        'affect subsequent']"
      ],
      "metadata": {
        "id": "T2UQiACldEjy"
      },
      "execution_count": 59,
      "outputs": []
    }
  ]
}