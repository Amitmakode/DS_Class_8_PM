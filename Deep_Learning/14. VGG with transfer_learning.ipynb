{
  "nbformat": 4,
  "nbformat_minor": 0,
  "metadata": {
    "colab": {
      "provenance": [],
      "gpuType": "T4"
    },
    "kernelspec": {
      "name": "python3",
      "display_name": "Python 3"
    },
    "language_info": {
      "name": "python"
    },
    "accelerator": "GPU"
  },
  "cells": [
    {
      "cell_type": "markdown",
      "source": [
        "## VGG16 Transfer Learning"
      ],
      "metadata": {
        "id": "pU8e1D1GZf7w"
      }
    },
    {
      "cell_type": "code",
      "source": [
        "# Import TensorFlow library for building and training deep learning models\n",
        "import tensorflow as tf\n",
        "\n",
        "# Import the pre-trained VGG16 model from Keras applications\n",
        "# This model is trained on ImageNet and can be used for transfer learning\n",
        "from tensorflow.keras.applications import VGG16\n",
        "\n",
        "# Import Keras modules for layers and model creation\n",
        "# layers: to add Dense, Flatten, Dropout etc.\n",
        "# models: to create Sequential or Functional API models\n",
        "from tensorflow.keras import layers, models\n",
        "\n",
        "# Import ImageDataGenerator for loading and augmenting image data\n",
        "# Allows transformations like rotation, flipping, zooming to improve generalization\n",
        "from tensorflow.keras.preprocessing.image import ImageDataGenerator\n",
        "\n",
        "# Import OS module to handle directory paths and file operations\n",
        "import os\n",
        "\n",
        "# Import zipfile module to extract zip files\n",
        "# Useful for datasets downloaded in compressed format\n",
        "import zipfile"
      ],
      "metadata": {
        "id": "SMQm0mUyZe0e"
      },
      "execution_count": 2,
      "outputs": []
    },
    {
      "cell_type": "code",
      "source": [
        "# --------------------------------------------------\n",
        "# Step 0: Download the Cats vs Dogs dataset and extract it\n",
        "\n",
        "# URL of the Cats vs Dogs dataset (zip file)\n",
        "_URL = \"https://storage.googleapis.com/mledu-datasets/cats_and_dogs_filtered.zip\""
      ],
      "metadata": {
        "id": "c83k5cHCZ14j"
      },
      "execution_count": 3,
      "outputs": []
    },
    {
      "cell_type": "code",
      "source": [
        "# Download the dataset using TensorFlow's utility function\n",
        "# tf.keras.utils.get_file downloads the file from the URL to a local cache directory\n",
        "# 'cats_and_dogs.zip' is the filename to save\n",
        "# extract=False means we will manually extract the zip later\n",
        "zip_path = tf.keras.utils.get_file('cats_and_dogs.zip', origin=_URL, extract=False)"
      ],
      "metadata": {
        "colab": {
          "base_uri": "https://localhost:8080/"
        },
        "id": "-8OwVMCPaB7J",
        "outputId": "c3cc1347-375f-4158-ab12-25a45bb46504"
      },
      "execution_count": 4,
      "outputs": [
        {
          "output_type": "stream",
          "name": "stdout",
          "text": [
            "Downloading data from https://storage.googleapis.com/mledu-datasets/cats_and_dogs_filtered.zip\n",
            "\u001b[1m68606236/68606236\u001b[0m \u001b[32m━━━━━━━━━━━━━━━━━━━━\u001b[0m\u001b[37m\u001b[0m \u001b[1m0s\u001b[0m 0us/step\n"
          ]
        }
      ]
    },
    {
      "cell_type": "code",
      "source": [
        "# Extract the zip file to a folder\n",
        "\n",
        "# Create the path where the dataset will be extracted\n",
        "# os.path.dirname(zip_path) gets the directory of the downloaded zip\n",
        "# 'cats_and_dogs_filtered' is the folder name where files will be extracted\n",
        "extract_dir = os.path.join(os.path.dirname(zip_path), 'cats_and_dogs_filtered')"
      ],
      "metadata": {
        "id": "z1B8d27AaMxr"
      },
      "execution_count": 5,
      "outputs": []
    },
    {
      "cell_type": "code",
      "source": [
        "# Open the zip file in read mode\n",
        "with zipfile.ZipFile(zip_path, 'r') as zip_ref:\n",
        "    # Extract all files from the zip into the specified folder\n",
        "    zip_ref.extractall(extract_dir)"
      ],
      "metadata": {
        "id": "LKjXg6LBaS0W"
      },
      "execution_count": 6,
      "outputs": []
    },
    {
      "cell_type": "code",
      "source": [
        "extract_dir\n"
      ],
      "metadata": {
        "colab": {
          "base_uri": "https://localhost:8080/",
          "height": 35
        },
        "id": "5jCuUkwgaWNW",
        "outputId": "035c96c3-eccb-4d84-b053-4d7ac0d33fc3"
      },
      "execution_count": 7,
      "outputs": [
        {
          "output_type": "execute_result",
          "data": {
            "text/plain": [
              "'/root/.keras/datasets/cats_and_dogs_filtered'"
            ],
            "application/vnd.google.colaboratory.intrinsic+json": {
              "type": "string"
            }
          },
          "metadata": {},
          "execution_count": 7
        }
      ]
    },
    {
      "cell_type": "code",
      "source": [
        "zip_ref"
      ],
      "metadata": {
        "colab": {
          "base_uri": "https://localhost:8080/"
        },
        "id": "K9MPJrt9abME",
        "outputId": "cd235421-ba8e-41a8-b449-07ce3b47fd44"
      },
      "execution_count": 8,
      "outputs": [
        {
          "output_type": "execute_result",
          "data": {
            "text/plain": [
              "<zipfile.ZipFile [closed]>"
            ]
          },
          "metadata": {},
          "execution_count": 8
        }
      ]
    },
    {
      "cell_type": "code",
      "source": [
        "# Define train and validation directories\n",
        "\n",
        "# Path to the training images folder\n",
        "# Combines the extraction directory, dataset folder, and 'train' subfolder\n",
        "train_dir = os.path.join(extract_dir, 'cats_and_dogs_filtered', 'train')"
      ],
      "metadata": {
        "id": "U2eAmr_8aeS2"
      },
      "execution_count": 9,
      "outputs": []
    },
    {
      "cell_type": "code",
      "source": [
        "# Path to the validation images folder\n",
        "# Combines the extraction directory, dataset folder, and 'validation' subfolder\n",
        "validation_dir = os.path.join(extract_dir, 'cats_and_dogs_filtered', 'validation')"
      ],
      "metadata": {
        "id": "1Fuj3uLAanOO"
      },
      "execution_count": 10,
      "outputs": []
    },
    {
      "cell_type": "code",
      "source": [
        "# --------------------------------------------------\n",
        "# Step 1: Load Pre-trained VGG16 Model (without top layers)\n",
        "\n",
        "# Load the VGG16 model with pre-trained ImageNet weights\n",
        "# weights='imagenet' means we use the weights trained on ImageNet dataset\n",
        "# include_top=False means we exclude the fully connected (classification) layers at the top\n",
        "# input_shape=(224,224,3) specifies the input image size and 3 color channels (RGB)\n",
        "base_model = VGG16(weights='imagenet', include_top=False, input_shape=(224,224,3))"
      ],
      "metadata": {
        "colab": {
          "base_uri": "https://localhost:8080/"
        },
        "id": "7DUfP_aXapEe",
        "outputId": "d6c434b0-93b3-4299-91d7-837b9d882318"
      },
      "execution_count": 11,
      "outputs": [
        {
          "output_type": "stream",
          "name": "stdout",
          "text": [
            "Downloading data from https://storage.googleapis.com/tensorflow/keras-applications/vgg16/vgg16_weights_tf_dim_ordering_tf_kernels_notop.h5\n",
            "\u001b[1m58889256/58889256\u001b[0m \u001b[32m━━━━━━━━━━━━━━━━━━━━\u001b[0m\u001b[37m\u001b[0m \u001b[1m0s\u001b[0m 0us/step\n"
          ]
        }
      ]
    },
    {
      "cell_type": "code",
      "source": [
        "# --------------------------------------------------\n",
        "# Step 2: Freeze all layers of the pre-trained model\n",
        "\n",
        "# Loop through each layer in the base VGG16 model\n",
        "for layer in base_model.layers:\n",
        "    # Set layer.trainable = False to freeze the weights during training\n",
        "    # This preserves the pre-trained features and prevents them from being updated\n",
        "    layer.trainable = False"
      ],
      "metadata": {
        "id": "weSU0HJca6_I"
      },
      "execution_count": 12,
      "outputs": []
    },
    {
      "cell_type": "code",
      "source": [
        "# --------------------------------------------------\n",
        "# Step 3: Add custom layers on top\n",
        "\n",
        "# Create a new Sequential model by stacking layers\n",
        "model = models.Sequential([\n",
        "    base_model,                       # Add the frozen VGG16 base model first\n",
        "    layers.Flatten(),                  # Flatten the 3D feature maps to 1D vector\n",
        "    layers.Dense(256, activation='relu'), # Add a Dense layer with 256 neurons and ReLU activation\n",
        "    layers.Dropout(0.5),               # Add Dropout to reduce overfitting (50% of neurons ignored per update)\n",
        "    layers.Dense(2, activation='softmax') # Final output layer with 2 neurons for 2 classes (cats and dogs)\n",
        "])"
      ],
      "metadata": {
        "id": "WVZWCAeJbJwM"
      },
      "execution_count": 13,
      "outputs": []
    },
    {
      "cell_type": "code",
      "source": [
        "# --------------------------------------------------\n",
        "# Step 4: Compile the model\n",
        "\n",
        "# Compile the model before training\n",
        "# optimizer='adam' -> Adam optimizer is efficient and widely used\n",
        "# loss='categorical_crossentropy' -> suitable for multi-class classification\n",
        "# metrics=['accuracy'] -> monitor accuracy during training\n",
        "model.compile(optimizer='adam', loss='categorical_crossentropy', metrics=['accuracy'])"
      ],
      "metadata": {
        "id": "dA0XVK-0bSXd"
      },
      "execution_count": 14,
      "outputs": []
    },
    {
      "cell_type": "code",
      "source": [
        "# --------------------------------------------------\n",
        "# Step 5: Prepare Image Data\n",
        "\n",
        "# Create a training ImageDataGenerator for data augmentation\n",
        "# This will generate batches of image data with transformations applied\n",
        "train_datagen = ImageDataGenerator(\n",
        "    rescale=1./255,          # Normalize pixel values to [0,1] range\n",
        "    rotation_range=40,       # Randomly rotate images by up to 40 degrees\n",
        "    width_shift_range=0.2,   # Random horizontal shifts\n",
        "    height_shift_range=0.2,  # Random vertical shifts\n",
        "    shear_range=0.2,         # Random shear transformations\n",
        "    zoom_range=0.2,          # Random zoom\n",
        "    horizontal_flip=True,    # Randomly flip images horizontally\n",
        "    fill_mode='nearest'      # Fill missing pixels after transformation\n",
        ")"
      ],
      "metadata": {
        "id": "BXD8d-e9bW0l"
      },
      "execution_count": 15,
      "outputs": []
    },
    {
      "cell_type": "code",
      "source": [
        "# Validation data generator (no augmentation, only rescaling)\n",
        "val_datagen = ImageDataGenerator(rescale=1./255)"
      ],
      "metadata": {
        "id": "y3fkBS8Rb8wf"
      },
      "execution_count": 16,
      "outputs": []
    },
    {
      "cell_type": "code",
      "source": [
        "# Create training data generator from directory\n",
        "# Automatically labels images based on folder names\n",
        "train_generator = train_datagen.flow_from_directory(\n",
        "    train_dir,               # Path to training images\n",
        "    target_size=(224,224),   # Resize images to 224x224 (VGG16 input)\n",
        "    batch_size=32,           # Number of images per batch\n",
        "    class_mode='categorical' # Multi-class labels\n",
        ")"
      ],
      "metadata": {
        "colab": {
          "base_uri": "https://localhost:8080/"
        },
        "id": "Pebb1kHLcBfp",
        "outputId": "d59eb482-28d0-444f-9a19-ece9c66c1b95"
      },
      "execution_count": 17,
      "outputs": [
        {
          "output_type": "stream",
          "name": "stdout",
          "text": [
            "Found 2000 images belonging to 2 classes.\n"
          ]
        }
      ]
    },
    {
      "cell_type": "code",
      "source": [
        "# Create validation data generator from directory\n",
        "validation_generator = val_datagen.flow_from_directory(\n",
        "    validation_dir,          # Path to validation images\n",
        "    target_size=(224,224),   # Resize images\n",
        "    batch_size=32,           # Batch size\n",
        "    class_mode='categorical' # Multi-class labels\n",
        ")"
      ],
      "metadata": {
        "colab": {
          "base_uri": "https://localhost:8080/"
        },
        "id": "X1ztOlCGcKmt",
        "outputId": "6295dc0b-02ee-4989-faf6-47ca51d7c5a6"
      },
      "execution_count": 18,
      "outputs": [
        {
          "output_type": "stream",
          "name": "stdout",
          "text": [
            "Found 1000 images belonging to 2 classes.\n"
          ]
        }
      ]
    },
    {
      "cell_type": "code",
      "source": [
        "# --------------------------------------------------\n",
        "# Step 6: Train the model\n",
        "\n",
        "# Train the model using the training generator\n",
        "# steps_per_epoch = total training samples / batch size\n",
        "# validation_steps = total validation samples / batch size\n",
        "# epochs = number of complete passes over the dataset\n",
        "history = model.fit(\n",
        "    train_generator,\n",
        "    steps_per_epoch=train_generator.samples // 32,\n",
        "    validation_data=validation_generator,\n",
        "    validation_steps=validation_generator.samples // 32,\n",
        "    epochs=5\n",
        ")"
      ],
      "metadata": {
        "colab": {
          "base_uri": "https://localhost:8080/"
        },
        "id": "Mgq57D1pcOV1",
        "outputId": "e295d7b1-9d0f-4ad7-e92e-2c80e2d81586"
      },
      "execution_count": 19,
      "outputs": [
        {
          "output_type": "stream",
          "name": "stderr",
          "text": [
            "/usr/local/lib/python3.11/dist-packages/keras/src/trainers/data_adapters/py_dataset_adapter.py:121: UserWarning: Your `PyDataset` class should call `super().__init__(**kwargs)` in its constructor. `**kwargs` can include `workers`, `use_multiprocessing`, `max_queue_size`. Do not pass these arguments to `fit()`, as they will be ignored.\n",
            "  self._warn_if_super_not_called()\n"
          ]
        },
        {
          "output_type": "stream",
          "name": "stdout",
          "text": [
            "Epoch 1/5\n",
            "\u001b[1m62/62\u001b[0m \u001b[32m━━━━━━━━━━━━━━━━━━━━\u001b[0m\u001b[37m\u001b[0m \u001b[1m56s\u001b[0m 662ms/step - accuracy: 0.6079 - loss: 1.2768 - val_accuracy: 0.8720 - val_loss: 0.3166\n",
            "Epoch 2/5\n",
            "\u001b[1m 1/62\u001b[0m \u001b[37m━━━━━━━━━━━━━━━━━━━━\u001b[0m \u001b[1m10s\u001b[0m 172ms/step - accuracy: 0.8438 - loss: 0.3947"
          ]
        },
        {
          "output_type": "stream",
          "name": "stderr",
          "text": [
            "/usr/local/lib/python3.11/dist-packages/keras/src/trainers/epoch_iterator.py:116: UserWarning: Your input ran out of data; interrupting training. Make sure that your dataset or generator can generate at least `steps_per_epoch * epochs` batches. You may need to use the `.repeat()` function when building your dataset.\n",
            "  self._interrupted_warning()\n"
          ]
        },
        {
          "output_type": "stream",
          "name": "stdout",
          "text": [
            "\b\b\b\b\b\b\b\b\b\b\b\b\b\b\b\b\b\b\b\b\b\b\b\b\b\b\b\b\b\b\b\b\b\b\b\b\b\b\b\b\b\b\b\b\b\b\b\b\b\b\b\b\b\b\b\b\b\b\b\b\b\b\b\b\b\b\b\b\b\b\b\b\b\b\b\r\u001b[1m62/62\u001b[0m \u001b[32m━━━━━━━━━━━━━━━━━━━━\u001b[0m\u001b[37m\u001b[0m \u001b[1m6s\u001b[0m 90ms/step - accuracy: 0.8438 - loss: 0.3947 - val_accuracy: 0.8710 - val_loss: 0.3098\n",
            "Epoch 3/5\n",
            "\u001b[1m62/62\u001b[0m \u001b[32m━━━━━━━━━━━━━━━━━━━━\u001b[0m\u001b[37m\u001b[0m \u001b[1m55s\u001b[0m 531ms/step - accuracy: 0.8139 - loss: 0.4167 - val_accuracy: 0.8982 - val_loss: 0.2661\n",
            "Epoch 4/5\n",
            "\u001b[1m62/62\u001b[0m \u001b[32m━━━━━━━━━━━━━━━━━━━━\u001b[0m\u001b[37m\u001b[0m \u001b[1m6s\u001b[0m 94ms/step - accuracy: 0.6875 - loss: 0.5650 - val_accuracy: 0.8992 - val_loss: 0.2647\n",
            "Epoch 5/5\n",
            "\u001b[1m62/62\u001b[0m \u001b[32m━━━━━━━━━━━━━━━━━━━━\u001b[0m\u001b[37m\u001b[0m \u001b[1m40s\u001b[0m 625ms/step - accuracy: 0.8277 - loss: 0.3845 - val_accuracy: 0.9052 - val_loss: 0.2434\n"
          ]
        }
      ]
    },
    {
      "cell_type": "code",
      "source": [
        "# --------------------------------------------------\n",
        "# Optional Step 7: Fine-tuning last layers\n",
        "\n",
        "# Unfreeze the last 4 layers of the VGG16 base model for fine-tuning\n",
        "for layer in base_model.layers[-4:]:\n",
        "    layer.trainable = True  # Allow these layers to update during training"
      ],
      "metadata": {
        "id": "l1gTngf4cV8D"
      },
      "execution_count": 20,
      "outputs": []
    },
    {
      "cell_type": "code",
      "source": [
        "# Re-compile the model with a smaller learning rate for fine-tuning\n",
        "# Small learning rate ensures pre-trained weights are not drastically changed\n",
        "model.compile(optimizer=tf.keras.optimizers.Adam(1e-5),\n",
        "              loss='categorical_crossentropy',\n",
        "              metrics=['accuracy'])\n",
        "\n",
        "# Fine-tune the model for additional epochs\n",
        "history_fine = model.fit(\n",
        "    train_generator,\n",
        "    steps_per_epoch=train_generator.samples // 32,\n",
        "    validation_data=validation_generator,\n",
        "    validation_steps=validation_generator.samples // 32,\n",
        "    epochs=5\n",
        ")"
      ],
      "metadata": {
        "colab": {
          "base_uri": "https://localhost:8080/"
        },
        "id": "jnaF9GdvdJxT",
        "outputId": "28d15e2a-ade8-4d1e-fd98-40ff827b04c3"
      },
      "execution_count": 21,
      "outputs": [
        {
          "output_type": "stream",
          "name": "stdout",
          "text": [
            "Epoch 1/5\n",
            "\u001b[1m62/62\u001b[0m \u001b[32m━━━━━━━━━━━━━━━━━━━━\u001b[0m\u001b[37m\u001b[0m \u001b[1m42s\u001b[0m 577ms/step - accuracy: 0.8469 - loss: 0.3510 - val_accuracy: 0.9284 - val_loss: 0.1758\n",
            "Epoch 2/5\n",
            "\u001b[1m62/62\u001b[0m \u001b[32m━━━━━━━━━━━━━━━━━━━━\u001b[0m\u001b[37m\u001b[0m \u001b[1m10s\u001b[0m 156ms/step - accuracy: 0.7500 - loss: 0.4165 - val_accuracy: 0.9315 - val_loss: 0.1782\n",
            "Epoch 3/5\n",
            "\u001b[1m62/62\u001b[0m \u001b[32m━━━━━━━━━━━━━━━━━━━━\u001b[0m\u001b[37m\u001b[0m \u001b[1m33s\u001b[0m 536ms/step - accuracy: 0.8954 - loss: 0.2541 - val_accuracy: 0.9435 - val_loss: 0.1456\n",
            "Epoch 4/5\n",
            "\u001b[1m62/62\u001b[0m \u001b[32m━━━━━━━━━━━━━━━━━━━━\u001b[0m\u001b[37m\u001b[0m \u001b[1m10s\u001b[0m 165ms/step - accuracy: 0.8438 - loss: 0.3760 - val_accuracy: 0.9466 - val_loss: 0.1452\n",
            "Epoch 5/5\n",
            "\u001b[1m62/62\u001b[0m \u001b[32m━━━━━━━━━━━━━━━━━━━━\u001b[0m\u001b[37m\u001b[0m \u001b[1m72s\u001b[0m 544ms/step - accuracy: 0.9155 - loss: 0.2233 - val_accuracy: 0.9516 - val_loss: 0.1405\n"
          ]
        }
      ]
    },
    {
      "cell_type": "code",
      "source": [
        "import matplotlib.pyplot as plt\n",
        "\n",
        "# Extract metrics from initial training\n",
        "acc = history.history['accuracy']\n",
        "val_acc = history.history['val_accuracy']\n",
        "loss = history.history['loss']\n",
        "val_loss = history.history['val_loss']\n",
        "\n",
        "# Extract metrics from fine-tuning\n",
        "acc_fine = history_fine.history['accuracy']\n",
        "val_acc_fine = history_fine.history['val_accuracy']\n",
        "loss_fine = history_fine.history['loss']\n",
        "val_loss_fine = history_fine.history['val_loss']\n",
        "\n",
        "# Combine metrics for plotting\n",
        "epochs_initial = range(1, len(acc)+1)\n",
        "epochs_fine = range(len(acc)+1, len(acc)+len(acc_fine)+1)\n",
        "\n",
        "# Plot Accuracy\n",
        "plt.figure(figsize=(12,5))\n",
        "plt.subplot(1,2,1)\n",
        "plt.plot(epochs_initial, acc, 'b-o', label='Training Acc (Initial)')\n",
        "plt.plot(epochs_initial, val_acc, 'r-o', label='Validation Acc (Initial)')\n",
        "plt.plot(epochs_fine, acc_fine, 'b--', label='Training Acc (Fine-tune)')\n",
        "plt.plot(epochs_fine, val_acc_fine, 'r--', label='Validation Acc (Fine-tune)')\n",
        "plt.title('Training and Validation Accuracy')\n",
        "plt.xlabel('Epochs')\n",
        "plt.ylabel('Accuracy')\n",
        "plt.legend()\n",
        "\n",
        "# Plot Loss\n",
        "plt.subplot(1,2,2)\n",
        "plt.plot(epochs_initial, loss, 'b-o', label='Training Loss (Initial)')\n",
        "plt.plot(epochs_initial, val_loss, 'r-o', label='Validation Loss (Initial)')\n",
        "plt.plot(epochs_fine, loss_fine, 'b--', label='Training Loss (Fine-tune)')\n",
        "plt.plot(epochs_fine, val_loss_fine, 'r--', label='Validation Loss (Fine-tune)')\n",
        "plt.title('Training and Validation Loss')\n",
        "plt.xlabel('Epochs')\n",
        "plt.ylabel('Loss')\n",
        "plt.legend()\n",
        "\n",
        "plt.tight_layout()\n",
        "plt.show()"
      ],
      "metadata": {
        "colab": {
          "base_uri": "https://localhost:8080/",
          "height": 473
        },
        "id": "KtBBqkOVdZkH",
        "outputId": "aec01583-1224-4c3f-8408-b98217a46af2"
      },
      "execution_count": 22,
      "outputs": [
        {
          "output_type": "display_data",
          "data": {
            "text/plain": [
              "<Figure size 1200x500 with 2 Axes>"
            ],
            "image/png": "[encoded data removed]"
          },
          "metadata": {}
        }
      ]
    },
    {
      "cell_type": "code",
      "source": [
        "from tensorflow.keras.preprocessing import image\n",
        "import numpy as np\n",
        "\n",
        "# Step 1: Load new image (replace 'new_image.jpg' with your image path)\n",
        "img_path = \"/content/images2.jpeg\"\n",
        "img = image.load_img(img_path, target_size=(224,224))  # Resize to VGG16 input size\n",
        "\n",
        "# Step 2: Convert image to array\n",
        "img_array = image.img_to_array(img)\n",
        "\n",
        "# Step 3: Expand dims to make it batch size 1 (model expects 4D input)\n",
        "img_array = np.expand_dims(img_array, axis=0)\n",
        "\n",
        "# Step 4: Normalize (same as training)\n",
        "img_array /= 255.0\n",
        "\n",
        "# Step 5: Predict\n",
        "pred = model.predict(img_array)\n",
        "\n",
        "# Step 6: Convert prediction to label\n",
        "class_indices = train_generator.class_indices   # {'cats': 0, 'dogs': 1}\n",
        "labels = {v:k for k,v in class_indices.items()} # Reverse mapping\n",
        "\n",
        "pred_class = labels[np.argmax(pred)]\n",
        "print(\"Predicted class:\", pred_class)"
      ],
      "metadata": {
        "colab": {
          "base_uri": "https://localhost:8080/"
        },
        "id": "co4_Lx4_eJR7",
        "outputId": "9e5899d5-faec-4a20-be1a-ca7227b0374b"
      },
      "execution_count": 24,
      "outputs": [
        {
          "output_type": "stream",
          "name": "stdout",
          "text": [
            "\u001b[1m1/1\u001b[0m \u001b[32m━━━━━━━━━━━━━━━━━━━━\u001b[0m\u001b[37m\u001b[0m \u001b[1m0s\u001b[0m 43ms/step\n",
            "Predicted class: cats\n"
          ]
        }
      ]
    },
    {
      "cell_type": "code",
      "source": [],
      "metadata": {
        "id": "iLIflheHfC7c"
      },
      "execution_count": null,
      "outputs": []
    },
    {
      "cell_type": "markdown",
      "source": [
        "## **VGG19**"
      ],
      "metadata": {
        "id": "NaJzu_QUfdDJ"
      }
    },
    {
      "cell_type": "code",
      "source": [
        "# -------------------------------\n",
        "# VGG19 Transfer Learning - Cats vs Dogs\n",
        "# -------------------------------\n",
        "\n",
        "import tensorflow as tf\n",
        "from tensorflow.keras.applications import VGG19\n",
        "from tensorflow.keras import layers, models\n",
        "from tensorflow.keras.preprocessing.image import ImageDataGenerator\n",
        "from tensorflow.keras.utils import load_img, img_to_array  # Correct import for TF >=2.11\n",
        "import matplotlib.pyplot as plt\n",
        "import numpy as np\n",
        "import os\n",
        "import zipfile\n",
        "\n",
        "# --------------------------------------------------\n",
        "# Step 0: Download Cats vs Dogs dataset and extract\n",
        "_URL = \"https://storage.googleapis.com/mledu-datasets/cats_and_dogs_filtered.zip\"\n",
        "zip_path = tf.keras.utils.get_file('cats_and_dogs.zip', origin=_URL, extract=False)\n",
        "\n",
        "extract_dir = os.path.join(os.path.dirname(zip_path), 'cats_and_dogs_filtered')\n",
        "with zipfile.ZipFile(zip_path, 'r') as zip_ref:\n",
        "    zip_ref.extractall(extract_dir)\n",
        "\n",
        "train_dir = os.path.join(extract_dir, 'cats_and_dogs_filtered', 'train')\n",
        "validation_dir = os.path.join(extract_dir, 'cats_and_dogs_filtered', 'validation')\n",
        "\n",
        "# --------------------------------------------------\n",
        "# Step 1: Load Pre-trained VGG19 Model (without top layers)\n",
        "base_model = VGG19(weights='imagenet', include_top=False, input_shape=(224,224,3))\n",
        "\n",
        "# --------------------------------------------------\n",
        "# Step 2: Freeze all layers of the pre-trained model\n",
        "for layer in base_model.layers:\n",
        "    layer.trainable = False\n",
        "\n",
        "# --------------------------------------------------\n",
        "# Step 3: Add custom layers on top\n",
        "model = models.Sequential([\n",
        "    base_model,\n",
        "    layers.Flatten(),\n",
        "    layers.Dense(256, activation='relu'),\n",
        "    layers.Dropout(0.5),\n",
        "    layers.Dense(2, activation='softmax')  # Output: 2 classes (cats, dogs)\n",
        "])\n",
        "\n",
        "# --------------------------------------------------\n",
        "# Step 4: Compile the model\n",
        "model.compile(optimizer='adam', loss='categorical_crossentropy', metrics=['accuracy'])\n",
        "\n",
        "# --------------------------------------------------\n",
        "# Step 5: Prepare Image Data\n",
        "train_datagen = ImageDataGenerator(\n",
        "    rescale=1./255,\n",
        "    rotation_range=40,\n",
        "    width_shift_range=0.2,\n",
        "    height_shift_range=0.2,\n",
        "    shear_range=0.2,\n",
        "    zoom_range=0.2,\n",
        "    horizontal_flip=True,\n",
        "    fill_mode='nearest'\n",
        ")\n",
        "\n",
        "val_datagen = ImageDataGenerator(rescale=1./255)\n",
        "\n",
        "train_generator = train_datagen.flow_from_directory(\n",
        "    train_dir,\n",
        "    target_size=(224,224),\n",
        "    batch_size=32,\n",
        "    class_mode='categorical'\n",
        ")\n",
        "\n",
        "validation_generator = val_datagen.flow_from_directory(\n",
        "    validation_dir,\n",
        "    target_size=(224,224),\n",
        "    batch_size=32,\n",
        "    class_mode='categorical'\n",
        ")\n",
        "\n",
        "# --------------------------------------------------\n",
        "# Step 6: Train the model (initial training)\n",
        "history = model.fit(\n",
        "    train_generator,\n",
        "    steps_per_epoch=train_generator.samples // 32,\n",
        "    validation_data=validation_generator,\n",
        "    validation_steps=validation_generator.samples // 32,\n",
        "    epochs=5\n",
        ")\n",
        "\n",
        "# --------------------------------------------------\n",
        "# Optional Step 7: Fine-tuning last layers\n",
        "for layer in base_model.layers[-4:]:\n",
        "    layer.trainable = True\n",
        "\n",
        "model.compile(optimizer=tf.keras.optimizers.Adam(1e-5),\n",
        "              loss='categorical_crossentropy',\n",
        "              metrics=['accuracy'])\n",
        "\n",
        "history_fine = model.fit(\n",
        "    train_generator,\n",
        "    steps_per_epoch=train_generator.samples // 32,\n",
        "    validation_data=validation_generator,\n",
        "    validation_steps=validation_generator.samples // 32,\n",
        "    epochs=5\n",
        ")\n",
        "\n",
        "# --------------------------------------------------\n",
        "# Step 8: Accuracy and Loss Comparison Visualisation\n",
        "acc = history.history['accuracy']\n",
        "val_acc = history.history['val_accuracy']\n",
        "loss = history.history['loss']\n",
        "val_loss = history.history['val_loss']\n",
        "\n",
        "acc_fine = history_fine.history['accuracy']\n",
        "val_acc_fine = history_fine.history['val_accuracy']\n",
        "loss_fine = history_fine.history['loss']\n",
        "val_loss_fine = history_fine.history['val_loss']\n",
        "\n",
        "epochs_initial = range(1, len(acc)+1)\n",
        "epochs_fine = range(len(acc)+1, len(acc)+len(acc_fine)+1)\n",
        "\n",
        "plt.figure(figsize=(12,5))\n",
        "\n",
        "# Accuracy plot\n",
        "plt.subplot(1,2,1)\n",
        "plt.plot(epochs_initial, acc, 'b-o', label='Training Acc (Initial)')\n",
        "plt.plot(epochs_initial, val_acc, 'r-o', label='Validation Acc (Initial)')\n",
        "plt.plot(epochs_fine, acc_fine, 'b--', label='Training Acc (Fine-tune)')\n",
        "plt.plot(epochs_fine, val_acc_fine, 'r--', label='Validation Acc (Fine-tune)')\n",
        "plt.title('Training and Validation Accuracy')\n",
        "plt.xlabel('Epochs')\n",
        "plt.ylabel('Accuracy')\n",
        "plt.legend()\n",
        "\n",
        "# Loss plot\n",
        "plt.subplot(1,2,2)\n",
        "plt.plot(epochs_initial, loss, 'b-o', label='Training Loss (Initial)')\n",
        "plt.plot(epochs_initial, val_loss, 'r-o', label='Validation Loss (Initial)')\n",
        "plt.plot(epochs_fine, loss_fine, 'b--', label='Training Loss (Fine-tune)')\n",
        "plt.plot(epochs_fine, val_loss_fine, 'r--', label='Validation Loss (Fine-tune)')\n",
        "plt.title('Training and Validation Loss')\n",
        "plt.xlabel('Epochs')\n",
        "plt.ylabel('Loss')\n",
        "plt.legend()\n",
        "\n",
        "plt.tight_layout()\n",
        "plt.show()\n",
        "\n",
        "# --------------------------------------------------\n",
        "# Step 9: Predict on new images\n",
        "\n",
        "# Create reverse mapping of class indices\n",
        "class_indices = train_generator.class_indices   # {'cats':0, 'dogs':1}\n",
        "labels = {v:k for k,v in class_indices.items()}\n",
        "\n",
        "def predict_image(img_path):\n",
        "    \"\"\"Predict class of a single image\"\"\"\n",
        "    img = load_img(img_path, target_size=(224,224))   # Load and resize image\n",
        "    img_array = img_to_array(img)                     # Convert to array\n",
        "    img_array = np.expand_dims(img_array, axis=0)/255.0  # Add batch dim and normalize\n",
        "    pred = model.predict(img_array)\n",
        "    pred_class = labels[np.argmax(pred)]\n",
        "    print(f\"Predicted class for {os.path.basename(img_path)}: {pred_class}\")\n",
        "\n",
        "# Example usage\n",
        "# predict_image('new_image.jpg')  # Replace with your own image path\n"
      ],
      "metadata": {
        "id": "2v0bFm5_feP2"
      },
      "execution_count": null,
      "outputs": []
    }
  ]
}