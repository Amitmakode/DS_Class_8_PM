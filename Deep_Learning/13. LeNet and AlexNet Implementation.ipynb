{
  "nbformat": 4,
  "nbformat_minor": 0,
  "metadata": {
    "colab": {
      "provenance": [],
      "gpuType": "T4"
    },
    "kernelspec": {
      "name": "python3",
      "display_name": "Python 3"
    },
    "language_info": {
      "name": "python"
    },
    "accelerator": "GPU"
  },
  "cells": [
    {
      "cell_type": "code",
      "execution_count": 1,
      "metadata": {
        "id": "VyVt8_GfBlOH"
      },
      "outputs": [],
      "source": [
        "# Import libraries needed for the neural network and data handling\n",
        "import torch\n",
        "# Q: What is PyTorch, and why is it useful for building neural networks?\n",
        "# A: PyTorch is a Python library for machine learning, especially deep learning. It’s useful because it provides tools for building neural networks, handling tensors (like arrays), and performing computations on GPUs for faster training.\n",
        "import torch.nn as nn\n",
        "# Q: What kind of tools does the nn module provide?\n",
        "# A: The nn module provides building blocks like layers (e.g., Conv2d, Linear), activation functions (e.g., Tanh), and loss functions (e.g., CrossEntropyLoss) to construct and train neural networks.\n",
        "from torch.utils.data import DataLoader\n",
        "# Q: Why do we need a DataLoader for training?\n",
        "# A: DataLoader batches the dataset, shuffles it, and loads data efficiently, allowing the model to process small groups of images at a time, which saves memory and speeds up training.\n",
        "import torchvision\n",
        "# Q: What does torchvision provide for working with image datasets?\n",
        "# A: Torchvision provides datasets (e.g., MNIST), pre-trained models, and image transformation tools (e.g., ToTensor, Normalize) for computer vision tasks.\n",
        "from torchvision import transforms\n",
        "# Q: Why do we need to transform images before training?\n",
        "# A: Transformations prepare images (e.g., converting to tensors, normalizing) to match the model’s input requirements and improve training stability.\n",
        "import matplotlib.pyplot as plt\n",
        "# Q: How will we use matplotlib in this script?\n",
        "# A: Matplotlib will plot training and test accuracy/loss curves to visualize how the model’s performance improves over epochs."
      ]
    },
    {
      "cell_type": "code",
      "source": [
        "# Set the device to GPU if available, otherwise CPU\n",
        "device = torch.device(\"cuda\" if torch.cuda.is_available() else \"cpu\")\n",
        "# Q: Why check for CUDA availability?\n",
        "# A: CUDA enables GPU acceleration, which speeds up neural network computations. We check to use GPU if available, otherwise fall back to CPU."
      ],
      "metadata": {
        "id": "JgL-L6oPDIsy"
      },
      "execution_count": 2,
      "outputs": []
    },
    {
      "cell_type": "code",
      "source": [
        "device"
      ],
      "metadata": {
        "colab": {
          "base_uri": "https://localhost:8080/"
        },
        "id": "P8PUxbR6DXGI",
        "outputId": "2aec09cd-6b42-4349-cca4-b62a951ac912"
      },
      "execution_count": 3,
      "outputs": [
        {
          "output_type": "execute_result",
          "data": {
            "text/plain": [
              "device(type='cuda')"
            ]
          },
          "metadata": {},
          "execution_count": 3
        }
      ]
    },
    {
      "cell_type": "code",
      "source": [
        "# Define image transformations for MNIST (28x28 to 32x32 and normalization)\n",
        "transform = transforms.Compose([\n",
        "# Q: Why combine multiple transformations into one?\n",
        "# A: Combining transformations ensures they’re applied in sequence (e.g., padding, then tensor conversion, then normalization) efficiently to each image.\n",
        "    transforms.Pad(2),\n",
        "# Q: Why pad the image from 28x28 to 32x32?\n",
        "# A: LeNet-5 expects 32x32 inputs. Padding adds 2 pixels on each side of 28x28 MNIST images to match this size.\n",
        "    transforms.ToTensor(),\n",
        "# Q: What does ToTensor do to the image data?\n",
        "# A: ToTensor converts images to PyTorch tensors (arrays) and scales pixel values from [0, 255] to [0, 1] for model processing.\n",
        "    transforms.Normalize((0.1307,), (0.3081,))\n",
        "# Q: Why use these specific values for normalization?\n",
        "# A: These values (mean=0.1307, std=0.3081) are MNIST’s dataset mean and standard deviation, used to standardize pixel values for faster, more stable training.\n",
        "])"
      ],
      "metadata": {
        "id": "CGrt1C_IDYFL"
      },
      "execution_count": 4,
      "outputs": []
    },
    {
      "cell_type": "code",
      "source": [
        "# Load the MNIST training dataset\n",
        "train_dataset = torchvision.datasets.MNIST(\n",
        "# Q: What type of data is in the MNIST dataset?\n",
        "# A: MNIST contains 60,000 grayscale images (28x28) of handwritten digits (0–9) with corresponding labels.\n",
        "    root=\"./data\",\n",
        "# Q: Where will the dataset be stored on your computer?\n",
        "# A: The dataset is saved in the \"./data\" directory on your local machine.\n",
        "    train=True,\n",
        "# Q: Why set train=True for this dataset?\n",
        "# A: train=True loads the 60,000 training images for model training, not the test set.\n",
        "    download=True,\n",
        "# Q: What happens if the dataset isn’t already downloaded?\n",
        "# A: If not downloaded, torchvision downloads MNIST to the root directory; if already present, it uses the local copy.\n",
        "    transform=transform\n",
        "# Q: Why apply the transformation here?\n",
        "# A: Transformations are applied to each image as it’s loaded to prepare it for the model (e.g., padding, normalization).\n",
        ")"
      ],
      "metadata": {
        "colab": {
          "base_uri": "https://localhost:8080/"
        },
        "id": "3-J3S_HZDr82",
        "outputId": "098d359f-5f75-4f63-b757-1c13dc8fc659"
      },
      "execution_count": 5,
      "outputs": [
        {
          "output_type": "stream",
          "name": "stderr",
          "text": [
            "100%|██████████| 9.91M/9.91M [00:00<00:00, 18.6MB/s]\n",
            "100%|██████████| 28.9k/28.9k [00:00<00:00, 481kB/s]\n",
            "100%|██████████| 1.65M/1.65M [00:00<00:00, 4.45MB/s]\n",
            "100%|██████████| 4.54k/4.54k [00:00<00:00, 11.6MB/s]\n"
          ]
        }
      ]
    },
    {
      "cell_type": "code",
      "source": [
        "# Load the MNIST test dataset\n",
        "test_dataset = torchvision.datasets.MNIST(\n",
        "# Q: Why do we need a separate test dataset?\n",
        "# A: The test dataset (10,000 images) evaluates the model’s performance on unseen data to check for generalization.\n",
        "    root=\"./data\",\n",
        "# Q: Why use the same root directory as the training dataset?\n",
        "# A: Using the same root avoids redundant downloads and keeps all MNIST data in one place.\n",
        "    train=False,\n",
        "# Q: What does train=False mean?\n",
        "# A: train=False loads the 10,000 test images instead of the training set.\n",
        "    download=True,\n",
        "# Q: Why is download=True useful?\n",
        "# A: It ensures the test dataset is downloaded if not already present, making the code portable.\n",
        "    transform=transform\n",
        "# Q: Why apply the same transformation to the test dataset?\n",
        "# A: The same transformations ensure test images have the same format (size, normalization) as training images for consistent evaluation.\n",
        ")"
      ],
      "metadata": {
        "id": "xSxoAU-TEIqc"
      },
      "execution_count": 6,
      "outputs": []
    },
    {
      "cell_type": "code",
      "source": [
        "# Create a DataLoader for the training dataset\n",
        "train_loader = DataLoader(\n",
        "# Q: What does a DataLoader do with the dataset?\n",
        "# A: DataLoader batches the dataset, shuffles it, and provides an iterator for efficient data loading during training.\n",
        "    train_dataset,\n",
        "# Q: Why pass the train_dataset here?\n",
        "# A: train_dataset specifies the data to be batched and shuffled for training.\n",
        "    batch_size=128,\n",
        "# Q: Why process the data in batches of 128?\n",
        "# A: Batch size of 128 balances memory usage and training speed, allowing the model to learn from multiple images at once.\n",
        "    shuffle=True\n",
        "# Q: Why shuffle the training data?\n",
        "# A: Shuffling randomizes the order of images each epoch, preventing the model from learning patterns based on data order.\n",
        ")"
      ],
      "metadata": {
        "id": "mdzmpSqEEVA7"
      },
      "execution_count": 7,
      "outputs": []
    },
    {
      "cell_type": "code",
      "source": [
        "# Create a DataLoader for the test dataset\n",
        "test_loader = DataLoader(\n",
        "# Q: Why do we need a DataLoader for testing?\n",
        "# A: DataLoader for testing batches the test data for efficient evaluation, processing multiple images at once.\n",
        "    test_dataset,\n",
        "# Q: Why use the test_dataset here?\n",
        "# A: test_dataset provides the data for evaluating the model’s performance on unseen images.\n",
        "    batch_size=128,\n",
        "# Q: Why use the same batch size as training?\n",
        "# A: Same batch size ensures consistency in processing, though it’s less critical for testing since gradients aren’t computed.\n",
        "    shuffle=False\n",
        "# Q: Why not shuffle the test data?\n",
        "# A: Shuffling test data is unnecessary since we’re only evaluating, and consistent order can help with debugging or comparisons.\n",
        ")"
      ],
      "metadata": {
        "id": "Y0WNIqTqEmRy"
      },
      "execution_count": 8,
      "outputs": []
    },
    {
      "cell_type": "code",
      "source": [
        "# Define the LeNet-5 model using nn.Sequential\n",
        "model = nn.Sequential(\n",
        "# Q: What does nn.Sequential do to organize layers?\n",
        "# A: nn.Sequential chains layers in order, passing the output of one layer as input to the next, simplifying model definition.\n",
        "    nn.Conv2d(1, 6, kernel_size=5, stride=1, padding=0),\n",
        "# Q: Why start with 1 input channel?\n",
        "# A: MNIST images are grayscale (1 channel), so the first Conv2d takes 1 input channel and outputs 6 feature maps.\n",
        "    nn.Tanh(),\n",
        "# Q: What does the Tanh activation function do?\n",
        "# A: Tanh introduces nonlinearity, mapping values to [-1, 1], helping the model learn complex patterns.\n",
        "    nn.AvgPool2d(kernel_size=2, stride=2),\n",
        "# Q: How does average pooling reduce image size?\n",
        "# A: AvgPool2d averages pixel values in 2x2 regions, reducing height/width by half (e.g., 28x28 to 14x14), saving computation.\n",
        "    nn.Conv2d(6, 16, kernel_size=5, stride=1, padding=0),\n",
        "# Q: Why increase to 16 channels?\n",
        "# A: Increasing to 16 channels allows the model to learn more complex features from the 6 input feature maps.\n",
        "    nn.Tanh(),\n",
        "# Q: Why apply Tanh again after convolution?\n",
        "# A: Tanh adds nonlinearity after convolution, enabling the model to capture more intricate patterns.\n",
        "    nn.AvgPool2d(kernel_size=2, stride=2),\n",
        "# Q: What is the output size after this pooling?\n",
        "# A: Pooling reduces 10x10 (after Conv2d) to 5x5, as kernel=2, stride=2 halves the dimensions.\n",
        "    nn.Conv2d(16, 120, kernel_size=5, stride=1, padding=0),\n",
        "# Q: Why 120 channels in this layer?\n",
        "# A: 120 channels create a rich feature representation, preparing for the fully connected layers.\n",
        "    nn.Tanh(),\n",
        "# Q: Why use Tanh after the final convolution?\n",
        "# A: Tanh adds nonlinearity to the final convolutional features, aiding in complex pattern recognition.\n",
        "    nn.Flatten(),\n",
        "# Q: What does Flatten do to the tensor?\n",
        "# A: Flatten converts the 3D tensor (120x1x1) to a 1D vector (120) for input to fully connected layers.\n",
        "    nn.Linear(120, 84),\n",
        "# Q: How is the input size 120 calculated?\n",
        "# A: After flattening, the tensor has 120 channels (from Conv2d) and 1x1 spatial size, so 120 * 1 * 1 = 120.\n",
        "    nn.Tanh(),\n",
        "# Q: Why use Tanh in the fully connected layer?\n",
        "# A: Tanh adds nonlinearity to the dense layer, helping the model learn complex relationships.\n",
        "    nn.Linear(84, 10)\n",
        "# Q: Why does the final layer output 10 values?\n",
        "# A: The final layer outputs 10 values, one for each MNIST digit (0–9), representing class scores.\n",
        ").to(device)\n",
        "# Q: Why move the model to the device (CPU/GPU)?\n",
        "# A: Moving to device ensures the model’s computations (and weights) use GPU if available, for faster processing.\n"
      ],
      "metadata": {
        "id": "pwVs4AUPEoTT"
      },
      "execution_count": 9,
      "outputs": []
    },
    {
      "cell_type": "code",
      "source": [
        "# Define the loss function\n",
        "criterion = nn.CrossEntropyLoss()\n",
        "# Q: Why use CrossEntropyLoss for classification?\n",
        "# A: CrossEntropyLoss combines log softmax and negative log likelihood, ideal for multi-class classification like MNIST (10 classes)."
      ],
      "metadata": {
        "id": "afLAy1PHGNWV"
      },
      "execution_count": 10,
      "outputs": []
    },
    {
      "cell_type": "code",
      "source": [
        "# Define the optimizer\n",
        "optimizer = torch.optim.Adam(model.parameters(), lr=0.001)\n",
        "# Q: What does the Adam optimizer do?\n",
        "# A: Adam adjusts model weights using gradients, balancing speed and stability with adaptive learning rates."
      ],
      "metadata": {
        "id": "Q5Tsj9rBGWaO"
      },
      "execution_count": 11,
      "outputs": []
    },
    {
      "cell_type": "code",
      "source": [
        "# Set the number of epochs\n",
        "epochs = 5\n",
        "# Q: Why train for multiple epochs?\n",
        "# A: Multiple epochs allow the model to see the dataset multiple times, improving learning and accuracy."
      ],
      "metadata": {
        "id": "C5IAHIMzGbKb"
      },
      "execution_count": 12,
      "outputs": []
    },
    {
      "cell_type": "code",
      "source": [
        "# Initialize lists to store training history\n",
        "train_losses = []\n",
        "# Q: Why track training loss?\n",
        "# A: Tracking training loss shows how well the model is fitting the training data over time.\n",
        "train_accuracies = []\n",
        "# Q: Why measure accuracy during training?\n",
        "# A: Accuracy measures the percentage of correct predictions, indicating how well the model learns.\n",
        "test_losses = []\n",
        "# Q: Why evaluate loss on the test set?\n",
        "# A: Test loss shows how well the model generalizes to unseen data, detecting overfitting.\n",
        "test_accuracies = []\n",
        "# Q: Why check accuracy on the test set?\n",
        "# A: Test accuracy measures the model’s performance on unseen data, ensuring it generalizes well."
      ],
      "metadata": {
        "id": "3sELinedGdNg"
      },
      "execution_count": 13,
      "outputs": []
    },
    {
      "cell_type": "code",
      "source": [
        "# Training loop\n",
        "for epoch in range(epochs):\n",
        "# Q: Why loop over epochs?\n",
        "# A: Looping over epochs lets the model learn from the entire dataset multiple times, refining weights.\n",
        "    model.train()\n",
        "# Q: What does model.train() do?\n",
        "# A: model.train() sets the model to training mode, enabling layers like Dropout (if used) and gradient updates.\n",
        "    running_loss = 0.0\n",
        "# Q: Why track loss within an epoch?\n",
        "# A: Running loss accumulates batch losses to compute the average loss for the epoch.\n",
        "    correct = 0\n",
        "# Q: Why count correct predictions?\n",
        "# A: Counting correct predictions helps calculate training accuracy for the epoch.\n",
        "    total = 0\n",
        "# Q: Why track the total number of samples?\n",
        "# A: Total tracks the number of samples processed to compute average loss and accuracy.\n",
        "    for images, labels in train_loader:\n",
        "# Q: What does the DataLoader provide in each iteration?\n",
        "# A: DataLoader provides batches of images (tensors) and their corresponding labels.\n",
        "        images = images.to(device)\n",
        "# Q: Why move images to the device?\n",
        "# A: Images are moved to GPU/CPU to match the model’s device for computation.\n",
        "        labels = labels.to(device)\n",
        "# Q: Why move labels to the device?\n",
        "# A: Labels are moved to the same device as the model to compute the loss.\n",
        "        optimizer.zero_grad()\n",
        "# Q: Why reset gradients before each step?\n",
        "# A: Zeroing gradients prevents accumulation from previous batches, ensuring correct updates.\n",
        "        outputs = model(images)\n",
        "# Q: What does the model output for each batch?\n",
        "# A: The model outputs a tensor of shape (batch_size, 10), with scores for each digit class.\n",
        "        loss = criterion(outputs, labels)\n",
        "# Q: How is the loss calculated?\n",
        "# A: CrossEntropyLoss compares output scores to true labels, computing the prediction error.\n",
        "        loss.backward()\n",
        "# Q: What does backward() do to the loss?\n",
        "# A: backward() computes gradients of the loss with respect to model parameters.\n",
        "        optimizer.step()\n",
        "# Q: How does the optimizer update the model?\n",
        "# A: The optimizer adjusts model weights using gradients to minimize the loss.\n",
        "        running_loss += loss.item() * images.size(0)\n",
        "# Q: Why multiply by batch size?\n",
        "# A: Multiplying by batch size weights the loss by the number of samples, for accurate averaging.\n",
        "        _, predicted = torch.max(outputs, 1)\n",
        "# Q: How do we get predictions from outputs?\n",
        "# A: torch.max(outputs, 1) finds the index (class) with the highest score for each image.\n",
        "        total += labels.size(0)\n",
        "# Q: Why add the batch size to total?\n",
        "# A: Adding batch size updates the total number of samples processed in the epoch.\n",
        "        correct += (predicted == labels).sum().item()\n",
        "# Q: How do we count correct predictions?\n",
        "# A: Comparing predicted and true labels, we count matches and sum them for the epoch.\n",
        "    epoch_loss = running_loss / len(train_dataset)\n",
        "# Q: Why divide by dataset size?\n",
        "# A: Dividing by dataset size gives the average loss per sample for the epoch.\n",
        "    epoch_acc = correct / len(train_dataset)\n",
        "# Q: Why calculate accuracy this way?\n",
        "# A: Dividing correct predictions by total samples gives the fraction of correct predictions (accuracy).\n",
        "    train_losses.append(epoch_loss)\n",
        "# Q: Why store the epoch loss?\n",
        "# A: Storing epoch loss tracks training progress for analysis and plotting.\n",
        "    train_accuracies.append(epoch_acc)\n",
        "# Q: Why store the epoch accuracy?\n",
        "# A: Storing accuracy helps visualize how the model’s performance improves over epochs.\n",
        "\n",
        "    # Evaluate on test set\n",
        "    model.eval()\n",
        "# Q: What does model.eval() do?\n",
        "# A: model.eval() sets the model to evaluation mode, disabling training-specific behaviors like Dropout.\n",
        "    test_loss = 0.0\n",
        "# Q: Why track test loss separately?\n",
        "# A: Test loss is tracked to evaluate the model’s performance on unseen data.\n",
        "    test_correct = 0\n",
        "# Q: Why count correct predictions for testing?\n",
        "# A: Counting correct test predictions helps compute test accuracy.\n",
        "    test_total = 0\n",
        "# Q: Why track total test samples?\n",
        "# A: Total test samples are tracked to calculate average test loss and accuracy.\n",
        "    with torch.no_grad():\n",
        "# Q: Why disable gradient computation during testing?\n",
        "# A: Disabling gradients saves memory and speeds up evaluation, as we don’t update weights.\n",
        "        for images, labels in test_loader:\n",
        "# Q: Why iterate over the test_loader?\n",
        "# A: test_loader provides batches of test images and labels for evaluation.\n",
        "            images = images.to(device)\n",
        "# Q: Why move test images to the device?\n",
        "# A: Test images are moved to the model’s device for consistent computation.\n",
        "            labels = labels.to(device)\n",
        "# Q: Why move test labels to the device?\n",
        "# A: Test labels are moved to compute the loss on the same device as the model.\n",
        "            outputs = model(images)\n",
        "# Q: What does the model output for test images?\n",
        "# A: The model outputs class scores for each test image, shape (batch_size, 10).\n",
        "            loss = criterion(outputs, labels)\n",
        "# Q: Why calculate loss for test data?\n",
        "# A: Test loss measures how well the model predicts on unseen data.\n",
        "            test_loss += loss.item() * images.size(0)\n",
        "# Q: Why accumulate test loss?\n",
        "# A: Accumulating weighted loss allows computing the average test loss for the epoch.\n",
        "            _, predicted = torch.max(outputs, 1)\n",
        "# Q: How do we get test predictions?\n",
        "# A: torch.max finds the predicted class (highest score) for each test image.\n",
        "            test_total += labels.size(0)\n",
        "# Q: Why update total test samples?\n",
        "# A: Total test samples are updated to compute average loss and accuracy.\n",
        "            test_correct += (predicted == labels).sum().item()\n",
        "# Q: Why count correct test predictions?\n",
        "# A: Counting correct predictions helps compute test accuracy.\n",
        "    test_loss = test_loss / len(test_dataset)\n",
        "# Q: Why average the test loss?\n",
        "# A: Averaging gives the per-sample test loss, making it comparable across datasets.\n",
        "    test_acc = test_correct / len(test_dataset)\n",
        "# Q: Why calculate test accuracy?\n",
        "# A: Test accuracy shows the model’s performance on unseen data, indicating generalization.\n",
        "    test_losses.append(test_loss)\n",
        "# Q: Why store test loss?\n",
        "# A: Storing test loss tracks evaluation performance for analysis and plotting.\n",
        "    test_accuracies.append(test_acc)\n",
        "# Q: Why store test accuracy?\n",
        "# A: Storing test accuracy helps visualize generalization performance over epochs.\n",
        "\n",
        "    # Print results for this epoch\n",
        "    print(f\"Epoch {epoch+1}: Train Loss {epoch_loss:.4f}, Train Acc {epoch_acc:.4f}, Test Loss {test_loss:.4f}, Test Acc {test_acc:.4f}\")\n",
        "# Q: Why print results each epoch?\n",
        "# A: Printing results monitors training progress, helping identify issues like overfitting or slow learning."
      ],
      "metadata": {
        "colab": {
          "base_uri": "https://localhost:8080/"
        },
        "id": "UZSEPabXGggW",
        "outputId": "097c9b8e-07e1-4119-ca63-e9c4cd96cbfb"
      },
      "execution_count": 14,
      "outputs": [
        {
          "output_type": "stream",
          "name": "stdout",
          "text": [
            "Epoch 1: Train Loss 0.3214, Train Acc 0.9121, Test Loss 0.1007, Test Acc 0.9691\n",
            "Epoch 2: Train Loss 0.0790, Train Acc 0.9762, Test Loss 0.0557, Test Acc 0.9817\n",
            "Epoch 3: Train Loss 0.0527, Train Acc 0.9836, Test Loss 0.0444, Test Acc 0.9846\n",
            "Epoch 4: Train Loss 0.0417, Train Acc 0.9872, Test Loss 0.0356, Test Acc 0.9878\n",
            "Epoch 5: Train Loss 0.0317, Train Acc 0.9902, Test Loss 0.0435, Test Acc 0.9852\n"
          ]
        }
      ]
    },
    {
      "cell_type": "code",
      "source": [
        "# Plot training and test accuracy\n",
        "plt.figure()\n",
        "# Q: Why create a new figure for plotting?\n",
        "# A: A new figure ensures a clean canvas for the accuracy plot, avoiding overlap with other plots.\n",
        "plt.plot(range(1, epochs+1), train_accuracies, label=\"Train Accuracy\")\n",
        "# Q: What does this line plot?\n",
        "# A: This plots training accuracy for each epoch, showing how well the model learns the training data.\n",
        "plt.plot(range(1, epochs+1), test_accuracies, label=\"Test Accuracy\")\n",
        "# Q: Why plot test accuracy?\n",
        "# A: Plotting test accuracy shows how well the model generalizes to unseen data over epochs.\n",
        "plt.xlabel(\"Epoch\")\n",
        "# Q: Why label the x-axis?\n",
        "# A: Labeling the x-axis as “Epoch” indicates the training iteration number for clarity.\n",
        "plt.ylabel(\"Accuracy\")\n",
        "# Q: Why label the y-axis?\n",
        "# A: Labeling the y-axis as “Accuracy” shows the metric being plotted (fraction of correct predictions).\n",
        "plt.title(\"LeNet-5 Accuracy on MNIST\")\n",
        "# Q: Why set a title for the plot?\n",
        "# A: The title identifies the plot’s purpose, showing it’s for LeNet-5’s accuracy on MNIST.\n",
        "plt.legend()\n",
        "# Q: What does the legend show?\n",
        "# A: The legend distinguishes between training and test accuracy lines for easy interpretation.\n",
        "plt.savefig(\"accuracy.png\")\n",
        "# Q: Why save the plot to a file?\n",
        "# A: Saving the plot allows you to keep a record or share the visualization later.\n",
        "plt.show()\n",
        "# Q: Why display the plot?\n",
        "# A: Displayingќ"
      ],
      "metadata": {
        "colab": {
          "base_uri": "https://localhost:8080/",
          "height": 472
        },
        "id": "8ao-T2rCHU6V",
        "outputId": "d31f7772-9d5e-4259-c5c4-ce1060f8d654"
      },
      "execution_count": 15,
      "outputs": [
        {
          "output_type": "display_data",
          "data": {
            "text/plain": [
              "<Figure size 640x480 with 1 Axes>"
            ],
            "image/png": "[encoded data removed]"
          },
          "metadata": {}
        }
      ]
    },
    {
      "cell_type": "code",
      "source": [
        "# Plot training and test loss\n",
        "plt.figure()  # Q: Why create another figure?\n",
        "plt.plot(range(1, epochs+1), train_losses, label=\"Train Loss\")  # Q: What does this line plot?\n",
        "plt.plot(range(1, epochs+1), test_losses, label=\"Test Loss\")  # Q: Why plot test loss?\n",
        "plt.xlabel(\"Epoch\")  # Q: Why label the x-axis again?\n",
        "plt.ylabel(\"Loss\")  # Q: Why label the y-axis as Loss?\n",
        "plt.title(\"LeNet-5 Loss on MNIST\")  # Q: Why set a title for this plot?\n",
        "plt.legend()  # Q: Why include a legend here?\n",
        "plt.savefig(\"loss.png\")  # Q: Why save this plot?\n",
        "plt.show()  # Q: Why display this plot?"
      ],
      "metadata": {
        "colab": {
          "base_uri": "https://localhost:8080/",
          "height": 472
        },
        "id": "idb90CIwHydQ",
        "outputId": "6a1ed194-de63-4d37-ef7c-8787af8d6c0a"
      },
      "execution_count": 16,
      "outputs": [
        {
          "output_type": "display_data",
          "data": {
            "text/plain": [
              "<Figure size 640x480 with 1 Axes>"
            ],
            "image/png": "[encoded data removed]"
          },
          "metadata": {}
        }
      ]
    },
    {
      "cell_type": "code",
      "source": [
        "# Save the trained model\n",
        "torch.save(model.state_dict(), \"lenet5_weights.pth\")  # Q: Why save the model weights?"
      ],
      "metadata": {
        "id": "FJj4VFbSH9tG"
      },
      "execution_count": 17,
      "outputs": []
    },
    {
      "cell_type": "code",
      "source": [],
      "metadata": {
        "id": "yoa-ZP1zIKpH"
      },
      "execution_count": 17,
      "outputs": []
    },
    {
      "cell_type": "markdown",
      "source": [
        "# **AlexNet**"
      ],
      "metadata": {
        "id": "HKy9Uw4aIcJx"
      }
    },
    {
      "cell_type": "code",
      "source": [
        "# Import Libraries\n",
        "# Purpose: Load necessary Python libraries for building, training, and visualizing the neural network.\n",
        "import torch\n",
        "# Q: Why is PyTorch a good choice for building neural networks?\n",
        "# A: PyTorch is a flexible machine learning library that supports dynamic computation graphs, tensor operations, and GPU acceleration, making it ideal for building and training neural networks efficiently.\n",
        "import torch.nn as nn\n",
        "# Q: What types of layers are provided by the nn module?\n",
        "# A: The nn module provides layers like Conv2d, Linear, activation functions (e.g., ReLU), and loss functions (e.g., CrossEntropyLoss) to construct neural networks.\n",
        "from torch.utils.data import DataLoader\n",
        "# Q: Why do we need a DataLoader for our dataset?\n",
        "# A: DataLoader batches the dataset, shuffles it, and loads data efficiently, allowing the model to process small groups of images at a time, saving memory and speeding up training.\n",
        "import torchvision\n",
        "# Q: What does torchvision offer for image datasets like MNIST?\n",
        "# A: Torchvision provides datasets (e.g., MNIST), pre-trained models, and image transformation tools (e.g., ToTensor, Normalize) for computer vision tasks.\n",
        "from torchvision import transforms\n",
        "# Q: Why do we transform images before feeding them to the model?\n",
        "# A: Transformations prepare images (e.g., resizing, normalizing) to match the model’s input requirements and improve training stability.\n",
        "import matplotlib.pyplot as plt\n",
        "# Q: How will matplotlib help us visualize training progress?\n",
        "# A: Matplotlib will plot training and test accuracy/loss curves to visualize how the model’s performance evolves over epochs."
      ],
      "metadata": {
        "id": "zKrICL1qIb4K"
      },
      "execution_count": 18,
      "outputs": []
    },
    {
      "cell_type": "code",
      "source": [
        "# Set Device\n",
        "# Purpose: Configure the hardware (GPU or CPU) for computations to optimize performance.\n",
        "device = torch.device(\"cuda\" if torch.cuda.is_available() else \"cpu\")\n",
        "# Q: Why check for CUDA availability?\n",
        "# A: CUDA enables GPU acceleration, which speeds up neural network computations. Checking ensures we use GPU if available, otherwise CPU."
      ],
      "metadata": {
        "id": "B1sHZuOQITXI"
      },
      "execution_count": 19,
      "outputs": []
    },
    {
      "cell_type": "code",
      "source": [
        "# Define Image Transformations\n",
        "# Purpose: Prepare MNIST images to match AlexNet’s input requirements and stabilize training.\n",
        "transform = transforms.Compose([\n",
        "# Q: Why combine multiple transformations?\n",
        "# A: Combining transformations ensures they’re applied in sequence (e.g., padding, then tensor conversion, then normalization) efficiently to each image.\n",
        "    transforms.Pad(2),\n",
        "# Q: Why pad MNIST images from 28x28 to 32x32?\n",
        "# A: AlexNet expects larger inputs; padding 28x28 MNIST images to 32x32 ensures compatibility with the model’s architecture.\n",
        "    transforms.ToTensor(),\n",
        "# Q: What does ToTensor do to the image data?\n",
        "# A: ToTensor converts images to PyTorch tensors and scales pixel values from [0, 255] to [0, 1] for model processing.\n",
        "    transforms.Normalize((0.1307,), (0.3081,))\n",
        "# Q: Why use these specific values for normalization?\n",
        "# A: These values (mean=0.1307, std=0.3081) are MNIST’s dataset mean and standard deviation, standardizing pixel values for faster, more stable training.\n",
        "])"
      ],
      "metadata": {
        "id": "gMzz2CqbIjLP"
      },
      "execution_count": 20,
      "outputs": []
    },
    {
      "cell_type": "code",
      "source": [
        "# Load Training Dataset\n",
        "# Purpose: Load the MNIST training data for model training.\n",
        "train_dataset = torchvision.datasets.MNIST(\n",
        "# Q: What kind of data does MNIST contain?\n",
        "# A: MNIST contains 60,000 grayscale images (28x28) of handwritten digits (0–9) with corresponding labels.\n",
        "    root=\"./data\",\n",
        "# Q: Where will the dataset be saved locally?\n",
        "# A: The dataset is saved in the \"./data\" directory on your local machine.\n",
        "    train=True,\n",
        "# Q: Why set train=True for the training dataset?\n",
        "# A: train=True loads the 60,000 training images for model training, not the test set.\n",
        "    download=True,\n",
        "# Q: What happens if download=True?\n",
        "# A: If not downloaded, torchvision downloads MNIST to the root directory; if already present, it uses the local copy.\n",
        "    transform=transform\n",
        "# Q: Why apply the transformation here?\n",
        "# A: Transformations are applied to each image as it’s loaded to prepare it for the model (e.g., padding, normalization).\n",
        ")"
      ],
      "metadata": {
        "id": "e0rUQgZvIlbQ"
      },
      "execution_count": 21,
      "outputs": []
    },
    {
      "cell_type": "code",
      "source": [
        "# Load Test Dataset\n",
        "# Purpose: Load the MNIST test data for evaluating model performance on unseen data.\n",
        "test_dataset = torchvision.datasets.MNIST(\n",
        "# Q: Why do we need a separate test dataset?\n",
        "# A: The test dataset (10,000 images) evaluates the model’s performance on unseen data to check generalization.\n",
        "    root=\"./data\",\n",
        "# Q: Why use the same root directory as training?\n",
        "# A: Using the same root avoids redundant downloads and keeps all MNIST data in one place.\n",
        "    train=False,\n",
        "# Q: What does train=False mean?\n",
        "# A: train=False loads the 10,000 test images instead of the training set.\n",
        "    download=True,\n",
        "# Q: Why is download=True useful for testing?\n",
        "# A: It ensures the test dataset is downloaded if not already present, making the code portable.\n",
        "    transform=transform\n",
        "# Q: Why use the same transformation for testing?\n",
        "# A: The same transformations ensure test images have the same format (size, normalization) as training images for consistent evaluation.\n",
        ")"
      ],
      "metadata": {
        "id": "ENIj2OiVIn79"
      },
      "execution_count": 22,
      "outputs": []
    },
    {
      "cell_type": "code",
      "source": [
        "# Create Training DataLoader\n",
        "# Purpose: Batch and shuffle the training data for efficient processing during training.\n",
        "train_loader = DataLoader(\n",
        "# Q: What is the purpose of a DataLoader?\n",
        "# A: DataLoader batches the dataset, shuffles it, and provides an iterator for efficient data loading during training.\n",
        "    train_dataset,\n",
        "# Q: Why pass the train_dataset here?\n",
        "# A: train_dataset specifies the data to be batched and shuffled for training.\n",
        "    batch_size=128,\n",
        "# Q: Why use a batch size of 128?\n",
        "# A: Batch size of 128 balances memory usage and training speed, allowing the model to learn from multiple images at once.\n",
        "    shuffle=True\n",
        "# Q: Why shuffle the training data?\n",
        "# A: Shuffling randomizes the order of images each epoch, preventing the model from learning patterns based on data order.\n",
        ")"
      ],
      "metadata": {
        "id": "XkzSN7VLIx1H"
      },
      "execution_count": 23,
      "outputs": []
    },
    {
      "cell_type": "code",
      "source": [
        "# Create Test DataLoader\n",
        "# Purpose: Batch the test data for efficient evaluation.\n",
        "test_loader = DataLoader(  # Q: Why do we need a DataLoader for testing?\n",
        "# A: DataLoader for testing batches the test data for efficient evaluation, processing multiple images at once.\n",
        "    test_dataset,  # Q: Why use the test_dataset here?\n",
        "# A: test_dataset provides the data for evaluating the model’s performance on unseen images.\n",
        "    batch_size=128,  # Q: Why use the same batch size as training?\n",
        "# A: Same batch size ensures consistency in processing, though it’s less critical for testing since gradients aren’t computed.\n",
        "    shuffle=False  # Q: Why avoid shuffling test data?\n",
        "# A: Shuffling test data is unnecessary since we’re only evaluating, and consistent order helps with debugging or comparisons.\n",
        ")"
      ],
      "metadata": {
        "id": "rfo36GMxIz_K"
      },
      "execution_count": 24,
      "outputs": []
    },
    {
      "cell_type": "code",
      "source": [
        "# Define AlexNet Model\n",
        "# Purpose: Create the AlexNet architecture adapted for MNIST, defining how input images are processed.\n",
        "model = nn.Sequential(\n",
        "# Q: Why use nn.Sequential to define the model?\n",
        "# A: nn.Sequential chains layers in order, passing the output of one layer as input to the next, simplifying model definition.\n",
        "    nn.Conv2d(1, 96, kernel_size=5, stride=1, padding=2),\n",
        "# Q: Why 1 input channel for MNIST?\n",
        "# A: MNIST images are grayscale (1 channel), so the first Conv2d takes 1 input channel and outputs 96 feature maps.\n",
        "    nn.ReLU(),\n",
        "# Q: Why use ReLU instead of Tanh (used in LeNet-5)?\n",
        "# A: ReLU (max(0, x)) prevents vanishing gradients, is computationally faster, and promotes sparsity, unlike Tanh.\n",
        "    nn.MaxPool2d(kernel_size=3, stride=2),\n",
        "# Q: How does MaxPool2d differ from AvgPool2d?\n",
        "# A: MaxPool2d takes the maximum value in each region, preserving strong features, while AvgPool2d averages values, smoothing features.\n",
        "    nn.Conv2d(96, 256, kernel_size=5, stride=1, padding=2),\n",
        "# Q: Why increase to 256 channels?\n",
        "# A: Increasing to 256 channels allows the model to learn more complex features from the 96 input feature maps.\n",
        "    nn.ReLU(),\n",
        "# Q: Why apply ReLU after each convolution?\n",
        "# A: ReLU adds nonlinearity after convolution, enabling the model to capture complex patterns.\n",
        "    nn.MaxPool2d(kernel_size=3, stride=2),\n",
        "# Q: How does this pooling affect the image size?\n",
        "# A: MaxPool2d reduces spatial dimensions (e.g., 15x15 to 7x7), saving computation while retaining key features.\n",
        "    nn.Conv2d(256, 384, kernel_size=3, stride=1, padding=1),\n",
        "# Q: Why use a smaller kernel (3x3)?\n",
        "# A: Smaller 3x3 kernels reduce parameters and computation while maintaining expressive power.\n",
        "    nn.ReLU(),\n",
        "# Q: Why is ReLU used again here?\n",
        "# A: ReLU adds nonlinearity, helping the model learn intricate patterns in deeper layers.\n",
        "    nn.Conv2d(384, 384, kernel_size=3, stride=1, padding=1),\n",
        "# Q: Why same number of channels?\n",
        "# A: Keeping 384 channels maintains feature richness while refining patterns with additional convolution.\n",
        "    nn.ReLU(),\n",
        "# Q: Why apply ReLU after this layer?\n",
        "# A: ReLU ensures nonlinearity, allowing the model to learn complex feature combinations.\n",
        "    nn.Conv2d(384, 256, kernel_size=3, stride=1, padding=1),\n",
        "# Q: Why reduce to 256 channels?\n",
        "# A: Reducing to 256 channels decreases computation before the final pooling and dense layers.\n",
        "    nn.ReLU(),\n",
        "# Q: Why use ReLU before pooling?\n",
        "# A: ReLU adds nonlinearity before pooling, ensuring only meaningful features are passed forward.\n",
        "    nn.MaxPool2d(kernel_size=3, stride=2),\n",
        "# Q: What is the output size after this pooling?\n",
        "# A: Pooling reduces 7x7 to 3x3 (256 channels), as kernel=3, stride=2 shrinks dimensions.\n",
        "    nn.Flatten(),\n",
        "# Q: Why flatten the output before fully connected layers?\n",
        "# A: Flatten converts the 3D tensor (256x3x3) to a 1D vector (2304) for input to dense layers.\n",
        "    nn.Linear(256 * 3 * 3, 4096),\n",
        "# Q: Why use 256*3*3=2304 as the input size?\n",
        "# A: The previous layer outputs 256 channels at 3x3, so 256 * 3 * 3 = 2304 is the flattened size.\n",
        "    nn.ReLU(),\n",
        "# Q: Why use ReLU in fully connected layers?\n",
        "# A: ReLU adds nonlinearity in dense layers, helping learn complex relationships.\n",
        "    nn.Dropout(p=0.5),\n",
        "# Q: What does Dropout do during training?\n",
        "# A: Dropout randomly disables 50% of neurons, preventing overfitting by reducing reliance on specific neurons.\n",
        "    nn.Linear(4096, 4096),\n",
        "# Q: Why use such a large fully connected layer?\n",
        "# A: Large layers (4096 units) capture complex patterns, though adapted here for MNIST’s simpler task.\n",
        "    nn.ReLU(),\n",
        "# Q: Why apply ReLU again?\n",
        "# A: ReLU adds nonlinearity, enhancing the model’s ability to learn from dense layer outputs.\n",
        "    nn.Dropout(p=0.5),\n",
        "# Q: Why use Dropout again?\n",
        "# A: Additional Dropout further prevents overfitting in the large second dense layer.\n",
        "    nn.Linear(4096, 10)\n",
        "# Q: Why output 10 values in the final layer?\n",
        "# A: The final layer outputs 10 values, one for each MNIST digit (0–9), representing class scores.\n",
        ").to(device)\n",
        "# Q: Why move the model to the device (CPU/GPU)?\n",
        "# A: Moving to device ensures the model’s computations and weights use GPU if available, for faster processing.\n"
      ],
      "metadata": {
        "id": "cFeZ_20gI3gN"
      },
      "execution_count": 25,
      "outputs": []
    },
    {
      "cell_type": "code",
      "source": [
        "# Define Loss Function\n",
        "# Purpose: Set up the loss function to measure prediction errors during training and testing.\n",
        "criterion = nn.CrossEntropyLoss()\n",
        "# Q: Why is CrossEntropyLoss suitable for classification?\n",
        "# A: CrossEntropyLoss combines log softmax and negative log likelihood, ideal for multi-class classification like MNIST (10 classes)."
      ],
      "metadata": {
        "id": "0MD5Sd07JRtG"
      },
      "execution_count": 26,
      "outputs": []
    },
    {
      "cell_type": "code",
      "source": [
        "# Define Optimizer\n",
        "# Purpose: Configure the optimizer to update model weights during training.\n",
        "optimizer = torch.optim.Adam(model.parameters(), lr=0.001)\n",
        "# Q: Why use the Adam optimizer?\n",
        "# A: Adam adjusts weights using gradients, balancing speed and stability with adaptive learning rates."
      ],
      "metadata": {
        "id": "xoHRv51CJT0_"
      },
      "execution_count": 27,
      "outputs": []
    },
    {
      "cell_type": "code",
      "source": [
        "#Set Number of Epochs\n",
        "# Purpose: Define how many times the model will train on the entire dataset.\n",
        "epochs = 5  # Q: Why train for multiple epochs?\n",
        "# A: Multiple epochs allow the model to see the dataset multiple times, improving learning and accuracy.\n"
      ],
      "metadata": {
        "id": "bt13yV91JVNY"
      },
      "execution_count": 28,
      "outputs": []
    },
    {
      "cell_type": "code",
      "source": [
        "# Initialize Training History\n",
        "# Purpose: Create lists to track performance metrics for analysis and visualization.\n",
        "train_losses = []\n",
        "# Q: Why track training loss over epochs?\n",
        "# A: Tracking training loss shows how well the model fits the training data over time.\n",
        "train_accuracies = []\n",
        "# Q: Why measure accuracy during training?\n",
        "# A: Accuracy measures the percentage of correct predictions, indicating how well the model learns.\n",
        "test_losses = []\n",
        "# Q: Why evaluate loss on the test set?\n",
        "# A: Test loss shows how well the model generalizes to unseen data, detecting overfitting.\n",
        "test_accuracies = []\n",
        "# Q: Why track test accuracy?\n",
        "# A: Test accuracy measures performance on unseen data, ensuring the model generalizes well."
      ],
      "metadata": {
        "id": "sd7GuBBVJW8z"
      },
      "execution_count": 29,
      "outputs": []
    },
    {
      "cell_type": "code",
      "source": [
        "# Training Loop (Forward and Backward Propagation)\n",
        "# Purpose: Train the model by processing batches of data, computing predictions (forward), and updating weights (backward).\n",
        "for epoch in range(epochs):\n",
        "# Q: Why loop over multiple epochs?\n",
        "# A: Looping over epochs lets the model learn from the entire dataset multiple times, refining weights.\n",
        "    model.train()\n",
        "# Q: What does model.train() do to the model?\n",
        "# A: model.train() sets the model to training mode, enabling Dropout and gradient updates.\n",
        "    running_loss = 0.0\n",
        "# Q: Why initialize a running loss for each epoch?\n",
        "# A: Running loss accumulates batch losses to compute the average loss for the epoch.\n",
        "    correct = 0\n",
        "# Q: Why track correct predictions?\n",
        "# A: Counting correct predictions helps calculate training accuracy for the epoch.\n",
        "    total = 0\n",
        "# Q: Why count the total number of samples?\n",
        "# A: Total tracks the number of samples processed to compute average loss and accuracy.\n",
        "    for images, labels in train_loader:\n",
        "# Q: What does train_loader provide in each iteration?\n",
        "# A: train_loader provides batches of images (tensors) and their corresponding labels.\n",
        "        images = images.to(device)\n",
        "# Q: Why move images to the device?\n",
        "# A: Images are moved to GPU/CPU to match the model’s device for computation.\n",
        "        labels = labels.to(device)\n",
        "# Q: Why move labels to the device?\n",
        "# A: Labels are moved to compute the loss on the same device as the model.\n",
        "        optimizer.zero_grad()\n",
        "# Q: Why reset gradients before each batch?\n",
        "# A: Zeroing gradients prevents accumulation from previous batches, ensuring correct updates.\n",
        "\n",
        "# Forward Propagation Starts Here\n",
        "        # Purpose: Pass images through the model to generate predictions.\n",
        "        outputs = model(images)\n",
        "        # Q: What does the model output for each batch?\n",
        "        # A: The model outputs a tensor of shape (batch_size, 10), with scores for each digit class.\n",
        "        loss = criterion(outputs, labels)\n",
        "        # Q: How does CrossEntropyLoss compute the loss?\n",
        "        # A: CrossEntropyLoss compares output scores to true labels, computing the prediction error.\n",
        "        # Backward Propagation Starts Here\n",
        "        # Purpose: Compute gradients and update model weights to reduce prediction errors.\n",
        "        loss.backward()\n",
        "        # Q: What does backward() do to compute gradients?\n",
        "        # A: backward() computes gradients of the loss with respect to model parameters.\n",
        "        optimizer.step()\n",
        "        # Q: How does the optimizer update model weights?\n",
        "        # A: The optimizer adjusts weights using gradients to minimize the loss.\n",
        "        running_loss += loss.item() * images.size(0)\n",
        "        # Q: Why multiply loss by batch size?\n",
        "        # A: Multiplying by batch size weights the loss by the number of samples, for accurate averaging.\n",
        "        _, predicted = torch.max(outputs, 1)\n",
        "        # Q: How do we get class predictions?\n",
        "        # A: torch.max(outputs, 1) finds the index (class) with the highest score for each image.\n",
        "        total += labels.size(0)\n",
        "        # Q: Why add batch size to total?\n",
        "        # A: Adding batch size updates the total number of samples processed in the epoch.\n",
        "        correct += (predicted == labels).sum().item()\n",
        "        # Q: How do we count correct predictions?\n",
        "        # A: Comparing predicted and true labels, we count matches and sum them for the epoch.\n",
        "    epoch_loss = running_loss / len(train_dataset)\n",
        "    # Q: Why divide by dataset size?\n",
        "    # A: Dividing by dataset size gives the average loss per sample for the epoch.\n",
        "    epoch_acc = correct / len(train_dataset)\n",
        "    # Q: Why calculate accuracy this way?\n",
        "    # A: Dividing correct predictions by total samples gives the fraction of correct predictions (accuracy).\n",
        "    train_losses.append(epoch_loss)\n",
        "    # Q: Why store the epoch loss?\n",
        "    # A: Storing epoch loss tracks training progress for analysis and plotting.\n",
        "    train_accuracies.append(epoch_acc)\n",
        "    # Q: Why store the epoch accuracy?\n",
        "    # A: Storing accuracy helps visualize how the model’s performance improves over epochs.\n",
        "\n",
        "# Validation (Testing) Starts Here\n",
        "    # Purpose: Evaluate the model’s performance on the test dataset without updating weights.\n",
        "    model.eval()\n",
        "    # Q: What does model.eval() do?\n",
        "    # A: model.eval() sets the model to evaluation mode, disabling Dropout for consistent predictions.\n",
        "    test_loss = 0.0\n",
        "    # Q: Why track test loss separately?\n",
        "    # A: Test loss is tracked to evaluate the model’s performance on unseen data.\n",
        "    test_correct = 0\n",
        "    # Q: Why count correct test predictions?\n",
        "    # A: Counting correct test predictions helps compute test accuracy.\n",
        "    test_total = 0\n",
        "    # Q: Why track total test samples?\n",
        "    # A: Total test samples are tracked to calculate average test loss and accuracy.\n",
        "    with torch.no_grad():\n",
        "    # Q: Why disable gradients during testing?\n",
        "    # A: Disabling gradients saves memory and speeds up evaluation, as we don’t update weights.\n",
        "        for images, labels in test_loader:\n",
        "        # Q: Why iterate over test_loader?\n",
        "        # A: test_loader provides batches of test images and labels for evaluation.\n",
        "            images = images.to(device)\n",
        "            # Q: Why move test images to the device?\n",
        "            # A: Test images are moved to the model’s device for consistent computation.\n",
        "            labels = labels.to(device)\n",
        "            # Q: Why move test labels to the device?\n",
        "            # A: Test labels are moved to compute the loss on the same device as the model.\n",
        "# Forward Propagation for Validation\n",
        "            # Purpose: Pass test images through the model to compute predictions and evaluate performance.\n",
        "            outputs = model(images)\n",
        "            # Q: What does the model output for test data?\n",
        "            # A: The model outputs class scores for each test image, shape (batch_size, 10).\n",
        "            loss = criterion(outputs, labels)\n",
        "            # Q: Why compute loss for test data?\n",
        "            # A: Test loss measures how well the model predicts on unseen data.\n",
        "            test_loss += loss.item() * images.size(0)\n",
        "            # Q: Why accumulate test loss?\n",
        "            # A: Accumulating weighted loss allows computing the average test loss for the epoch.\n",
        "            _, predicted = torch.max(outputs, 1)\n",
        "            # Q: How do we get test predictions?\n",
        "            # A: torch.max finds the predicted class (highest score) for each test image.\n",
        "            test_total += labels.size(0)\n",
        "            # Q: Why update total test samples?\n",
        "            # A: Total test samples are updated to compute average loss and accuracy.\n",
        "            test_correct += (predicted == labels).sum().item()\n",
        "            # Q: Why count correct test predictions?\n",
        "            # A: Counting correct predictions helps compute test accuracy.\n",
        "    test_loss = test_loss / len(test_dataset)\n",
        "    # Q: Why average the test loss?\n",
        "    # A: Averaging gives the per-sample test loss, making it comparable across datasets.\n",
        "    test_acc = test_correct / len(test_dataset)\n",
        "    # Q: Why calculate test accuracy?\n",
        "    # A: Test accuracy shows the model’s performance on unseen data, indicating generalization.\n",
        "    test_losses.append(test_loss)\n",
        "    # Q: Why store test loss?\n",
        "    # A: Storing test loss tracks evaluation performance for analysis and plotting.\n",
        "    test_accuracies.append(test_acc)\n",
        "    # Q: Why store test accuracy?\n",
        "    # A: Storing test accuracy helps visualize generalization performance over epochs.\n",
        "\n",
        "    # Print Epoch Results\n",
        "    # Purpose: Display training and test metrics to monitor progress.\n",
        "    print(f\"Epoch {epoch+1}: Train Loss {epoch_loss:.4f}, Train Acc {epoch_acc:.4f}, Test Loss {test_loss:.4f}, Test Acc {test_acc:.4f}\")\n",
        "    # Q: Why print results after each epoch?\n",
        "    # A: Printing results monitors training progress, helping identify issues like overfitting or slow learning."
      ],
      "metadata": {
        "colab": {
          "base_uri": "https://localhost:8080/"
        },
        "id": "tLS_9e3aJZIv",
        "outputId": "779668a2-f451-4b66-e245-271c5be4bd2c"
      },
      "execution_count": 30,
      "outputs": [
        {
          "output_type": "stream",
          "name": "stdout",
          "text": [
            "Epoch 1: Train Loss 0.4007, Train Acc 0.8638, Test Loss 0.0739, Test Acc 0.9789\n",
            "Epoch 2: Train Loss 0.0760, Train Acc 0.9781, Test Loss 0.0484, Test Acc 0.9857\n",
            "Epoch 3: Train Loss 0.0585, Train Acc 0.9836, Test Loss 0.0435, Test Acc 0.9858\n",
            "Epoch 4: Train Loss 0.0529, Train Acc 0.9851, Test Loss 0.0391, Test Acc 0.9887\n",
            "Epoch 5: Train Loss 0.0464, Train Acc 0.9873, Test Loss 0.0462, Test Acc 0.9866\n"
          ]
        }
      ]
    },
    {
      "cell_type": "code",
      "source": [
        "# Plot Training and Test Accuracy\n",
        "# Purpose: Visualize how accuracy improves over epochs for training and test datasets.\n",
        "plt.figure()\n",
        "# Q: Why create a new figure for plotting?\n",
        "# A: A new figure ensures a clean canvas for the accuracy plot, avoiding overlap with other plots.\n",
        "plt.plot(range(1, epochs+1), train_accuracies, label=\"Train Accuracy\")\n",
        "# Q: What does this line plot?\n",
        "# A: This plots training accuracy for each epoch, showing how well the model learns the training data.\n",
        "plt.plot(range(1, epochs+1), test_accuracies, label=\"Test Accuracy\")\n",
        "# Q: Why plot test accuracy?\n",
        "# A: Plotting test accuracy shows how well the model generalizes to unseen data over epochs.\n",
        "plt.xlabel(\"Epoch\")\n",
        "# Q: Why label the x-axis?\n",
        "# A: Labeling the x-axis as “Epoch” indicates the training iteration number for clarity.\n",
        "plt.ylabel(\"Accuracy\")\n",
        "# Q: Why label the y-axis?\n",
        "# A: Labeling the y-axis as “Accuracy” shows the metric being plotted (fraction of correct predictions).\n",
        "plt.title(\"AlexNet Accuracy on MNIST\")\n",
        "# Q: Why set a title for the plot?\n",
        "# A: The title identifies the plot’s purpose, showing it’s for AlexNet’s accuracy on MNIST.\n",
        "plt.legend()  # Q: What does the legend show?\n",
        "# A: The legend distinguishes between training and test accuracy lines for easy interpretation.\n",
        "plt.savefig(\"accuracy.png\")\n",
        "# Q: Why save the plot to a file?\n",
        "# A: Saving the plot allows you to keep a record or share the visualization later.\n",
        "plt.show()\n",
        "# Q: Why display the plot?\n",
        "# A: Displaying the plot lets you visually analyze the model’s performance immediately."
      ],
      "metadata": {
        "colab": {
          "base_uri": "https://localhost:8080/",
          "height": 472
        },
        "id": "xhuA-ffVJvaV",
        "outputId": "0551b10f-6938-4d6d-a5ec-5677e7e699b3"
      },
      "execution_count": 31,
      "outputs": [
        {
          "output_type": "display_data",
          "data": {
            "text/plain": [
              "<Figure size 640x480 with 1 Axes>"
            ],
            "image/png": "[encoded data removed]"
          },
          "metadata": {}
        }
      ]
    },
    {
      "cell_type": "code",
      "source": [
        "# Plot Training and Test Loss\n",
        "# Purpose: Visualize how loss decreases over epochs for training and test datasets.\n",
        "plt.figure()\n",
        "# Q: Why create another figure?\n",
        "# A: A new figure ensures a clean canvas for the loss plot, avoiding overlap with the accuracy plot.\n",
        "plt.plot(range(1, epochs+1), train_losses, label=\"Train Loss\")\n",
        "# Q: What does this line plot?\n",
        "# A: This plots training loss for each epoch, showing how the model’s error decreases.\n",
        "plt.plot(range(1, epochs+1), test_losses, label=\"Test Loss\")\n",
        "# Q: Why plot test loss?\n",
        "# A: Plotting test loss shows how the model’s error on unseen data changes, indicating generalization.\n",
        "plt.xlabel(\"Epoch\")\n",
        "# Q: Why label the x-axis again?\n",
        "# A: Labeling the x-axis as “Epoch” clarifies the training iteration for the loss plot.\n",
        "plt.ylabel(\"Loss\")\n",
        "# Q: Why label the y-axis as Loss?\n",
        "# A: Labeling the y-axis as “Loss” indicates the metric being plotted (prediction error).\n",
        "plt.title(\"AlexNet Loss on MNIST\")\n",
        "# Q: Why set a title for this plot?\n",
        "# A: The title specifies that the plot shows AlexNet’s loss on MNIST, for clarity.\n",
        "plt.legend()\n",
        "# Q: Why include a legend here?\n",
        "# A: The legend distinguishes between training and test loss lines for easy interpretation.\n",
        "plt.savefig(\"loss.png\")\n",
        "# Q: Why save this plot?\n",
        "# A: Saving the plot preserves the loss visualization for later reference or sharing.\n",
        "plt.show()\n",
        "# Q: Why display this plot?\n",
        "# A: Displaying the plot allows immediate visual analysis of the model’s error trends."
      ],
      "metadata": {
        "colab": {
          "base_uri": "https://localhost:8080/",
          "height": 472
        },
        "id": "lGiav0ghKiI4",
        "outputId": "932bad5f-96aa-41c3-a65e-facb01002f5a"
      },
      "execution_count": 32,
      "outputs": [
        {
          "output_type": "display_data",
          "data": {
            "text/plain": [
              "<Figure size 640x480 with 1 Axes>"
            ],
            "image/png": "[encoded data removed]"
          },
          "metadata": {}
        }
      ]
    },
    {
      "cell_type": "code",
      "source": [
        "# Save Model\n",
        "# Purpose: Store the trained model weights for future use.\n",
        "torch.save(model.state_dict(), \"alexnet_weights.pth\")\n",
        "# Q: Why save the model weights?\n",
        "# A: Saving weights allows reloading the trained model for inference or further training."
      ],
      "metadata": {
        "id": "PwAPpr5SKl1O"
      },
      "execution_count": null,
      "outputs": []
    },
    {
      "cell_type": "code",
      "source": [
        "# Prediction on New Data (Example)\n",
        "# Purpose: Demonstrate how to use the trained model to predict on a single new image.\n",
        "# Note: This is an example to show prediction; actual new data would require loading a specific image.\n",
        "model.eval()  # Set model to evaluation mode for prediction\n",
        "with torch.no_grad():  # Disable gradients for prediction to save memory\n",
        "    sample_image, sample_label = next(iter(test_loader))  # Get one batch from test_loader\n",
        "    sample_image = sample_image[0:1].to(device)  # Take one image and move to device\n",
        "    # Forward Propagation for Prediction\n",
        "    # Purpose: Pass a single image through the model to predict its class.\n",
        "    output = model(sample_image)  # Compute prediction scores\n",
        "    _, predicted = torch.max(output, 1)  # Get predicted class\n",
        "    print(f\"Predicted class for sample image: {predicted.item()}\")  # Display prediction"
      ],
      "metadata": {
        "colab": {
          "base_uri": "https://localhost:8080/"
        },
        "id": "-g7ffkSUKocb",
        "outputId": "0b48a217-9cd0-4f7e-d4dd-39d0aa242d3e"
      },
      "execution_count": 33,
      "outputs": [
        {
          "output_type": "stream",
          "name": "stdout",
          "text": [
            "Predicted class for sample image: 7\n"
          ]
        }
      ]
    },
    {
      "cell_type": "code",
      "source": [
        "sample_image"
      ],
      "metadata": {
        "colab": {
          "base_uri": "https://localhost:8080/"
        },
        "id": "t-1KvO9_K-Jv",
        "outputId": "2c856635-0367-48dc-eb3c-bb876b467fdb"
      },
      "execution_count": 35,
      "outputs": [
        {
          "output_type": "execute_result",
          "data": {
            "text/plain": [
              "tensor([[[[-0.4242, -0.4242, -0.4242,  ..., -0.4242, -0.4242, -0.4242],\n",
              "          [-0.4242, -0.4242, -0.4242,  ..., -0.4242, -0.4242, -0.4242],\n",
              "          [-0.4242, -0.4242, -0.4242,  ..., -0.4242, -0.4242, -0.4242],\n",
              "          ...,\n",
              "          [-0.4242, -0.4242, -0.4242,  ..., -0.4242, -0.4242, -0.4242],\n",
              "          [-0.4242, -0.4242, -0.4242,  ..., -0.4242, -0.4242, -0.4242],\n",
              "          [-0.4242, -0.4242, -0.4242,  ..., -0.4242, -0.4242, -0.4242]]]],\n",
              "       device='cuda:0')"
            ]
          },
          "metadata": {},
          "execution_count": 35
        }
      ]
    },
    {
      "cell_type": "code",
      "source": [
        "# Prediction on New Data with Image Display\n",
        "model.eval()\n",
        "with torch.no_grad():\n",
        "    sample_image, sample_label = next(iter(test_loader))\n",
        "    sample_image = sample_image[0:1].to(device)\n",
        "\n",
        "    # Prediction\n",
        "    output = model(sample_image)\n",
        "    _, predicted = torch.max(output, 1)\n",
        "\n",
        "    # Display image\n",
        "    img_show = sample_image.cpu().squeeze(0)\n",
        "    img_show = (img_show - img_show.min()) / (img_show.max() - img_show.min())\n",
        "\n",
        "    plt.figure(figsize=(6, 6))\n",
        "    if img_show.shape[0] == 1:  # Grayscale\n",
        "        plt.imshow(img_show.squeeze(), cmap='gray')\n",
        "    else:  # RGB\n",
        "        plt.imshow(img_show.permute(1, 2, 0))\n",
        "\n",
        "    plt.title(f'Predicted: {predicted.item()}, Actual: {sample_label[0].item()}')\n",
        "    plt.axis('off')\n",
        "    plt.show()\n",
        "\n",
        "    print(f\"Predicted class: {predicted.item()}\")\n"
      ],
      "metadata": {
        "colab": {
          "base_uri": "https://localhost:8080/",
          "height": 538
        },
        "id": "1R_DvmYDLpC1",
        "outputId": "65a0a16f-4ed8-4c06-8a54-e0629cdb97ea"
      },
      "execution_count": 40,
      "outputs": [
        {
          "output_type": "display_data",
          "data": {
            "text/plain": [
              "<Figure size 600x600 with 1 Axes>"
            ],
            "image/png": "[encoded data removed]"
          },
          "metadata": {}
        },
        {
          "output_type": "stream",
          "name": "stdout",
          "text": [
            "Predicted class: 7\n"
          ]
        }
      ]
    },
    {
      "cell_type": "code",
      "source": [],
      "metadata": {
        "id": "AzSLjPYvMIbY"
      },
      "execution_count": null,
      "outputs": []
    }
  ]
}