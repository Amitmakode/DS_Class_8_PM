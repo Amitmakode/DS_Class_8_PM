{
 "cells": [
  {
   "cell_type": "code",
   "execution_count": 1,
   "id": "66f6bdff-7797-4475-87f0-782bbca95a44",
   "metadata": {},
   "outputs": [],
   "source": [
    "import numpy as np\n",
    "import pandas as pd\n",
    "import matplotlib.pyplot as plt\n",
    "import seaborn as sns\n",
    "from sklearn.datasets import load_wine\n",
    "from sklearn.model_selection import train_test_split, cross_val_score, GridSearchCV\n",
    "from sklearn.neighbors import KNeighborsClassifier\n",
    "from sklearn.preprocessing import StandardScaler\n",
    "from sklearn.metrics import accuracy_score, classification_report\n",
    "import joblib\n",
    "import warnings\n",
    "warnings.filterwarnings('ignore')"
   ]
  },
  {
   "cell_type": "code",
   "execution_count": 2,
   "id": "da9366ad-1c8e-4010-8b89-073ecca2758c",
   "metadata": {},
   "outputs": [
    {
     "name": "stdout",
     "output_type": "stream",
     "text": [
      "==================================================\n",
      "K-NN CLASSIFIER - SUPER SIMPLE FOR BEGINNERS\n",
      "==================================================\n",
      "\n",
      "1. LOADING DATA\n",
      "--------------------\n",
      "Dataset has 178 wines and 13 features\n",
      "Classes: ['class_0' 'class_1' 'class_2']\n",
      "Features: ['alcohol', 'malic_acid', 'ash', 'alcalinity_of_ash', 'magnesium', 'total_phenols', 'flavanoids', 'nonflavanoid_phenols', 'proanthocyanins', 'color_intensity', 'hue', 'od280/od315_of_diluted_wines', 'proline']\n"
     ]
    }
   ],
   "source": [
    "# Set a random seed for consistent results\n",
    "RANDOM_STATE = 42\n",
    "\n",
    "print(\"=\" * 50)\n",
    "print(\"K-NN CLASSIFIER - SUPER SIMPLE FOR BEGINNERS\")\n",
    "print(\"=\" * 50)\n",
    "\n",
    "# Step 1: Load Data\n",
    "# What: Load the Wine dataset\n",
    "# Why: We need data to predict wine classes (0, 1, or 2)\n",
    "# How: Use sklearn's load_wine dataset\n",
    "print(\"\\n1. LOADING DATA\")\n",
    "print(\"-\" * 20)\n",
    "\n",
    "wine_data = load_wine()\n",
    "X = pd.DataFrame(wine_data.data, columns=wine_data.feature_names)\n",
    "y = pd.Series(wine_data.target, name='Class')\n",
    "\n",
    "print(f\"Dataset has {X.shape[0]} wines and {X.shape[1]} features\")\n",
    "print(f\"Classes: {wine_data.target_names}\")\n",
    "print(f\"Features: {list(X.columns)}\")"
   ]
  },
  {
   "cell_type": "code",
   "execution_count": 3,
   "id": "47976089-ff4f-4265-a2bf-99176e96e499",
   "metadata": {},
   "outputs": [
    {
     "data": {
      "text/html": [
       "<div>\n",
       "<style scoped>\n",
       "    .dataframe tbody tr th:only-of-type {\n",
       "        vertical-align: middle;\n",
       "    }\n",
       "\n",
       "    .dataframe tbody tr th {\n",
       "        vertical-align: top;\n",
       "    }\n",
       "\n",
       "    .dataframe thead th {\n",
       "        text-align: right;\n",
       "    }\n",
       "</style>\n",
       "<table border=\"1\" class=\"dataframe\">\n",
       "  <thead>\n",
       "    <tr style=\"text-align: right;\">\n",
       "      <th></th>\n",
       "      <th>alcohol</th>\n",
       "      <th>malic_acid</th>\n",
       "      <th>ash</th>\n",
       "      <th>alcalinity_of_ash</th>\n",
       "      <th>magnesium</th>\n",
       "      <th>total_phenols</th>\n",
       "      <th>flavanoids</th>\n",
       "      <th>nonflavanoid_phenols</th>\n",
       "      <th>proanthocyanins</th>\n",
       "      <th>color_intensity</th>\n",
       "      <th>hue</th>\n",
       "      <th>od280/od315_of_diluted_wines</th>\n",
       "      <th>proline</th>\n",
       "    </tr>\n",
       "  </thead>\n",
       "  <tbody>\n",
       "    <tr>\n",
       "      <th>0</th>\n",
       "      <td>14.23</td>\n",
       "      <td>1.71</td>\n",
       "      <td>2.43</td>\n",
       "      <td>15.6</td>\n",
       "      <td>127.0</td>\n",
       "      <td>2.80</td>\n",
       "      <td>3.06</td>\n",
       "      <td>0.28</td>\n",
       "      <td>2.29</td>\n",
       "      <td>5.64</td>\n",
       "      <td>1.04</td>\n",
       "      <td>3.92</td>\n",
       "      <td>1065.0</td>\n",
       "    </tr>\n",
       "    <tr>\n",
       "      <th>1</th>\n",
       "      <td>13.20</td>\n",
       "      <td>1.78</td>\n",
       "      <td>2.14</td>\n",
       "      <td>11.2</td>\n",
       "      <td>100.0</td>\n",
       "      <td>2.65</td>\n",
       "      <td>2.76</td>\n",
       "      <td>0.26</td>\n",
       "      <td>1.28</td>\n",
       "      <td>4.38</td>\n",
       "      <td>1.05</td>\n",
       "      <td>3.40</td>\n",
       "      <td>1050.0</td>\n",
       "    </tr>\n",
       "    <tr>\n",
       "      <th>2</th>\n",
       "      <td>13.16</td>\n",
       "      <td>2.36</td>\n",
       "      <td>2.67</td>\n",
       "      <td>18.6</td>\n",
       "      <td>101.0</td>\n",
       "      <td>2.80</td>\n",
       "      <td>3.24</td>\n",
       "      <td>0.30</td>\n",
       "      <td>2.81</td>\n",
       "      <td>5.68</td>\n",
       "      <td>1.03</td>\n",
       "      <td>3.17</td>\n",
       "      <td>1185.0</td>\n",
       "    </tr>\n",
       "    <tr>\n",
       "      <th>3</th>\n",
       "      <td>14.37</td>\n",
       "      <td>1.95</td>\n",
       "      <td>2.50</td>\n",
       "      <td>16.8</td>\n",
       "      <td>113.0</td>\n",
       "      <td>3.85</td>\n",
       "      <td>3.49</td>\n",
       "      <td>0.24</td>\n",
       "      <td>2.18</td>\n",
       "      <td>7.80</td>\n",
       "      <td>0.86</td>\n",
       "      <td>3.45</td>\n",
       "      <td>1480.0</td>\n",
       "    </tr>\n",
       "    <tr>\n",
       "      <th>4</th>\n",
       "      <td>13.24</td>\n",
       "      <td>2.59</td>\n",
       "      <td>2.87</td>\n",
       "      <td>21.0</td>\n",
       "      <td>118.0</td>\n",
       "      <td>2.80</td>\n",
       "      <td>2.69</td>\n",
       "      <td>0.39</td>\n",
       "      <td>1.82</td>\n",
       "      <td>4.32</td>\n",
       "      <td>1.04</td>\n",
       "      <td>2.93</td>\n",
       "      <td>735.0</td>\n",
       "    </tr>\n",
       "    <tr>\n",
       "      <th>...</th>\n",
       "      <td>...</td>\n",
       "      <td>...</td>\n",
       "      <td>...</td>\n",
       "      <td>...</td>\n",
       "      <td>...</td>\n",
       "      <td>...</td>\n",
       "      <td>...</td>\n",
       "      <td>...</td>\n",
       "      <td>...</td>\n",
       "      <td>...</td>\n",
       "      <td>...</td>\n",
       "      <td>...</td>\n",
       "      <td>...</td>\n",
       "    </tr>\n",
       "    <tr>\n",
       "      <th>173</th>\n",
       "      <td>13.71</td>\n",
       "      <td>5.65</td>\n",
       "      <td>2.45</td>\n",
       "      <td>20.5</td>\n",
       "      <td>95.0</td>\n",
       "      <td>1.68</td>\n",
       "      <td>0.61</td>\n",
       "      <td>0.52</td>\n",
       "      <td>1.06</td>\n",
       "      <td>7.70</td>\n",
       "      <td>0.64</td>\n",
       "      <td>1.74</td>\n",
       "      <td>740.0</td>\n",
       "    </tr>\n",
       "    <tr>\n",
       "      <th>174</th>\n",
       "      <td>13.40</td>\n",
       "      <td>3.91</td>\n",
       "      <td>2.48</td>\n",
       "      <td>23.0</td>\n",
       "      <td>102.0</td>\n",
       "      <td>1.80</td>\n",
       "      <td>0.75</td>\n",
       "      <td>0.43</td>\n",
       "      <td>1.41</td>\n",
       "      <td>7.30</td>\n",
       "      <td>0.70</td>\n",
       "      <td>1.56</td>\n",
       "      <td>750.0</td>\n",
       "    </tr>\n",
       "    <tr>\n",
       "      <th>175</th>\n",
       "      <td>13.27</td>\n",
       "      <td>4.28</td>\n",
       "      <td>2.26</td>\n",
       "      <td>20.0</td>\n",
       "      <td>120.0</td>\n",
       "      <td>1.59</td>\n",
       "      <td>0.69</td>\n",
       "      <td>0.43</td>\n",
       "      <td>1.35</td>\n",
       "      <td>10.20</td>\n",
       "      <td>0.59</td>\n",
       "      <td>1.56</td>\n",
       "      <td>835.0</td>\n",
       "    </tr>\n",
       "    <tr>\n",
       "      <th>176</th>\n",
       "      <td>13.17</td>\n",
       "      <td>2.59</td>\n",
       "      <td>2.37</td>\n",
       "      <td>20.0</td>\n",
       "      <td>120.0</td>\n",
       "      <td>1.65</td>\n",
       "      <td>0.68</td>\n",
       "      <td>0.53</td>\n",
       "      <td>1.46</td>\n",
       "      <td>9.30</td>\n",
       "      <td>0.60</td>\n",
       "      <td>1.62</td>\n",
       "      <td>840.0</td>\n",
       "    </tr>\n",
       "    <tr>\n",
       "      <th>177</th>\n",
       "      <td>14.13</td>\n",
       "      <td>4.10</td>\n",
       "      <td>2.74</td>\n",
       "      <td>24.5</td>\n",
       "      <td>96.0</td>\n",
       "      <td>2.05</td>\n",
       "      <td>0.76</td>\n",
       "      <td>0.56</td>\n",
       "      <td>1.35</td>\n",
       "      <td>9.20</td>\n",
       "      <td>0.61</td>\n",
       "      <td>1.60</td>\n",
       "      <td>560.0</td>\n",
       "    </tr>\n",
       "  </tbody>\n",
       "</table>\n",
       "<p>178 rows × 13 columns</p>\n",
       "</div>"
      ],
      "text/plain": [
       "     alcohol  malic_acid   ash  alcalinity_of_ash  magnesium  total_phenols  \\\n",
       "0      14.23        1.71  2.43               15.6      127.0           2.80   \n",
       "1      13.20        1.78  2.14               11.2      100.0           2.65   \n",
       "2      13.16        2.36  2.67               18.6      101.0           2.80   \n",
       "3      14.37        1.95  2.50               16.8      113.0           3.85   \n",
       "4      13.24        2.59  2.87               21.0      118.0           2.80   \n",
       "..       ...         ...   ...                ...        ...            ...   \n",
       "173    13.71        5.65  2.45               20.5       95.0           1.68   \n",
       "174    13.40        3.91  2.48               23.0      102.0           1.80   \n",
       "175    13.27        4.28  2.26               20.0      120.0           1.59   \n",
       "176    13.17        2.59  2.37               20.0      120.0           1.65   \n",
       "177    14.13        4.10  2.74               24.5       96.0           2.05   \n",
       "\n",
       "     flavanoids  nonflavanoid_phenols  proanthocyanins  color_intensity   hue  \\\n",
       "0          3.06                  0.28             2.29             5.64  1.04   \n",
       "1          2.76                  0.26             1.28             4.38  1.05   \n",
       "2          3.24                  0.30             2.81             5.68  1.03   \n",
       "3          3.49                  0.24             2.18             7.80  0.86   \n",
       "4          2.69                  0.39             1.82             4.32  1.04   \n",
       "..          ...                   ...              ...              ...   ...   \n",
       "173        0.61                  0.52             1.06             7.70  0.64   \n",
       "174        0.75                  0.43             1.41             7.30  0.70   \n",
       "175        0.69                  0.43             1.35            10.20  0.59   \n",
       "176        0.68                  0.53             1.46             9.30  0.60   \n",
       "177        0.76                  0.56             1.35             9.20  0.61   \n",
       "\n",
       "     od280/od315_of_diluted_wines  proline  \n",
       "0                            3.92   1065.0  \n",
       "1                            3.40   1050.0  \n",
       "2                            3.17   1185.0  \n",
       "3                            3.45   1480.0  \n",
       "4                            2.93    735.0  \n",
       "..                            ...      ...  \n",
       "173                          1.74    740.0  \n",
       "174                          1.56    750.0  \n",
       "175                          1.56    835.0  \n",
       "176                          1.62    840.0  \n",
       "177                          1.60    560.0  \n",
       "\n",
       "[178 rows x 13 columns]"
      ]
     },
     "execution_count": 3,
     "metadata": {},
     "output_type": "execute_result"
    }
   ],
   "source": [
    "X"
   ]
  },
  {
   "cell_type": "code",
   "execution_count": 4,
   "id": "eb2f7adb-7ba4-4adf-a2ed-a418a55d4cb1",
   "metadata": {},
   "outputs": [
    {
     "data": {
      "text/plain": [
       "0      0\n",
       "1      0\n",
       "2      0\n",
       "3      0\n",
       "4      0\n",
       "      ..\n",
       "173    2\n",
       "174    2\n",
       "175    2\n",
       "176    2\n",
       "177    2\n",
       "Name: Class, Length: 178, dtype: int32"
      ]
     },
     "execution_count": 4,
     "metadata": {},
     "output_type": "execute_result"
    }
   ],
   "source": [
    "y"
   ]
  },
  {
   "cell_type": "code",
   "execution_count": 5,
   "id": "c1335ed7-435d-46d5-a284-fa8ff4e72be4",
   "metadata": {},
   "outputs": [
    {
     "data": {
      "text/plain": [
       "Class\n",
       "1    71\n",
       "0    59\n",
       "2    48\n",
       "Name: count, dtype: int64"
      ]
     },
     "execution_count": 5,
     "metadata": {},
     "output_type": "execute_result"
    }
   ],
   "source": [
    "y.value_counts()"
   ]
  },
  {
   "cell_type": "code",
   "execution_count": 6,
   "id": "9f5b296d-743a-4cbf-97bb-d6159240db0a",
   "metadata": {},
   "outputs": [
    {
     "name": "stdout",
     "output_type": "stream",
     "text": [
      "\n",
      "2. PREPROCESSING DATA\n",
      "--------------------\n",
      "Checking for missing values:\n",
      "0 missing values found\n",
      "All features are numbers - ready to go!\n"
     ]
    }
   ],
   "source": [
    "# Step 2: Preprocess Data\n",
    "# What: Check the data for problems\n",
    "# Why: Clean data makes better predictions\n",
    "# How: Check for missing values and confirm numbers\n",
    "print(\"\\n2. PREPROCESSING DATA\")\n",
    "print(\"-\" * 20)\n",
    "\n",
    "print(\"Checking for missing values:\")\n",
    "print(X.isnull().sum().sum(), \"missing values found\")\n",
    "print(\"All features are numbers - ready to go!\")"
   ]
  },
  {
   "cell_type": "code",
   "execution_count": 7,
   "id": "60e8e28b-4df4-442d-a106-8e60bc11586b",
   "metadata": {},
   "outputs": [
    {
     "name": "stdout",
     "output_type": "stream",
     "text": [
      "\n",
      "3. EXPLORATORY DATA ANALYSIS\n",
      "--------------------\n"
     ]
    },
    {
     "data": {
      "image/png": "[encoded data removed]",
      "text/plain": [
       "<Figure size 600x400 with 1 Axes>"
      ]
     },
     "metadata": {},
     "output_type": "display_data"
    },
    {
     "name": "stdout",
     "output_type": "stream",
     "text": [
      "Saved class counts as 'class_distribution.png'\n"
     ]
    },
    {
     "data": {
      "image/png": "[encoded data removed]",
      "text/plain": [
       "<Figure size 600x400 with 1 Axes>"
      ]
     },
     "metadata": {},
     "output_type": "display_data"
    },
    {
     "name": "stdout",
     "output_type": "stream",
     "text": [
      "Saved alcohol plot as 'alcohol_by_class.png'\n"
     ]
    }
   ],
   "source": [
    "# Step 3: Exploratory Data Analysis (EDA)\n",
    "# What: Look at the data with simple plots\n",
    "# Why: See how features relate to wine classes\n",
    "# How: Plot class counts and a key feature\n",
    "print(\"\\n3. EXPLORATORY DATA ANALYSIS\")\n",
    "print(\"-\" * 20)\n",
    "\n",
    "# Class distribution\n",
    "plt.figure(figsize=(6, 4))\n",
    "sns.countplot(x=y)\n",
    "plt.title('Wine Class Counts')\n",
    "plt.xlabel('Class (0, 1, 2)')\n",
    "plt.ylabel('Number of Wines')\n",
    "plt.savefig('class_distribution.png')\n",
    "plt.show()\n",
    "print(\"Saved class counts as 'class_distribution.png'\")\n",
    "\n",
    "# Plot alcohol vs class\n",
    "plt.figure(figsize=(6, 4))\n",
    "sns.boxplot(x=y, y=X['alcohol'])\n",
    "plt.title('Alcohol Content by Wine Class')\n",
    "plt.xlabel('Class')\n",
    "plt.ylabel('Alcohol')\n",
    "plt.savefig('alcohol_by_class.png')\n",
    "plt.show()\n",
    "print(\"Saved alcohol plot as 'alcohol_by_class.png'\")"
   ]
  },
  {
   "cell_type": "code",
   "execution_count": 8,
   "id": "e64c1627-8ab1-41a4-ba2c-52a780068cfd",
   "metadata": {},
   "outputs": [
    {
     "name": "stdout",
     "output_type": "stream",
     "text": [
      "\n",
      "4. DATA TRANSFORMATION\n",
      "--------------------\n",
      "Scaled all features\n"
     ]
    }
   ],
   "source": [
    "# Step 4: Transform Data\n",
    "# What: Scale features to same range\n",
    "# Why: k-NN uses distances, so scales must match\n",
    "# How: Use StandardScaler\n",
    "print(\"\\n4. DATA TRANSFORMATION\")\n",
    "print(\"-\" * 20)\n",
    "\n",
    "scaler = StandardScaler()\n",
    "X_scaled = scaler.fit_transform(X)\n",
    "print(\"Scaled all features\")"
   ]
  },
  {
   "cell_type": "code",
   "execution_count": 9,
   "id": "ec49f6b2-4626-41f0-9b7b-3950b46c7e9b",
   "metadata": {},
   "outputs": [
    {
     "data": {
      "text/plain": [
       "array([[ 1.51861254, -0.5622498 ,  0.23205254, ...,  0.36217728,\n",
       "         1.84791957,  1.01300893],\n",
       "       [ 0.24628963, -0.49941338, -0.82799632, ...,  0.40605066,\n",
       "         1.1134493 ,  0.96524152],\n",
       "       [ 0.19687903,  0.02123125,  1.10933436, ...,  0.31830389,\n",
       "         0.78858745,  1.39514818],\n",
       "       ...,\n",
       "       [ 0.33275817,  1.74474449, -0.38935541, ..., -1.61212515,\n",
       "        -1.48544548,  0.28057537],\n",
       "       [ 0.20923168,  0.22769377,  0.01273209, ..., -1.56825176,\n",
       "        -1.40069891,  0.29649784],\n",
       "       [ 1.39508604,  1.58316512,  1.36520822, ..., -1.52437837,\n",
       "        -1.42894777, -0.59516041]])"
      ]
     },
     "execution_count": 9,
     "metadata": {},
     "output_type": "execute_result"
    }
   ],
   "source": [
    "X_scaled"
   ]
  },
  {
   "cell_type": "code",
   "execution_count": 10,
   "id": "0fb886a3-65f1-4f4d-82bb-ade1c5ff2f20",
   "metadata": {},
   "outputs": [
    {
     "name": "stdout",
     "output_type": "stream",
     "text": [
      "\n",
      "5. SPLITTING DATA\n",
      "--------------------\n",
      "Training set: 142 wines\n",
      "Testing set: 36 wines\n"
     ]
    }
   ],
   "source": [
    "# Step 5: Split Data\n",
    "# What: Divide data into training and testing\n",
    "# Why: Train on some data, test on new data\n",
    "# How: Use 80% for training, 20% for testing\n",
    "print(\"\\n5. SPLITTING DATA\")\n",
    "print(\"-\" * 20)\n",
    "\n",
    "X_train, X_test, y_train, y_test = train_test_split(\n",
    "    X_scaled, y, test_size=0.2, random_state=RANDOM_STATE, stratify=y\n",
    ")\n",
    "\n",
    "print(f\"Training set: {X_train.shape[0]} wines\")\n",
    "print(f\"Testing set: {X_test.shape[0]} wines\")"
   ]
  },
  {
   "cell_type": "code",
   "execution_count": 11,
   "id": "15a5507d-6bd8-43f5-a4a7-bcaa24f6d73e",
   "metadata": {},
   "outputs": [
    {
     "name": "stdout",
     "output_type": "stream",
     "text": [
      "\n",
      "6. CHOOSING BEST k\n",
      "--------------------\n",
      "Best k: 8\n"
     ]
    },
    {
     "data": {
      "image/png": "[encoded data removed]",
      "text/plain": [
       "<Figure size 600x400 with 1 Axes>"
      ]
     },
     "metadata": {},
     "output_type": "display_data"
    },
    {
     "name": "stdout",
     "output_type": "stream",
     "text": [
      "Saved k vs accuracy plot as 'k_vs_accuracy.png'\n"
     ]
    }
   ],
   "source": [
    "# Step 6: Choose k Value\n",
    "# What: Find best number of neighbors\n",
    "# Why: Right k gives better predictions\n",
    "# How: Test k from 1 to 15\n",
    "print(\"\\n6. CHOOSING BEST k\")\n",
    "print(\"-\" * 20)\n",
    "\n",
    "k_range = range(1, 16)\n",
    "k_scores = []\n",
    "\n",
    "for k in k_range:\n",
    "    knn = KNeighborsClassifier(n_neighbors=k)\n",
    "    scores = cross_val_score(knn, X_train, y_train, cv=5, scoring='accuracy')\n",
    "    k_scores.append(scores.mean())\n",
    "\n",
    "optimal_k = k_range[np.argmax(k_scores)]\n",
    "print(f\"Best k: {optimal_k}\")\n",
    "\n",
    "# Plot k vs accuracy\n",
    "plt.figure(figsize=(6, 4))\n",
    "plt.plot(k_range, k_scores, marker='o')\n",
    "plt.axvline(x=optimal_k, color='red', linestyle='--', label=f'Best k = {optimal_k}')\n",
    "plt.xlabel('Number of Neighbors (k)')\n",
    "plt.ylabel('Accuracy')\n",
    "plt.title('Finding Best k')\n",
    "plt.legend()\n",
    "plt.savefig('k_vs_accuracy.png')\n",
    "plt.show()\n",
    "print(\"Saved k vs accuracy plot as 'k_vs_accuracy.png'\")\n"
   ]
  },
  {
   "cell_type": "code",
   "execution_count": 12,
   "id": "bd88c354-fab8-4ff0-a342-4e7a6bf36f75",
   "metadata": {},
   "outputs": [
    {
     "name": "stdout",
     "output_type": "stream",
     "text": [
      "\n",
      "7. TRAINING k-NN MODEL\n",
      "--------------------\n",
      "Trained model with k=8\n"
     ]
    }
   ],
   "source": [
    "# Step 7: Train k-NN Classifier\n",
    "# What: Teach the model to predict classes\n",
    "# Why: Model learns from training data\n",
    "# How: Use KNeighborsClassifier with best k\n",
    "print(\"\\n7. TRAINING k-NN MODEL\")\n",
    "print(\"-\" * 20)\n",
    "\n",
    "knn_model = KNeighborsClassifier(n_neighbors=optimal_k)\n",
    "knn_model.fit(X_train, y_train)\n",
    "print(f\"Trained model with k={optimal_k}\")"
   ]
  },
  {
   "cell_type": "code",
   "execution_count": 13,
   "id": "85cd6007-0837-4603-95e4-187ff88a7770",
   "metadata": {},
   "outputs": [
    {
     "name": "stdout",
     "output_type": "stream",
     "text": [
      "\n",
      "8. MODEL EVALUATION\n",
      "--------------------\n",
      "\n",
      "Testing Results:\n",
      "Accuracy: 0.97 (97.2%)\n",
      "Classification Report:\n",
      "              precision    recall  f1-score   support\n",
      "\n",
      "     class_0       0.92      1.00      0.96        12\n",
      "     class_1       1.00      0.93      0.96        14\n",
      "     class_2       1.00      1.00      1.00        10\n",
      "\n",
      "    accuracy                           0.97        36\n",
      "   macro avg       0.97      0.98      0.97        36\n",
      "weighted avg       0.97      0.97      0.97        36\n",
      "\n"
     ]
    }
   ],
   "source": [
    "# Step 8: Evaluate Model\n",
    "# What: Check how well the model predicts\n",
    "# Why: Ensure it works on new data\n",
    "# How: Calculate accuracy and show report\n",
    "print(\"\\n8. MODEL EVALUATION\")\n",
    "print(\"-\" * 20)\n",
    "\n",
    "y_test_pred = knn_model.predict(X_test)\n",
    "\n",
    "def calculate_metrics(y_true, y_pred, name):\n",
    "    accuracy = accuracy_score(y_true, y_pred)\n",
    "    print(f\"\\n{name} Results:\")\n",
    "    print(f\"Accuracy: {accuracy:.2f} ({accuracy*100:.1f}%)\")\n",
    "    print(\"Classification Report:\")\n",
    "    print(classification_report(y_true, y_pred, target_names=wine_data.target_names))\n",
    "    return {'accuracy': accuracy}\n",
    "\n",
    "test_metrics = calculate_metrics(y_test, y_test_pred, \"Testing\")\n"
   ]
  },
  {
   "cell_type": "code",
   "execution_count": 14,
   "id": "585bdf8a-198a-4135-bc6b-ca4273440707",
   "metadata": {},
   "outputs": [
    {
     "name": "stdout",
     "output_type": "stream",
     "text": [
      "\n",
      "9. TUNING MODEL\n",
      "--------------------\n",
      "Best settings: {'n_neighbors': 8, 'weights': 'uniform'}\n",
      "Best accuracy: 0.97\n",
      "\n",
      "Tuned Model Results:\n",
      "Accuracy: 0.97 (97.2%)\n",
      "Classification Report:\n",
      "              precision    recall  f1-score   support\n",
      "\n",
      "     class_0       0.92      1.00      0.96        12\n",
      "     class_1       1.00      0.93      0.96        14\n",
      "     class_2       1.00      1.00      1.00        10\n",
      "\n",
      "    accuracy                           0.97        36\n",
      "   macro avg       0.97      0.98      0.97        36\n",
      "weighted avg       0.97      0.97      0.97        36\n",
      "\n"
     ]
    }
   ],
   "source": [
    "# Step 9: Hyperparameter Tuning\n",
    "# What: Find better model settings\n",
    "# Why: Improve prediction accuracy\n",
    "# How: Test different k and weights\n",
    "print(\"\\n9. TUNING MODEL\")\n",
    "print(\"-\" * 20)\n",
    "\n",
    "param_grid = {\n",
    "    'n_neighbors': [3, 5, 7, optimal_k],\n",
    "    'weights': ['uniform', 'distance']\n",
    "}\n",
    "\n",
    "grid_search = GridSearchCV(\n",
    "    KNeighborsClassifier(),\n",
    "    param_grid,\n",
    "    cv=5,\n",
    "    scoring='accuracy'\n",
    ")\n",
    "\n",
    "grid_search.fit(X_train, y_train)\n",
    "\n",
    "print(f\"Best settings: {grid_search.best_params_}\")\n",
    "print(f\"Best accuracy: {grid_search.best_score_:.2f}\")\n",
    "\n",
    "best_knn = grid_search.best_estimator_\n",
    "y_test_pred_tuned = best_knn.predict(X_test)\n",
    "tuned_metrics = calculate_metrics(y_test, y_test_pred_tuned, \"Tuned Model\")"
   ]
  },
  {
   "cell_type": "code",
   "execution_count": 15,
   "id": "2f550ae9-b6cd-4650-a471-aec9d5f9d648",
   "metadata": {},
   "outputs": [
    {
     "name": "stdout",
     "output_type": "stream",
     "text": [
      "\n",
      "10. SAVING MODEL\n",
      "--------------------\n",
      "Saved model, scaler, and feature names\n"
     ]
    }
   ],
   "source": [
    "# Step 10: Save Model\n",
    "# What: Save the model for later\n",
    "# Why: Use it without retraining\n",
    "# How: Save with joblib\n",
    "print(\"\\n10. SAVING MODEL\")\n",
    "print(\"-\" * 20)\n",
    "\n",
    "joblib.dump(best_knn, 'knn_model.pkl')\n",
    "joblib.dump(scaler, 'scaler.pkl')\n",
    "joblib.dump(X.columns.tolist(), 'feature_names.pkl')\n",
    "print(\"Saved model, scaler, and feature names\")"
   ]
  },
  {
   "cell_type": "code",
   "execution_count": 19,
   "id": "225b18f5-d15a-4a46-bded-607a57cef37b",
   "metadata": {},
   "outputs": [
    {
     "name": "stdout",
     "output_type": "stream",
     "text": [
      "\n",
      "11. TESTING ON NEW DATA\n",
      "--------------------\n",
      "Sample new wine:\n",
      "{'alcohol': 13.73, 'flavanoids': 3.25}\n",
      "Predicted class: class_0\n"
     ]
    }
   ],
   "source": [
    "# Step 11: Test on New Data\n",
    "# What: Predict class for a new wine\n",
    "# Why: Check if model works on new data\n",
    "# How: Use a sample wine and predict\n",
    "print(\"\\n11. TESTING ON NEW DATA\")\n",
    "print(\"-\" * 20)\n",
    "\n",
    "new_wine = X.iloc[30:31].copy()\n",
    "new_scaled = scaler.transform(new_wine)\n",
    "new_prediction = best_knn.predict(new_scaled)\n",
    "\n",
    "print(\"Sample new wine:\")\n",
    "print(new_wine.iloc[0][['alcohol', 'flavanoids']].to_dict())\n",
    "print(f\"Predicted class: {wine_data.target_names[new_prediction[0]]}\")"
   ]
  },
  {
   "cell_type": "code",
   "execution_count": null,
   "id": "49f20373-7a6f-4c4c-9088-703be522a4a4",
   "metadata": {},
   "outputs": [],
   "source": []
  }
 ],
 "metadata": {
  "kernelspec": {
   "display_name": "Python 3 (ipykernel)",
   "language": "python",
   "name": "python3"
  },
  "language_info": {
   "codemirror_mode": {
    "name": "ipython",
    "version": 3
   },
   "file_extension": ".py",
   "mimetype": "text/x-python",
   "name": "python",
   "nbconvert_exporter": "python",
   "pygments_lexer": "ipython3",
   "version": "3.11.7"
  }
 },
 "nbformat": 4,
 "nbformat_minor": 5
}
