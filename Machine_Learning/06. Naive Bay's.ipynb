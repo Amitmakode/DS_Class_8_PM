{
 "cells": [
  {
   "cell_type": "code",
   "execution_count": 1,
   "id": "ada1e7af-5a2f-43a1-9211-3916340ea86a",
   "metadata": {},
   "outputs": [],
   "source": [
    "import pandas as pd\n",
    "import numpy as np\n",
    "from sklearn.model_selection import train_test_split, GridSearchCV\n",
    "from sklearn.naive_bayes import GaussianNB\n",
    "from sklearn.preprocessing import StandardScaler, LabelEncoder\n",
    "from sklearn.metrics import accuracy_score, classification_report, confusion_matrix\n",
    "import seaborn as sns\n",
    "import matplotlib.pyplot as plt\n",
    "import joblib"
   ]
  },
  {
   "cell_type": "code",
   "execution_count": 3,
   "id": "a6af8cf5-da58-4c69-b822-d8fe0fbe9bad",
   "metadata": {},
   "outputs": [],
   "source": [
    "# Step 1: Load data\n",
    "# Reading the CSV file into a pandas DataFrame\n",
    "data = pd.read_csv('Placement Data.csv')\n",
    "\n",
    "# Drop the 'Unnamed: 0' column if it exists to avoid feature mismatch\n",
    "if 'Unnamed: 0' in data.columns:\n",
    "    data = data.drop('Unnamed: 0', axis=1)"
   ]
  },
  {
   "cell_type": "code",
   "execution_count": 4,
   "id": "db8644b0-1be1-41c0-ab5c-af4797fd6cfb",
   "metadata": {},
   "outputs": [
    {
     "data": {
      "text/html": [
       "<div>\n",
       "<style scoped>\n",
       "    .dataframe tbody tr th:only-of-type {\n",
       "        vertical-align: middle;\n",
       "    }\n",
       "\n",
       "    .dataframe tbody tr th {\n",
       "        vertical-align: top;\n",
       "    }\n",
       "\n",
       "    .dataframe thead th {\n",
       "        text-align: right;\n",
       "    }\n",
       "</style>\n",
       "<table border=\"1\" class=\"dataframe\">\n",
       "  <thead>\n",
       "    <tr style=\"text-align: right;\">\n",
       "      <th></th>\n",
       "      <th>grade</th>\n",
       "      <th>cgpa</th>\n",
       "      <th>iq</th>\n",
       "      <th>communication</th>\n",
       "      <th>technical_knowledge</th>\n",
       "      <th>placement</th>\n",
       "    </tr>\n",
       "  </thead>\n",
       "  <tbody>\n",
       "    <tr>\n",
       "      <th>0</th>\n",
       "      <td>B</td>\n",
       "      <td>7.34</td>\n",
       "      <td>124</td>\n",
       "      <td>1</td>\n",
       "      <td>7</td>\n",
       "      <td>0</td>\n",
       "    </tr>\n",
       "    <tr>\n",
       "      <th>1</th>\n",
       "      <td>D</td>\n",
       "      <td>8.88</td>\n",
       "      <td>112</td>\n",
       "      <td>1</td>\n",
       "      <td>5</td>\n",
       "      <td>0</td>\n",
       "    </tr>\n",
       "    <tr>\n",
       "      <th>2</th>\n",
       "      <td>C</td>\n",
       "      <td>7.95</td>\n",
       "      <td>85</td>\n",
       "      <td>8</td>\n",
       "      <td>8</td>\n",
       "      <td>0</td>\n",
       "    </tr>\n",
       "    <tr>\n",
       "      <th>3</th>\n",
       "      <td>B</td>\n",
       "      <td>6.42</td>\n",
       "      <td>103</td>\n",
       "      <td>8</td>\n",
       "      <td>8</td>\n",
       "      <td>1</td>\n",
       "    </tr>\n",
       "    <tr>\n",
       "      <th>4</th>\n",
       "      <td>A</td>\n",
       "      <td>6.10</td>\n",
       "      <td>98</td>\n",
       "      <td>6</td>\n",
       "      <td>9</td>\n",
       "      <td>1</td>\n",
       "    </tr>\n",
       "    <tr>\n",
       "      <th>...</th>\n",
       "      <td>...</td>\n",
       "      <td>...</td>\n",
       "      <td>...</td>\n",
       "      <td>...</td>\n",
       "      <td>...</td>\n",
       "      <td>...</td>\n",
       "    </tr>\n",
       "    <tr>\n",
       "      <th>495</th>\n",
       "      <td>B</td>\n",
       "      <td>6.47</td>\n",
       "      <td>116</td>\n",
       "      <td>7</td>\n",
       "      <td>10</td>\n",
       "      <td>1</td>\n",
       "    </tr>\n",
       "    <tr>\n",
       "      <th>496</th>\n",
       "      <td>B</td>\n",
       "      <td>6.51</td>\n",
       "      <td>126</td>\n",
       "      <td>8</td>\n",
       "      <td>9</td>\n",
       "      <td>1</td>\n",
       "    </tr>\n",
       "    <tr>\n",
       "      <th>497</th>\n",
       "      <td>A</td>\n",
       "      <td>8.04</td>\n",
       "      <td>116</td>\n",
       "      <td>3</td>\n",
       "      <td>6</td>\n",
       "      <td>1</td>\n",
       "    </tr>\n",
       "    <tr>\n",
       "      <th>498</th>\n",
       "      <td>D</td>\n",
       "      <td>7.68</td>\n",
       "      <td>91</td>\n",
       "      <td>5</td>\n",
       "      <td>5</td>\n",
       "      <td>0</td>\n",
       "    </tr>\n",
       "    <tr>\n",
       "      <th>499</th>\n",
       "      <td>D</td>\n",
       "      <td>8.85</td>\n",
       "      <td>116</td>\n",
       "      <td>1</td>\n",
       "      <td>3</td>\n",
       "      <td>0</td>\n",
       "    </tr>\n",
       "  </tbody>\n",
       "</table>\n",
       "<p>500 rows × 6 columns</p>\n",
       "</div>"
      ],
      "text/plain": [
       "    grade  cgpa   iq  communication  technical_knowledge  placement\n",
       "0       B  7.34  124              1                    7          0\n",
       "1       D  8.88  112              1                    5          0\n",
       "2       C  7.95   85              8                    8          0\n",
       "3       B  6.42  103              8                    8          1\n",
       "4       A  6.10   98              6                    9          1\n",
       "..    ...   ...  ...            ...                  ...        ...\n",
       "495     B  6.47  116              7                   10          1\n",
       "496     B  6.51  126              8                    9          1\n",
       "497     A  8.04  116              3                    6          1\n",
       "498     D  7.68   91              5                    5          0\n",
       "499     D  8.85  116              1                    3          0\n",
       "\n",
       "[500 rows x 6 columns]"
      ]
     },
     "execution_count": 4,
     "metadata": {},
     "output_type": "execute_result"
    }
   ],
   "source": [
    "data"
   ]
  },
  {
   "cell_type": "code",
   "execution_count": 5,
   "id": "e0810fed-7f83-453a-a24a-f11d634ff01f",
   "metadata": {},
   "outputs": [
    {
     "name": "stdout",
     "output_type": "stream",
     "text": [
      "Missing values:\n",
      " grade                  0\n",
      "cgpa                   0\n",
      "iq                     0\n",
      "communication          0\n",
      "technical_knowledge    0\n",
      "placement              0\n",
      "dtype: int64\n"
     ]
    }
   ],
   "source": [
    "# Step 2: Preprocess data\n",
    "# Check for missing values\n",
    "print(\"Missing values:\\n\", data.isnull().sum())\n",
    "\n",
    "# Encode categorical variable 'grade'\n",
    "le = LabelEncoder()\n",
    "data['grade'] = le.fit_transform(data['grade'])"
   ]
  },
  {
   "cell_type": "code",
   "execution_count": 6,
   "id": "415df39d-e941-404b-94fe-a198eeb44c73",
   "metadata": {},
   "outputs": [
    {
     "data": {
      "text/html": [
       "<div>\n",
       "<style scoped>\n",
       "    .dataframe tbody tr th:only-of-type {\n",
       "        vertical-align: middle;\n",
       "    }\n",
       "\n",
       "    .dataframe tbody tr th {\n",
       "        vertical-align: top;\n",
       "    }\n",
       "\n",
       "    .dataframe thead th {\n",
       "        text-align: right;\n",
       "    }\n",
       "</style>\n",
       "<table border=\"1\" class=\"dataframe\">\n",
       "  <thead>\n",
       "    <tr style=\"text-align: right;\">\n",
       "      <th></th>\n",
       "      <th>grade</th>\n",
       "      <th>cgpa</th>\n",
       "      <th>iq</th>\n",
       "      <th>communication</th>\n",
       "      <th>technical_knowledge</th>\n",
       "      <th>placement</th>\n",
       "    </tr>\n",
       "  </thead>\n",
       "  <tbody>\n",
       "    <tr>\n",
       "      <th>0</th>\n",
       "      <td>1</td>\n",
       "      <td>7.34</td>\n",
       "      <td>124</td>\n",
       "      <td>1</td>\n",
       "      <td>7</td>\n",
       "      <td>0</td>\n",
       "    </tr>\n",
       "    <tr>\n",
       "      <th>1</th>\n",
       "      <td>3</td>\n",
       "      <td>8.88</td>\n",
       "      <td>112</td>\n",
       "      <td>1</td>\n",
       "      <td>5</td>\n",
       "      <td>0</td>\n",
       "    </tr>\n",
       "    <tr>\n",
       "      <th>2</th>\n",
       "      <td>2</td>\n",
       "      <td>7.95</td>\n",
       "      <td>85</td>\n",
       "      <td>8</td>\n",
       "      <td>8</td>\n",
       "      <td>0</td>\n",
       "    </tr>\n",
       "    <tr>\n",
       "      <th>3</th>\n",
       "      <td>1</td>\n",
       "      <td>6.42</td>\n",
       "      <td>103</td>\n",
       "      <td>8</td>\n",
       "      <td>8</td>\n",
       "      <td>1</td>\n",
       "    </tr>\n",
       "    <tr>\n",
       "      <th>4</th>\n",
       "      <td>0</td>\n",
       "      <td>6.10</td>\n",
       "      <td>98</td>\n",
       "      <td>6</td>\n",
       "      <td>9</td>\n",
       "      <td>1</td>\n",
       "    </tr>\n",
       "    <tr>\n",
       "      <th>...</th>\n",
       "      <td>...</td>\n",
       "      <td>...</td>\n",
       "      <td>...</td>\n",
       "      <td>...</td>\n",
       "      <td>...</td>\n",
       "      <td>...</td>\n",
       "    </tr>\n",
       "    <tr>\n",
       "      <th>495</th>\n",
       "      <td>1</td>\n",
       "      <td>6.47</td>\n",
       "      <td>116</td>\n",
       "      <td>7</td>\n",
       "      <td>10</td>\n",
       "      <td>1</td>\n",
       "    </tr>\n",
       "    <tr>\n",
       "      <th>496</th>\n",
       "      <td>1</td>\n",
       "      <td>6.51</td>\n",
       "      <td>126</td>\n",
       "      <td>8</td>\n",
       "      <td>9</td>\n",
       "      <td>1</td>\n",
       "    </tr>\n",
       "    <tr>\n",
       "      <th>497</th>\n",
       "      <td>0</td>\n",
       "      <td>8.04</td>\n",
       "      <td>116</td>\n",
       "      <td>3</td>\n",
       "      <td>6</td>\n",
       "      <td>1</td>\n",
       "    </tr>\n",
       "    <tr>\n",
       "      <th>498</th>\n",
       "      <td>3</td>\n",
       "      <td>7.68</td>\n",
       "      <td>91</td>\n",
       "      <td>5</td>\n",
       "      <td>5</td>\n",
       "      <td>0</td>\n",
       "    </tr>\n",
       "    <tr>\n",
       "      <th>499</th>\n",
       "      <td>3</td>\n",
       "      <td>8.85</td>\n",
       "      <td>116</td>\n",
       "      <td>1</td>\n",
       "      <td>3</td>\n",
       "      <td>0</td>\n",
       "    </tr>\n",
       "  </tbody>\n",
       "</table>\n",
       "<p>500 rows × 6 columns</p>\n",
       "</div>"
      ],
      "text/plain": [
       "     grade  cgpa   iq  communication  technical_knowledge  placement\n",
       "0        1  7.34  124              1                    7          0\n",
       "1        3  8.88  112              1                    5          0\n",
       "2        2  7.95   85              8                    8          0\n",
       "3        1  6.42  103              8                    8          1\n",
       "4        0  6.10   98              6                    9          1\n",
       "..     ...   ...  ...            ...                  ...        ...\n",
       "495      1  6.47  116              7                   10          1\n",
       "496      1  6.51  126              8                    9          1\n",
       "497      0  8.04  116              3                    6          1\n",
       "498      3  7.68   91              5                    5          0\n",
       "499      3  8.85  116              1                    3          0\n",
       "\n",
       "[500 rows x 6 columns]"
      ]
     },
     "execution_count": 6,
     "metadata": {},
     "output_type": "execute_result"
    }
   ],
   "source": [
    "data"
   ]
  },
  {
   "cell_type": "code",
   "execution_count": 8,
   "id": "4111cf80-1aed-4722-b1fb-1a2d9c578958",
   "metadata": {},
   "outputs": [
    {
     "name": "stdout",
     "output_type": "stream",
     "text": [
      "\n",
      "Dataset Info:\n",
      "<class 'pandas.core.frame.DataFrame'>\n",
      "RangeIndex: 500 entries, 0 to 499\n",
      "Data columns (total 6 columns):\n",
      " #   Column               Non-Null Count  Dtype  \n",
      "---  ------               --------------  -----  \n",
      " 0   grade                500 non-null    int32  \n",
      " 1   cgpa                 500 non-null    float64\n",
      " 2   iq                   500 non-null    int64  \n",
      " 3   communication        500 non-null    int64  \n",
      " 4   technical_knowledge  500 non-null    int64  \n",
      " 5   placement            500 non-null    int64  \n",
      "dtypes: float64(1), int32(1), int64(4)\n",
      "memory usage: 21.6 KB\n",
      "None\n",
      "\n",
      "Basic Statistics:\n",
      "            grade        cgpa          iq  communication  technical_knowledge  \\\n",
      "count  500.000000  500.000000  500.000000     500.000000           500.000000   \n",
      "mean     1.110000    7.007540  109.786000       5.344000             5.626000   \n",
      "std      0.967353    1.006612   17.363848       2.852707             2.810324   \n",
      "min      0.000000    4.300000   80.000000       1.000000             1.000000   \n",
      "25%      0.000000    6.350000   94.000000       3.000000             3.000000   \n",
      "50%      1.000000    6.970000  110.000000       5.000000             6.000000   \n",
      "75%      2.000000    7.662500  124.000000       8.000000             8.000000   \n",
      "max      3.000000   10.000000  140.000000      10.000000            10.000000   \n",
      "\n",
      "        placement  \n",
      "count  500.000000  \n",
      "mean     0.496000  \n",
      "std      0.500485  \n",
      "min      0.000000  \n",
      "25%      0.000000  \n",
      "50%      0.000000  \n",
      "75%      1.000000  \n",
      "max      1.000000  \n"
     ]
    },
    {
     "data": {
      "image/png": "[encoded data removed]",
      "text/plain": [
       "<Figure size 1000x800 with 2 Axes>"
      ]
     },
     "metadata": {},
     "output_type": "display_data"
    },
    {
     "data": {
      "image/png": "[encoded data removed]",
      "text/plain": [
       "<Figure size 600x400 with 1 Axes>"
      ]
     },
     "metadata": {},
     "output_type": "display_data"
    }
   ],
   "source": [
    "# Step 3: Perform exploratory data analysis (EDA)\n",
    "# Display basic statistics\n",
    "print(\"\\nDataset Info:\")\n",
    "print(data.info())\n",
    "print(\"\\nBasic Statistics:\")\n",
    "print(data.describe())\n",
    "\n",
    "# Visualize correlation matrix\n",
    "plt.figure(figsize=(10, 8))\n",
    "sns.heatmap(data.corr(), annot=True, cmap='coolwarm')\n",
    "plt.title('Correlation Matrix')\n",
    "plt.savefig('correlation_matrix.png')\n",
    "plt.show()\n",
    "\n",
    "# Visualize placement distribution\n",
    "plt.figure(figsize=(6, 4))\n",
    "sns.countplot(x='placement', data=data)\n",
    "plt.title('Placement Distribution')\n",
    "plt.savefig('placement_distribution.png')\n",
    "plt.show()"
   ]
  },
  {
   "cell_type": "code",
   "execution_count": 9,
   "id": "22085638-143d-480d-b847-1d5a3c57fa23",
   "metadata": {},
   "outputs": [],
   "source": [
    "# Step 4: Transform data\n",
    "# Define features (X) and target (y)\n",
    "X = data.drop('placement', axis=1)\n",
    "y = data['placement']\n",
    "\n",
    "# Scale numerical features\n",
    "scaler = StandardScaler()\n",
    "X_scaled = scaler.fit_transform(X)"
   ]
  },
  {
   "cell_type": "code",
   "execution_count": 10,
   "id": "5405c839-1165-4b13-b50b-991f9d16500d",
   "metadata": {},
   "outputs": [
    {
     "data": {
      "text/plain": [
       "array([[-0.11382627,  0.33060702,  0.81941719, -1.52428897,  0.48940128],\n",
       "       [ 1.95574224,  1.86202379,  0.127634  , -1.52428897, -0.22297322],\n",
       "       [ 0.92095799,  0.93720717, -1.42887818,  0.93197779,  0.84558853],\n",
       "       ...,\n",
       "       [-1.14861052,  1.02670555,  0.3582284 , -0.82249847,  0.13321403],\n",
       "       [ 1.95574224,  0.66871202, -1.08298658, -0.12070797, -0.22297322],\n",
       "       [ 1.95574224,  1.832191  ,  0.3582284 , -1.52428897, -0.93534772]])"
      ]
     },
     "execution_count": 10,
     "metadata": {},
     "output_type": "execute_result"
    }
   ],
   "source": [
    "X_scaled"
   ]
  },
  {
   "cell_type": "code",
   "execution_count": 11,
   "id": "ba1a75c5-9695-46cf-98c2-f686a2c8b808",
   "metadata": {},
   "outputs": [],
   "source": [
    "# Step 5: Split data into training and testing sets\n",
    "# Using 80-20 split for training and testing\n",
    "X_train, X_test, y_train, y_test = train_test_split(X_scaled, y, test_size=0.2, random_state=42)"
   ]
  },
  {
   "cell_type": "code",
   "execution_count": 12,
   "id": "734b4d4c-6a59-4ece-a1f0-d067edb85fd5",
   "metadata": {},
   "outputs": [
    {
     "data": {
      "text/plain": [
       "array([[ 0.92095799, -1.64830165,  1.16530878, -1.52428897,  1.20177578],\n",
       "       [-1.14861052,  1.05653835, -1.65947258,  0.58108254,  0.48940128],\n",
       "       [-1.14861052,  0.60904644,  0.3005798 , -1.52428897, -0.93534772],\n",
       "       ...,\n",
       "       [-0.11382627,  1.01676129, -0.1029604 ,  0.93197779,  0.84558853],\n",
       "       [ 0.92095799,  1.39464335,  0.3582284 , -0.12070797,  1.20177578],\n",
       "       [-0.11382627,  1.67308276, -1.08298658, -1.52428897,  0.84558853]])"
      ]
     },
     "execution_count": 12,
     "metadata": {},
     "output_type": "execute_result"
    }
   ],
   "source": [
    "X_train"
   ]
  },
  {
   "cell_type": "code",
   "execution_count": 13,
   "id": "33ecdc3d-29bb-450a-aebf-5bf7ad21c633",
   "metadata": {},
   "outputs": [
    {
     "data": {
      "text/plain": [
       "array([[-0.11382627, -0.76326209,  0.0699854 , -0.47160322,  0.13321403],\n",
       "       [ 0.92095799, -1.20080974,  1.68414618,  1.63376829, -0.22297322],\n",
       "       [-1.14861052, -0.58426533,  0.127634  , -0.82249847,  0.84558853],\n",
       "       [-1.14861052, -1.13119989,  0.3582284 , -1.17339372,  0.13321403],\n",
       "       [ 1.95574224, -0.01744224,  1.62649758,  0.58108254,  0.13321403],\n",
       "       [-0.11382627,  0.17149879,  1.16530878, -0.82249847,  1.20177578],\n",
       "       [-1.14861052, -0.10694062,  1.05001159,  1.28287304, -1.64772222],\n",
       "       [-1.14861052,  0.26099717,  0.1852826 ,  0.23018728,  1.55796303],\n",
       "       [-1.14861052, -0.53454401, -1.19828378, -1.52428897, -0.57916047],\n",
       "       [ 0.92095799,  1.53386305,  0.47352559, -0.12070797, -0.93534772],\n",
       "       [ 0.92095799, -0.47487842,  1.62649758, -0.12070797, -0.93534772],\n",
       "       [-0.11382627,  0.33060702, -1.37122958,  1.63376829, -0.57916047],\n",
       "       [-0.11382627,  0.26099717, -1.42887818, -0.12070797, -1.29153497],\n",
       "       [-0.11382627, -0.28593739, -1.54417538, -0.47160322,  0.84558853],\n",
       "       [-1.14861052,  0.17149879, -0.1029604 ,  0.23018728, -1.64772222],\n",
       "       [ 0.92095799,  0.60904644,  0.76176859,  0.23018728, -0.22297322],\n",
       "       [-0.11382627, -0.53454401,  0.3582284 ,  0.58108254,  1.55796303],\n",
       "       [-0.11382627,  1.53386305,  0.0123368 ,  1.28287304, -1.64772222],\n",
       "       [-0.11382627, -0.70359651,  1.62649758, -0.47160322,  1.55796303],\n",
       "       [ 1.95574224, -1.08147856,  0.64647139, -0.82249847, -0.93534772],\n",
       "       [-0.11382627, -0.52459974,  1.33825458,  0.93197779,  0.84558853],\n",
       "       [-0.11382627,  0.21127585, -0.62179779,  0.23018728,  0.48940128],\n",
       "       [ 0.92095799, -0.25610459, -0.50650059,  0.58108254, -0.57916047],\n",
       "       [-1.14861052, -0.62404239, -1.42887818, -0.82249847, -0.22297322],\n",
       "       [ 0.92095799, -0.70359651,  0.3582284 ,  0.23018728,  0.48940128],\n",
       "       [-0.11382627,  2.43879114, -1.71712118,  1.63376829,  0.84558853],\n",
       "       [-1.14861052,  1.02670555,  0.3582284 , -0.82249847,  0.13321403],\n",
       "       [-0.11382627, -0.98203592,  0.76176859, -0.12070797,  0.13321403],\n",
       "       [-0.11382627, -1.08147856, -0.1029604 , -0.12070797, -1.64772222],\n",
       "       [-1.14861052,  0.30077423, -1.08298658, -1.17339372, -1.29153497],\n",
       "       [ 1.95574224, -1.51902621, -0.85239219,  1.28287304, -1.64772222],\n",
       "       [ 0.92095799, -1.34997371, -1.08298658,  0.23018728,  1.55796303],\n",
       "       [-1.14861052,  1.56369585,  1.33825458,  0.58108254, -0.57916047],\n",
       "       [-1.14861052, -0.42515709, -0.3335548 ,  0.58108254, -0.57916047],\n",
       "       [ 0.92095799,  0.93720717, -1.42887818,  0.93197779,  0.84558853],\n",
       "       [-1.14861052, -0.06716356,  1.33825458, -0.47160322,  0.13321403],\n",
       "       [-1.14861052,  1.03664982,  1.16530878,  0.58108254, -0.93534772],\n",
       "       [ 0.92095799, -0.11688489,  0.0699854 , -0.12070797, -0.93534772],\n",
       "       [-1.14861052, -0.51465548, -1.37122958,  0.58108254, -0.57916047],\n",
       "       [-0.11382627, -1.06159003,  0.99236299, -1.52428897,  1.55796303],\n",
       "       [ 0.92095799,  0.69854482, -0.62179779,  1.28287304,  0.48940128],\n",
       "       [-0.11382627,  1.10625967, -0.50650059,  1.28287304, -0.22297322],\n",
       "       [ 1.95574224, -0.80303915, -1.31358098,  1.63376829,  0.48940128],\n",
       "       [-0.11382627,  1.6631385 , -0.79474359,  1.28287304, -0.93534772],\n",
       "       [ 1.95574224,  0.06211188, -1.19828378, -1.17339372,  1.20177578],\n",
       "       [-1.14861052,  0.20133158, -0.1029604 ,  1.28287304,  0.48940128],\n",
       "       [-0.11382627,  0.33060702,  0.81941719, -1.52428897,  0.48940128],\n",
       "       [ 1.95574224,  1.33497776,  0.99236299,  1.63376829, -1.64772222],\n",
       "       [-0.11382627, -0.52459974, -1.60182398, -1.52428897,  0.48940128],\n",
       "       [-1.14861052,  0.1118332 ,  1.68414618,  1.63376829, -0.93534772],\n",
       "       [-1.14861052, -0.55443253, -0.160609  ,  1.28287304,  0.84558853],\n",
       "       [ 1.95574224, -1.86707548,  1.68414618,  0.23018728,  0.84558853],\n",
       "       [-1.14861052, -0.98203592,  0.47352559, -0.47160322, -0.57916047],\n",
       "       [-0.11382627, -0.04727503,  1.16530878, -1.52428897, -1.29153497],\n",
       "       [-0.11382627,  1.1261482 ,  1.22295738, -1.52428897, -0.22297322],\n",
       "       [ 1.95574224, -0.03733077, -0.79474359,  1.63376829,  1.55796303],\n",
       "       [-1.14861052, -0.65387518,  0.76176859, -0.12070797, -0.22297322],\n",
       "       [-0.11382627, -0.45498989,  0.64647139, -0.12070797, -0.57916047],\n",
       "       [-0.11382627,  0.06211188,  0.87706579, -1.17339372,  1.20177578],\n",
       "       [-0.11382627, -0.11688489, -0.50650059, -1.52428897, -1.64772222],\n",
       "       [-0.11382627,  2.508401  ,  0.70411999, -1.52428897, -0.57916047],\n",
       "       [-1.14861052, -0.23621606, -0.62179779, -0.12070797,  0.13321403],\n",
       "       [-1.14861052,  1.68302702,  1.56884898,  1.28287304,  0.84558853],\n",
       "       [-0.11382627,  1.99129923, -1.48652678,  1.63376829,  0.84558853],\n",
       "       [-1.14861052, -0.2262718 , -1.54417538,  1.28287304,  1.20177578],\n",
       "       [-0.11382627,  1.35486629,  0.0123368 , -1.17339372, -0.57916047],\n",
       "       [-0.11382627, -1.00192445, -1.42887818, -1.17339372,  1.20177578],\n",
       "       [-0.11382627, -0.27599312, -1.08298658,  0.58108254, -1.29153497],\n",
       "       [-0.11382627,  1.57364011,  0.0699854 ,  0.58108254, -0.22297322],\n",
       "       [-0.11382627, -0.25610459, -0.39120339, -0.82249847,  1.55796303],\n",
       "       [-0.11382627,  1.65319423,  0.0699854 ,  0.58108254, -0.93534772],\n",
       "       [-0.11382627,  0.34055129,  1.56884898, -0.47160322,  1.20177578],\n",
       "       [-0.11382627, -0.54448827, -1.02533799, -1.52428897,  1.55796303],\n",
       "       [-1.14861052, -1.11131136,  0.1852826 ,  1.28287304, -0.22297322],\n",
       "       [-1.14861052, -1.4096393 , -1.37122958, -1.17339372,  1.20177578],\n",
       "       [ 0.92095799, -0.36549151,  0.47352559, -1.52428897,  0.84558853],\n",
       "       [-0.11382627,  2.54817805,  1.68414618,  0.23018728,  0.13321403],\n",
       "       [ 1.95574224, -0.79309489,  0.58882279, -0.82249847, -0.22297322],\n",
       "       [-0.11382627,  0.65876776,  1.51120038, -0.82249847,  0.84558853],\n",
       "       [-0.11382627, -0.5643768 ,  0.3005798 , -1.17339372, -0.93534772],\n",
       "       [ 1.95574224,  0.82782026, -0.85239219, -1.17339372,  0.84558853],\n",
       "       [-0.11382627, -0.53454401,  0.3005798 , -0.12070797, -0.22297322],\n",
       "       [-0.11382627,  1.78246967, -0.1029604 ,  0.93197779, -0.93534772],\n",
       "       [-0.11382627,  0.38032835,  1.05001159,  0.23018728,  0.48940128],\n",
       "       [ 0.92095799,  1.73274835, -1.54417538, -1.17339372, -1.64772222],\n",
       "       [-1.14861052,  0.56926938, -1.19828378,  0.23018728,  0.13321403],\n",
       "       [-0.11382627, -2.03612798, -0.2182576 ,  0.23018728, -0.57916047],\n",
       "       [-0.11382627,  0.92726291, -1.08298658,  0.93197779, -1.64772222],\n",
       "       [-1.14861052,  0.90737438,  1.10766019,  0.58108254, -1.64772222],\n",
       "       [ 0.92095799, -0.71354077,  1.22295738, -0.82249847,  1.20177578],\n",
       "       [-0.11382627,  1.75263688,  1.56884898, -0.12070797,  0.13321403],\n",
       "       [-1.14861052, -0.55443253, -1.60182398, -0.12070797,  1.20177578],\n",
       "       [-0.11382627, -0.61409812,  1.45355178, -1.17339372,  0.84558853],\n",
       "       [ 1.95574224,  0.20133158, -0.50650059, -0.12070797, -1.29153497],\n",
       "       [ 0.92095799,  0.87754158, -0.96768939,  0.23018728,  0.13321403],\n",
       "       [-1.14861052, -1.69802298, -1.31358098, -0.82249847,  0.13321403],\n",
       "       [ 0.92095799, -1.51902621, -0.79474359,  0.23018728,  0.48940128],\n",
       "       [ 0.92095799,  0.03227908, -0.0453118 , -1.17339372,  1.55796303],\n",
       "       [ 0.92095799, -0.45498989,  0.81941719, -0.12070797, -0.57916047],\n",
       "       [-1.14861052, -0.60415386,  0.81941719,  0.23018728,  0.84558853]])"
      ]
     },
     "execution_count": 13,
     "metadata": {},
     "output_type": "execute_result"
    }
   ],
   "source": [
    "X_test"
   ]
  },
  {
   "cell_type": "code",
   "execution_count": 14,
   "id": "04736e18-9f6c-4fb2-89b7-f750b81e7c51",
   "metadata": {},
   "outputs": [
    {
     "data": {
      "text/plain": [
       "0      0\n",
       "1      0\n",
       "2      0\n",
       "3      1\n",
       "4      1\n",
       "      ..\n",
       "495    1\n",
       "496    1\n",
       "497    1\n",
       "498    0\n",
       "499    0\n",
       "Name: placement, Length: 500, dtype: int64"
      ]
     },
     "execution_count": 14,
     "metadata": {},
     "output_type": "execute_result"
    }
   ],
   "source": [
    "y"
   ]
  },
  {
   "cell_type": "code",
   "execution_count": 15,
   "id": "82647397-649d-4336-9a2c-521489ec3f95",
   "metadata": {},
   "outputs": [
    {
     "data": {
      "text/plain": [
       "361    0\n",
       "73     1\n",
       "374    1\n",
       "155    1\n",
       "104    0\n",
       "      ..\n",
       "347    0\n",
       "86     0\n",
       "75     0\n",
       "438    0\n",
       "15     1\n",
       "Name: placement, Length: 100, dtype: int64"
      ]
     },
     "execution_count": 15,
     "metadata": {},
     "output_type": "execute_result"
    }
   ],
   "source": [
    "y_test"
   ]
  },
  {
   "cell_type": "code",
   "execution_count": 16,
   "id": "9838aaa3-5243-46b2-aad3-cd1c1c139994",
   "metadata": {},
   "outputs": [
    {
     "data": {
      "text/html": [
       "<style>#sk-container-id-1 {color: black;background-color: white;}#sk-container-id-1 pre{padding: 0;}#sk-container-id-1 div.sk-toggleable {background-color: white;}#sk-container-id-1 label.sk-toggleable__label {cursor: pointer;display: block;width: 100%;margin-bottom: 0;padding: 0.3em;box-sizing: border-box;text-align: center;}#sk-container-id-1 label.sk-toggleable__label-arrow:before {content: \"▸\";float: left;margin-right: 0.25em;color: #696969;}#sk-container-id-1 label.sk-toggleable__label-arrow:hover:before {color: black;}#sk-container-id-1 div.sk-estimator:hover label.sk-toggleable__label-arrow:before {color: black;}#sk-container-id-1 div.sk-toggleable__content {max-height: 0;max-width: 0;overflow: hidden;text-align: left;background-color: #f0f8ff;}#sk-container-id-1 div.sk-toggleable__content pre {margin: 0.2em;color: black;border-radius: 0.25em;background-color: #f0f8ff;}#sk-container-id-1 input.sk-toggleable__control:checked~div.sk-toggleable__content {max-height: 200px;max-width: 100%;overflow: auto;}#sk-container-id-1 input.sk-toggleable__control:checked~label.sk-toggleable__label-arrow:before {content: \"▾\";}#sk-container-id-1 div.sk-estimator input.sk-toggleable__control:checked~label.sk-toggleable__label {background-color: #d4ebff;}#sk-container-id-1 div.sk-label input.sk-toggleable__control:checked~label.sk-toggleable__label {background-color: #d4ebff;}#sk-container-id-1 input.sk-hidden--visually {border: 0;clip: rect(1px 1px 1px 1px);clip: rect(1px, 1px, 1px, 1px);height: 1px;margin: -1px;overflow: hidden;padding: 0;position: absolute;width: 1px;}#sk-container-id-1 div.sk-estimator {font-family: monospace;background-color: #f0f8ff;border: 1px dotted black;border-radius: 0.25em;box-sizing: border-box;margin-bottom: 0.5em;}#sk-container-id-1 div.sk-estimator:hover {background-color: #d4ebff;}#sk-container-id-1 div.sk-parallel-item::after {content: \"\";width: 100%;border-bottom: 1px solid gray;flex-grow: 1;}#sk-container-id-1 div.sk-label:hover label.sk-toggleable__label {background-color: #d4ebff;}#sk-container-id-1 div.sk-serial::before {content: \"\";position: absolute;border-left: 1px solid gray;box-sizing: border-box;top: 0;bottom: 0;left: 50%;z-index: 0;}#sk-container-id-1 div.sk-serial {display: flex;flex-direction: column;align-items: center;background-color: white;padding-right: 0.2em;padding-left: 0.2em;position: relative;}#sk-container-id-1 div.sk-item {position: relative;z-index: 1;}#sk-container-id-1 div.sk-parallel {display: flex;align-items: stretch;justify-content: center;background-color: white;position: relative;}#sk-container-id-1 div.sk-item::before, #sk-container-id-1 div.sk-parallel-item::before {content: \"\";position: absolute;border-left: 1px solid gray;box-sizing: border-box;top: 0;bottom: 0;left: 50%;z-index: -1;}#sk-container-id-1 div.sk-parallel-item {display: flex;flex-direction: column;z-index: 1;position: relative;background-color: white;}#sk-container-id-1 div.sk-parallel-item:first-child::after {align-self: flex-end;width: 50%;}#sk-container-id-1 div.sk-parallel-item:last-child::after {align-self: flex-start;width: 50%;}#sk-container-id-1 div.sk-parallel-item:only-child::after {width: 0;}#sk-container-id-1 div.sk-dashed-wrapped {border: 1px dashed gray;margin: 0 0.4em 0.5em 0.4em;box-sizing: border-box;padding-bottom: 0.4em;background-color: white;}#sk-container-id-1 div.sk-label label {font-family: monospace;font-weight: bold;display: inline-block;line-height: 1.2em;}#sk-container-id-1 div.sk-label-container {text-align: center;}#sk-container-id-1 div.sk-container {/* jupyter's `normalize.less` sets `[hidden] { display: none; }` but bootstrap.min.css set `[hidden] { display: none !important; }` so we also need the `!important` here to be able to override the default hidden behavior on the sphinx rendered scikit-learn.org. See: https://github.com/scikit-learn/scikit-learn/issues/21755 */display: inline-block !important;position: relative;}#sk-container-id-1 div.sk-text-repr-fallback {display: none;}</style><div id=\"sk-container-id-1\" class=\"sk-top-container\"><div class=\"sk-text-repr-fallback\"><pre>GaussianNB()</pre><b>In a Jupyter environment, please rerun this cell to show the HTML representation or trust the notebook. <br />On GitHub, the HTML representation is unable to render, please try loading this page with nbviewer.org.</b></div><div class=\"sk-container\" hidden><div class=\"sk-item\"><div class=\"sk-estimator sk-toggleable\"><input class=\"sk-toggleable__control sk-hidden--visually\" id=\"sk-estimator-id-1\" type=\"checkbox\" checked><label for=\"sk-estimator-id-1\" class=\"sk-toggleable__label sk-toggleable__label-arrow\">GaussianNB</label><div class=\"sk-toggleable__content\"><pre>GaussianNB()</pre></div></div></div></div></div>"
      ],
      "text/plain": [
       "GaussianNB()"
      ]
     },
     "execution_count": 16,
     "metadata": {},
     "output_type": "execute_result"
    }
   ],
   "source": [
    "# Step 6: Train model\n",
    "# Initialize and train Gaussian Naive Bayes model\n",
    "nb_model = GaussianNB()\n",
    "nb_model.fit(X_train, y_train)"
   ]
  },
  {
   "cell_type": "code",
   "execution_count": 17,
   "id": "07b0c251-2c8b-46d3-9a2f-eb859bda7c78",
   "metadata": {},
   "outputs": [],
   "source": [
    "# Step 7: Evaluate model\n",
    "# Make predictions on test set\n",
    "y_pred = nb_model.predict(X_test)"
   ]
  },
  {
   "cell_type": "code",
   "execution_count": 18,
   "id": "ba2fdfe2-2f74-44ef-bd05-da0aa409bc0f",
   "metadata": {},
   "outputs": [
    {
     "data": {
      "text/plain": [
       "array([1, 0, 1, 1, 0, 1, 1, 1, 1, 0, 0, 1, 0, 0, 1, 0, 1, 1, 1, 0, 1, 1,\n",
       "       0, 1, 0, 1, 1, 1, 0, 1, 0, 0, 1, 1, 0, 1, 1, 0, 1, 1, 0, 1, 0, 1,\n",
       "       0, 1, 1, 0, 0, 1, 1, 0, 1, 0, 1, 0, 1, 1, 1, 0, 0, 1, 1, 1, 1, 0,\n",
       "       0, 0, 1, 1, 1, 1, 0, 1, 1, 0, 1, 0, 1, 0, 0, 1, 1, 1, 0, 1, 0, 0,\n",
       "       1, 0, 1, 1, 1, 0, 0, 1, 0, 0, 0, 1], dtype=int64)"
      ]
     },
     "execution_count": 18,
     "metadata": {},
     "output_type": "execute_result"
    }
   ],
   "source": [
    "y_pred"
   ]
  },
  {
   "cell_type": "code",
   "execution_count": 19,
   "id": "0c733e68-119a-4a14-95eb-c9e3d365c234",
   "metadata": {},
   "outputs": [
    {
     "name": "stdout",
     "output_type": "stream",
     "text": [
      "\n",
      "Initial Model Accuracy: 0.83\n",
      "\n",
      "Classification Report:\n",
      "              precision    recall  f1-score   support\n",
      "\n",
      "           0       0.90      0.75      0.82        51\n",
      "           1       0.78      0.92      0.84        49\n",
      "\n",
      "    accuracy                           0.83       100\n",
      "   macro avg       0.84      0.83      0.83       100\n",
      "weighted avg       0.84      0.83      0.83       100\n",
      "\n"
     ]
    },
    {
     "data": {
      "image/png": "[encoded data removed]",
      "text/plain": [
       "<Figure size 600x400 with 2 Axes>"
      ]
     },
     "metadata": {},
     "output_type": "display_data"
    }
   ],
   "source": [
    "# Calculate accuracy\n",
    "accuracy = accuracy_score(y_test, y_pred)\n",
    "print(\"\\nInitial Model Accuracy:\", accuracy)\n",
    "\n",
    "# Print classification report\n",
    "print(\"\\nClassification Report:\")\n",
    "print(classification_report(y_test, y_pred))\n",
    "\n",
    "# Create and plot confusion matrix\n",
    "cm = confusion_matrix(y_test, y_pred)\n",
    "plt.figure(figsize=(6, 4))\n",
    "sns.heatmap(cm, annot=True, fmt='d', cmap='Blues')\n",
    "plt.title('Confusion Matrix')\n",
    "plt.ylabel('True Label')\n",
    "plt.xlabel('Predicted Label')\n",
    "plt.savefig('confusion_matrix.png')\n",
    "plt.show()"
   ]
  },
  {
   "cell_type": "code",
   "execution_count": 20,
   "id": "0e1df716-ed9c-4793-9789-cee7bd4b4921",
   "metadata": {},
   "outputs": [
    {
     "name": "stdout",
     "output_type": "stream",
     "text": [
      "\n",
      "Best Parameters: {'var_smoothing': 1.0}\n",
      "Best Cross-validation Score: 0.8549999999999999\n"
     ]
    }
   ],
   "source": [
    "# Step 8: Tune hyperparameters\n",
    "# Define parameter grid for GaussianNB (var_smoothing is the main parameter to tune)\n",
    "param_grid = {\n",
    "    'var_smoothing': np.logspace(0, -9, num=10)\n",
    "}\n",
    "\n",
    "# Perform grid search\n",
    "grid_search = GridSearchCV(GaussianNB(), param_grid, cv=5, scoring='accuracy')\n",
    "grid_search.fit(X_train, y_train)\n",
    "\n",
    "# Get best model\n",
    "best_model = grid_search.best_estimator_\n",
    "print(\"\\nBest Parameters:\", grid_search.best_params_)\n",
    "print(\"Best Cross-validation Score:\", grid_search.best_score_)"
   ]
  },
  {
   "cell_type": "code",
   "execution_count": 21,
   "id": "27759de8-c206-45ce-851e-1c6e6fbad361",
   "metadata": {},
   "outputs": [
    {
     "name": "stdout",
     "output_type": "stream",
     "text": [
      "\n",
      "Tuned Model Accuracy: 0.83\n",
      "\n",
      "Tuned Model Classification Report:\n",
      "              precision    recall  f1-score   support\n",
      "\n",
      "           0       0.90      0.75      0.82        51\n",
      "           1       0.78      0.92      0.84        49\n",
      "\n",
      "    accuracy                           0.83       100\n",
      "   macro avg       0.84      0.83      0.83       100\n",
      "weighted avg       0.84      0.83      0.83       100\n",
      "\n"
     ]
    }
   ],
   "source": [
    "# Step 9: Evaluate tuned model\n",
    "# Make predictions with tuned model\n",
    "y_pred_tuned = best_model.predict(X_test)\n",
    "\n",
    "# Calculate accuracy for tuned model\n",
    "tuned_accuracy = accuracy_score(y_test, y_pred_tuned)\n",
    "print(\"\\nTuned Model Accuracy:\", tuned_accuracy)\n",
    "print(\"\\nTuned Model Classification Report:\")\n",
    "print(classification_report(y_test, y_pred_tuned))"
   ]
  },
  {
   "cell_type": "code",
   "execution_count": 22,
   "id": "11e2f9ab-a921-4720-b30d-f46d30bb37a0",
   "metadata": {},
   "outputs": [
    {
     "name": "stdout",
     "output_type": "stream",
     "text": [
      "\n",
      "Model, scaler, and label encoder saved successfully\n"
     ]
    }
   ],
   "source": [
    "# Step 10: Save model\n",
    "# Save the trained model, scaler, and label encoder\n",
    "joblib.dump(best_model, 'naive_bayes_model.pkl')\n",
    "joblib.dump(scaler, 'scaler.pkl')\n",
    "joblib.dump(le, 'label_encoder.pkl')\n",
    "print(\"\\nModel, scaler, and label encoder saved successfully\")"
   ]
  },
  {
   "cell_type": "code",
   "execution_count": 26,
   "id": "459ac197-723a-46c7-ac28-a02c466d56fa",
   "metadata": {},
   "outputs": [],
   "source": [
    "# Step 11: Test the model on unseen data\n",
    "# Create a sample unseen data point with the same features as training data\n",
    "unseen_data = pd.DataFrame({\n",
    "    'grade': ['D'],\n",
    "    'cgpa': [7.5],\n",
    "    'iq': [30],\n",
    "    'communication': [5],\n",
    "    'technical_knowledge': [7]\n",
    "})"
   ]
  },
  {
   "cell_type": "code",
   "execution_count": 27,
   "id": "c007c3f4-b5b4-4ce3-95d3-4a742f9a4688",
   "metadata": {},
   "outputs": [
    {
     "data": {
      "text/html": [
       "<div>\n",
       "<style scoped>\n",
       "    .dataframe tbody tr th:only-of-type {\n",
       "        vertical-align: middle;\n",
       "    }\n",
       "\n",
       "    .dataframe tbody tr th {\n",
       "        vertical-align: top;\n",
       "    }\n",
       "\n",
       "    .dataframe thead th {\n",
       "        text-align: right;\n",
       "    }\n",
       "</style>\n",
       "<table border=\"1\" class=\"dataframe\">\n",
       "  <thead>\n",
       "    <tr style=\"text-align: right;\">\n",
       "      <th></th>\n",
       "      <th>grade</th>\n",
       "      <th>cgpa</th>\n",
       "      <th>iq</th>\n",
       "      <th>communication</th>\n",
       "      <th>technical_knowledge</th>\n",
       "    </tr>\n",
       "  </thead>\n",
       "  <tbody>\n",
       "    <tr>\n",
       "      <th>0</th>\n",
       "      <td>D</td>\n",
       "      <td>7.5</td>\n",
       "      <td>30</td>\n",
       "      <td>5</td>\n",
       "      <td>7</td>\n",
       "    </tr>\n",
       "  </tbody>\n",
       "</table>\n",
       "</div>"
      ],
      "text/plain": [
       "  grade  cgpa  iq  communication  technical_knowledge\n",
       "0     D   7.5  30              5                    7"
      ]
     },
     "execution_count": 27,
     "metadata": {},
     "output_type": "execute_result"
    }
   ],
   "source": [
    "unseen_data"
   ]
  },
  {
   "cell_type": "code",
   "execution_count": 28,
   "id": "c5a7a916-a10d-461f-9692-7c881a16a67b",
   "metadata": {},
   "outputs": [
    {
     "name": "stdout",
     "output_type": "stream",
     "text": [
      "\n",
      "Prediction for unseen data: Not Placed\n",
      "Prediction Probability [Not Placed, Placed]: [0.92207082 0.07792918]\n"
     ]
    }
   ],
   "source": [
    "# Preprocess unseen data\n",
    "unseen_data['grade'] = le.transform(unseen_data['grade'])\n",
    "unseen_data_scaled = scaler.transform(unseen_data)\n",
    "\n",
    "# Make prediction on unseen data\n",
    "prediction = best_model.predict(unseen_data_scaled)\n",
    "print(\"\\nPrediction for unseen data:\", \"Placed\" if prediction[0] == 1 else \"Not Placed\")\n",
    "\n",
    "# Print prediction probability\n",
    "proba = best_model.predict_proba(unseen_data_scaled)\n",
    "print(\"Prediction Probability [Not Placed, Placed]:\", proba[0])"
   ]
  },
  {
   "cell_type": "code",
   "execution_count": null,
   "id": "b7858ba8-8706-4401-8b0b-03c535aef97f",
   "metadata": {},
   "outputs": [],
   "source": []
  }
 ],
 "metadata": {
  "kernelspec": {
   "display_name": "Python 3 (ipykernel)",
   "language": "python",
   "name": "python3"
  },
  "language_info": {
   "codemirror_mode": {
    "name": "ipython",
    "version": 3
   },
   "file_extension": ".py",
   "mimetype": "text/x-python",
   "name": "python",
   "nbconvert_exporter": "python",
   "pygments_lexer": "ipython3",
   "version": "3.11.7"
  }
 },
 "nbformat": 4,
 "nbformat_minor": 5
}
